{
  "cells": [
    {
      "cell_type": "code",
      "execution_count": 1,
      "id": "488f91f6-3cd6-4357-9c1b-6ce5ad9f4609",
      "metadata": {
        "id": "488f91f6-3cd6-4357-9c1b-6ce5ad9f4609"
      },
      "outputs": [],
      "source": [
        "import numpy as np\n",
        "import pandas as pd\n",
        "import matplotlib.pyplot as plt\n",
        "import plotly.express as px\n",
        "# import wandb\n",
        "\n",
        "import tensorflow as tf\n",
        "from tensorflow import keras\n",
        "from sklearn.model_selection import train_test_split, GridSearchCV, KFold\n",
        "from sklearn.preprocessing import MinMaxScaler\n",
        "from sklearn.metrics import mean_absolute_percentage_error\n",
        "from keras.layers import LSTM\n",
        "from keras.layers import Input, Dense, Dropout\n",
        "from keras import Model"
      ]
    },
    {
      "cell_type": "code",
      "source": [
        "!git clone https://github.com/Bara-Elba/Stock-prediction.git"
      ],
      "metadata": {
        "colab": {
          "base_uri": "https://localhost:8080/"
        },
        "id": "2i1rutbqtY6t",
        "outputId": "bc1ce46c-2f7e-4812-c41c-dd1c7cc48505"
      },
      "id": "2i1rutbqtY6t",
      "execution_count": 3,
      "outputs": [
        {
          "output_type": "stream",
          "name": "stdout",
          "text": [
            "Cloning into 'Stock-prediction'...\n",
            "remote: Enumerating objects: 16, done.\u001b[K\n",
            "remote: Counting objects: 100% (16/16), done.\u001b[K\n",
            "remote: Compressing objects: 100% (14/14), done.\u001b[K\n",
            "remote: Total 16 (delta 3), reused 9 (delta 1), pack-reused 0\u001b[K\n",
            "Receiving objects: 100% (16/16), 1.21 MiB | 8.51 MiB/s, done.\n",
            "Resolving deltas: 100% (3/3), done.\n"
          ]
        }
      ]
    },
    {
      "cell_type": "code",
      "source": [
        "!ls"
      ],
      "metadata": {
        "colab": {
          "base_uri": "https://localhost:8080/"
        },
        "id": "IZJDDTqBt7zK",
        "outputId": "03058ed2-9866-42ca-dbd5-88eb7cc2a19a"
      },
      "id": "IZJDDTqBt7zK",
      "execution_count": 4,
      "outputs": [
        {
          "output_type": "stream",
          "name": "stdout",
          "text": [
            "sample_data  Stock-prediction\n"
          ]
        }
      ]
    },
    {
      "cell_type": "markdown",
      "id": "b9db62c7-13bd-4bb8-b7fa-fa83675dd7a5",
      "metadata": {
        "id": "b9db62c7-13bd-4bb8-b7fa-fa83675dd7a5"
      },
      "source": [
        "# Workflow :\n",
        "### 1- read and clean the data\n",
        "### 2- Visualize the data\n",
        "### 3- split to train and test datasets\n",
        "### 4- build and train an LSTM model\n",
        "### 5- Visualization of the results"
      ]
    },
    {
      "cell_type": "code",
      "execution_count": 6,
      "id": "5a136c53-bcb3-418a-a1e7-cde765e7148c",
      "metadata": {
        "id": "5a136c53-bcb3-418a-a1e7-cde765e7148c"
      },
      "outputs": [],
      "source": [
        "df = pd.read_csv('/content/Stock-prediction/Gold Price (2013-2023).csv')"
      ]
    },
    {
      "cell_type": "code",
      "execution_count": 7,
      "id": "dbf3d61e-ea15-426d-92d5-a976e5420104",
      "metadata": {
        "colab": {
          "base_uri": "https://localhost:8080/",
          "height": 206
        },
        "id": "dbf3d61e-ea15-426d-92d5-a976e5420104",
        "outputId": "eeb50fab-5f2f-4f6f-f02e-0442ac451ec9"
      },
      "outputs": [
        {
          "output_type": "execute_result",
          "data": {
            "text/plain": [
              "         Date     Price      Open      High       Low     Vol. Change %\n",
              "0  12/30/2022  1,826.20  1,821.80  1,832.40  1,819.80  107.50K    0.01%\n",
              "1  12/29/2022  1,826.00  1,812.30  1,827.30  1,811.20  105.99K    0.56%\n",
              "2  12/28/2022  1,815.80  1,822.40  1,822.80  1,804.20  118.08K   -0.40%\n",
              "3  12/27/2022  1,823.10  1,808.20  1,841.90  1,808.00  159.62K    0.74%\n",
              "4  12/26/2022  1,809.70  1,805.80  1,811.95  1,805.55      NaN    0.30%"
            ],
            "text/html": [
              "\n",
              "  <div id=\"df-fa05d306-1a2b-4b95-a2b8-95fda7c7d006\" class=\"colab-df-container\">\n",
              "    <div>\n",
              "<style scoped>\n",
              "    .dataframe tbody tr th:only-of-type {\n",
              "        vertical-align: middle;\n",
              "    }\n",
              "\n",
              "    .dataframe tbody tr th {\n",
              "        vertical-align: top;\n",
              "    }\n",
              "\n",
              "    .dataframe thead th {\n",
              "        text-align: right;\n",
              "    }\n",
              "</style>\n",
              "<table border=\"1\" class=\"dataframe\">\n",
              "  <thead>\n",
              "    <tr style=\"text-align: right;\">\n",
              "      <th></th>\n",
              "      <th>Date</th>\n",
              "      <th>Price</th>\n",
              "      <th>Open</th>\n",
              "      <th>High</th>\n",
              "      <th>Low</th>\n",
              "      <th>Vol.</th>\n",
              "      <th>Change %</th>\n",
              "    </tr>\n",
              "  </thead>\n",
              "  <tbody>\n",
              "    <tr>\n",
              "      <th>0</th>\n",
              "      <td>12/30/2022</td>\n",
              "      <td>1,826.20</td>\n",
              "      <td>1,821.80</td>\n",
              "      <td>1,832.40</td>\n",
              "      <td>1,819.80</td>\n",
              "      <td>107.50K</td>\n",
              "      <td>0.01%</td>\n",
              "    </tr>\n",
              "    <tr>\n",
              "      <th>1</th>\n",
              "      <td>12/29/2022</td>\n",
              "      <td>1,826.00</td>\n",
              "      <td>1,812.30</td>\n",
              "      <td>1,827.30</td>\n",
              "      <td>1,811.20</td>\n",
              "      <td>105.99K</td>\n",
              "      <td>0.56%</td>\n",
              "    </tr>\n",
              "    <tr>\n",
              "      <th>2</th>\n",
              "      <td>12/28/2022</td>\n",
              "      <td>1,815.80</td>\n",
              "      <td>1,822.40</td>\n",
              "      <td>1,822.80</td>\n",
              "      <td>1,804.20</td>\n",
              "      <td>118.08K</td>\n",
              "      <td>-0.40%</td>\n",
              "    </tr>\n",
              "    <tr>\n",
              "      <th>3</th>\n",
              "      <td>12/27/2022</td>\n",
              "      <td>1,823.10</td>\n",
              "      <td>1,808.20</td>\n",
              "      <td>1,841.90</td>\n",
              "      <td>1,808.00</td>\n",
              "      <td>159.62K</td>\n",
              "      <td>0.74%</td>\n",
              "    </tr>\n",
              "    <tr>\n",
              "      <th>4</th>\n",
              "      <td>12/26/2022</td>\n",
              "      <td>1,809.70</td>\n",
              "      <td>1,805.80</td>\n",
              "      <td>1,811.95</td>\n",
              "      <td>1,805.55</td>\n",
              "      <td>NaN</td>\n",
              "      <td>0.30%</td>\n",
              "    </tr>\n",
              "  </tbody>\n",
              "</table>\n",
              "</div>\n",
              "    <div class=\"colab-df-buttons\">\n",
              "\n",
              "  <div class=\"colab-df-container\">\n",
              "    <button class=\"colab-df-convert\" onclick=\"convertToInteractive('df-fa05d306-1a2b-4b95-a2b8-95fda7c7d006')\"\n",
              "            title=\"Convert this dataframe to an interactive table.\"\n",
              "            style=\"display:none;\">\n",
              "\n",
              "  <svg xmlns=\"http://www.w3.org/2000/svg\" height=\"24px\" viewBox=\"0 -960 960 960\">\n",
              "    <path d=\"M120-120v-720h720v720H120Zm60-500h600v-160H180v160Zm220 220h160v-160H400v160Zm0 220h160v-160H400v160ZM180-400h160v-160H180v160Zm440 0h160v-160H620v160ZM180-180h160v-160H180v160Zm440 0h160v-160H620v160Z\"/>\n",
              "  </svg>\n",
              "    </button>\n",
              "\n",
              "  <style>\n",
              "    .colab-df-container {\n",
              "      display:flex;\n",
              "      gap: 12px;\n",
              "    }\n",
              "\n",
              "    .colab-df-convert {\n",
              "      background-color: #E8F0FE;\n",
              "      border: none;\n",
              "      border-radius: 50%;\n",
              "      cursor: pointer;\n",
              "      display: none;\n",
              "      fill: #1967D2;\n",
              "      height: 32px;\n",
              "      padding: 0 0 0 0;\n",
              "      width: 32px;\n",
              "    }\n",
              "\n",
              "    .colab-df-convert:hover {\n",
              "      background-color: #E2EBFA;\n",
              "      box-shadow: 0px 1px 2px rgba(60, 64, 67, 0.3), 0px 1px 3px 1px rgba(60, 64, 67, 0.15);\n",
              "      fill: #174EA6;\n",
              "    }\n",
              "\n",
              "    .colab-df-buttons div {\n",
              "      margin-bottom: 4px;\n",
              "    }\n",
              "\n",
              "    [theme=dark] .colab-df-convert {\n",
              "      background-color: #3B4455;\n",
              "      fill: #D2E3FC;\n",
              "    }\n",
              "\n",
              "    [theme=dark] .colab-df-convert:hover {\n",
              "      background-color: #434B5C;\n",
              "      box-shadow: 0px 1px 3px 1px rgba(0, 0, 0, 0.15);\n",
              "      filter: drop-shadow(0px 1px 2px rgba(0, 0, 0, 0.3));\n",
              "      fill: #FFFFFF;\n",
              "    }\n",
              "  </style>\n",
              "\n",
              "    <script>\n",
              "      const buttonEl =\n",
              "        document.querySelector('#df-fa05d306-1a2b-4b95-a2b8-95fda7c7d006 button.colab-df-convert');\n",
              "      buttonEl.style.display =\n",
              "        google.colab.kernel.accessAllowed ? 'block' : 'none';\n",
              "\n",
              "      async function convertToInteractive(key) {\n",
              "        const element = document.querySelector('#df-fa05d306-1a2b-4b95-a2b8-95fda7c7d006');\n",
              "        const dataTable =\n",
              "          await google.colab.kernel.invokeFunction('convertToInteractive',\n",
              "                                                    [key], {});\n",
              "        if (!dataTable) return;\n",
              "\n",
              "        const docLinkHtml = 'Like what you see? Visit the ' +\n",
              "          '<a target=\"_blank\" href=https://colab.research.google.com/notebooks/data_table.ipynb>data table notebook</a>'\n",
              "          + ' to learn more about interactive tables.';\n",
              "        element.innerHTML = '';\n",
              "        dataTable['output_type'] = 'display_data';\n",
              "        await google.colab.output.renderOutput(dataTable, element);\n",
              "        const docLink = document.createElement('div');\n",
              "        docLink.innerHTML = docLinkHtml;\n",
              "        element.appendChild(docLink);\n",
              "      }\n",
              "    </script>\n",
              "  </div>\n",
              "\n",
              "\n",
              "<div id=\"df-f1dbb1db-7724-4676-a1b4-040cd20d4849\">\n",
              "  <button class=\"colab-df-quickchart\" onclick=\"quickchart('df-f1dbb1db-7724-4676-a1b4-040cd20d4849')\"\n",
              "            title=\"Suggest charts\"\n",
              "            style=\"display:none;\">\n",
              "\n",
              "<svg xmlns=\"http://www.w3.org/2000/svg\" height=\"24px\"viewBox=\"0 0 24 24\"\n",
              "     width=\"24px\">\n",
              "    <g>\n",
              "        <path d=\"M19 3H5c-1.1 0-2 .9-2 2v14c0 1.1.9 2 2 2h14c1.1 0 2-.9 2-2V5c0-1.1-.9-2-2-2zM9 17H7v-7h2v7zm4 0h-2V7h2v10zm4 0h-2v-4h2v4z\"/>\n",
              "    </g>\n",
              "</svg>\n",
              "  </button>\n",
              "\n",
              "<style>\n",
              "  .colab-df-quickchart {\n",
              "      --bg-color: #E8F0FE;\n",
              "      --fill-color: #1967D2;\n",
              "      --hover-bg-color: #E2EBFA;\n",
              "      --hover-fill-color: #174EA6;\n",
              "      --disabled-fill-color: #AAA;\n",
              "      --disabled-bg-color: #DDD;\n",
              "  }\n",
              "\n",
              "  [theme=dark] .colab-df-quickchart {\n",
              "      --bg-color: #3B4455;\n",
              "      --fill-color: #D2E3FC;\n",
              "      --hover-bg-color: #434B5C;\n",
              "      --hover-fill-color: #FFFFFF;\n",
              "      --disabled-bg-color: #3B4455;\n",
              "      --disabled-fill-color: #666;\n",
              "  }\n",
              "\n",
              "  .colab-df-quickchart {\n",
              "    background-color: var(--bg-color);\n",
              "    border: none;\n",
              "    border-radius: 50%;\n",
              "    cursor: pointer;\n",
              "    display: none;\n",
              "    fill: var(--fill-color);\n",
              "    height: 32px;\n",
              "    padding: 0;\n",
              "    width: 32px;\n",
              "  }\n",
              "\n",
              "  .colab-df-quickchart:hover {\n",
              "    background-color: var(--hover-bg-color);\n",
              "    box-shadow: 0 1px 2px rgba(60, 64, 67, 0.3), 0 1px 3px 1px rgba(60, 64, 67, 0.15);\n",
              "    fill: var(--button-hover-fill-color);\n",
              "  }\n",
              "\n",
              "  .colab-df-quickchart-complete:disabled,\n",
              "  .colab-df-quickchart-complete:disabled:hover {\n",
              "    background-color: var(--disabled-bg-color);\n",
              "    fill: var(--disabled-fill-color);\n",
              "    box-shadow: none;\n",
              "  }\n",
              "\n",
              "  .colab-df-spinner {\n",
              "    border: 2px solid var(--fill-color);\n",
              "    border-color: transparent;\n",
              "    border-bottom-color: var(--fill-color);\n",
              "    animation:\n",
              "      spin 1s steps(1) infinite;\n",
              "  }\n",
              "\n",
              "  @keyframes spin {\n",
              "    0% {\n",
              "      border-color: transparent;\n",
              "      border-bottom-color: var(--fill-color);\n",
              "      border-left-color: var(--fill-color);\n",
              "    }\n",
              "    20% {\n",
              "      border-color: transparent;\n",
              "      border-left-color: var(--fill-color);\n",
              "      border-top-color: var(--fill-color);\n",
              "    }\n",
              "    30% {\n",
              "      border-color: transparent;\n",
              "      border-left-color: var(--fill-color);\n",
              "      border-top-color: var(--fill-color);\n",
              "      border-right-color: var(--fill-color);\n",
              "    }\n",
              "    40% {\n",
              "      border-color: transparent;\n",
              "      border-right-color: var(--fill-color);\n",
              "      border-top-color: var(--fill-color);\n",
              "    }\n",
              "    60% {\n",
              "      border-color: transparent;\n",
              "      border-right-color: var(--fill-color);\n",
              "    }\n",
              "    80% {\n",
              "      border-color: transparent;\n",
              "      border-right-color: var(--fill-color);\n",
              "      border-bottom-color: var(--fill-color);\n",
              "    }\n",
              "    90% {\n",
              "      border-color: transparent;\n",
              "      border-bottom-color: var(--fill-color);\n",
              "    }\n",
              "  }\n",
              "</style>\n",
              "\n",
              "  <script>\n",
              "    async function quickchart(key) {\n",
              "      const quickchartButtonEl =\n",
              "        document.querySelector('#' + key + ' button');\n",
              "      quickchartButtonEl.disabled = true;  // To prevent multiple clicks.\n",
              "      quickchartButtonEl.classList.add('colab-df-spinner');\n",
              "      try {\n",
              "        const charts = await google.colab.kernel.invokeFunction(\n",
              "            'suggestCharts', [key], {});\n",
              "      } catch (error) {\n",
              "        console.error('Error during call to suggestCharts:', error);\n",
              "      }\n",
              "      quickchartButtonEl.classList.remove('colab-df-spinner');\n",
              "      quickchartButtonEl.classList.add('colab-df-quickchart-complete');\n",
              "    }\n",
              "    (() => {\n",
              "      let quickchartButtonEl =\n",
              "        document.querySelector('#df-f1dbb1db-7724-4676-a1b4-040cd20d4849 button');\n",
              "      quickchartButtonEl.style.display =\n",
              "        google.colab.kernel.accessAllowed ? 'block' : 'none';\n",
              "    })();\n",
              "  </script>\n",
              "</div>\n",
              "    </div>\n",
              "  </div>\n"
            ],
            "application/vnd.google.colaboratory.intrinsic+json": {
              "type": "dataframe",
              "variable_name": "df",
              "summary": "{\n  \"name\": \"df\",\n  \"rows\": 2583,\n  \"fields\": [\n    {\n      \"column\": \"Date\",\n      \"properties\": {\n        \"dtype\": \"object\",\n        \"num_unique_values\": 2583,\n        \"samples\": [\n          \"12/16/2020\",\n          \"05/04/2022\",\n          \"07/11/2014\"\n        ],\n        \"semantic_type\": \"\",\n        \"description\": \"\"\n      }\n    },\n    {\n      \"column\": \"Price\",\n      \"properties\": {\n        \"dtype\": \"string\",\n        \"num_unique_values\": 2072,\n        \"samples\": [\n          \"1,163.70\",\n          \"1,514.70\",\n          \"1,589.20\"\n        ],\n        \"semantic_type\": \"\",\n        \"description\": \"\"\n      }\n    },\n    {\n      \"column\": \"Open\",\n      \"properties\": {\n        \"dtype\": \"string\",\n        \"num_unique_values\": 2061,\n        \"samples\": [\n          \"1,248.20\",\n          \"1,702.80\",\n          \"1,316.70\"\n        ],\n        \"semantic_type\": \"\",\n        \"description\": \"\"\n      }\n    },\n    {\n      \"column\": \"High\",\n      \"properties\": {\n        \"dtype\": \"string\",\n        \"num_unique_values\": 2044,\n        \"samples\": [\n          \"1,771.50\",\n          \"1,259.50\",\n          \"1,879.70\"\n        ],\n        \"semantic_type\": \"\",\n        \"description\": \"\"\n      }\n    },\n    {\n      \"column\": \"Low\",\n      \"properties\": {\n        \"dtype\": \"string\",\n        \"num_unique_values\": 2019,\n        \"samples\": [\n          \"1,129.60\",\n          \"1,970.20\",\n          \"1,766.60\"\n        ],\n        \"semantic_type\": \"\",\n        \"description\": \"\"\n      }\n    },\n    {\n      \"column\": \"Vol.\",\n      \"properties\": {\n        \"dtype\": \"string\",\n        \"num_unique_values\": 1550,\n        \"samples\": [\n          \"137.76K\",\n          \"154.82K\",\n          \"144.57K\"\n        ],\n        \"semantic_type\": \"\",\n        \"description\": \"\"\n      }\n    },\n    {\n      \"column\": \"Change %\",\n      \"properties\": {\n        \"dtype\": \"category\",\n        \"num_unique_values\": 474,\n        \"samples\": [\n          \"2.14%\",\n          \"-2.25%\",\n          \"-0.14%\"\n        ],\n        \"semantic_type\": \"\",\n        \"description\": \"\"\n      }\n    }\n  ]\n}"
            }
          },
          "metadata": {},
          "execution_count": 7
        }
      ],
      "source": [
        "df.head()"
      ]
    },
    {
      "cell_type": "code",
      "execution_count": 8,
      "id": "4d2051dc-4bff-4e9b-8332-6c3d299522b1",
      "metadata": {
        "colab": {
          "base_uri": "https://localhost:8080/"
        },
        "id": "4d2051dc-4bff-4e9b-8332-6c3d299522b1",
        "outputId": "91cf8067-83f2-471f-e35c-e09ce5e8747f"
      },
      "outputs": [
        {
          "output_type": "stream",
          "name": "stdout",
          "text": [
            "<class 'pandas.core.frame.DataFrame'>\n",
            "RangeIndex: 2583 entries, 0 to 2582\n",
            "Data columns (total 7 columns):\n",
            " #   Column    Non-Null Count  Dtype \n",
            "---  ------    --------------  ----- \n",
            " 0   Date      2583 non-null   object\n",
            " 1   Price     2583 non-null   object\n",
            " 2   Open      2583 non-null   object\n",
            " 3   High      2583 non-null   object\n",
            " 4   Low       2583 non-null   object\n",
            " 5   Vol.      2578 non-null   object\n",
            " 6   Change %  2583 non-null   object\n",
            "dtypes: object(7)\n",
            "memory usage: 141.4+ KB\n",
            "None\n"
          ]
        }
      ],
      "source": [
        "print(df.info())"
      ]
    },
    {
      "cell_type": "code",
      "execution_count": 9,
      "id": "22517bb0-d7f8-439a-9331-6b3f76a1f75b",
      "metadata": {
        "colab": {
          "base_uri": "https://localhost:8080/"
        },
        "id": "22517bb0-d7f8-439a-9331-6b3f76a1f75b",
        "outputId": "024aa688-60f3-4087-bb72-ab5cccc4330d"
      },
      "outputs": [
        {
          "output_type": "stream",
          "name": "stdout",
          "text": [
            "              Date     Price      Open      High       Low   Vol. Change %\n",
            "count         2583      2583      2583      2583      2583   2578     2583\n",
            "unique        2583      2072      2061      2044      2019   1550      474\n",
            "top     12/30/2022  1,294.30  1,284.00  1,220.00  1,314.00  0.02K    0.00%\n",
            "freq             1         5         5         6         5     48       29\n"
          ]
        }
      ],
      "source": [
        "print(df.describe())\n"
      ]
    },
    {
      "cell_type": "code",
      "execution_count": 10,
      "id": "8582f05e-ba0f-4604-95be-033be9a572fd",
      "metadata": {
        "id": "8582f05e-ba0f-4604-95be-033be9a572fd"
      },
      "outputs": [],
      "source": [
        "df.drop(columns=['Vol.','Change %'], inplace=True)"
      ]
    },
    {
      "cell_type": "code",
      "execution_count": 11,
      "id": "6a5a01ed-9fb6-405b-8c81-c20199cdb372",
      "metadata": {
        "colab": {
          "base_uri": "https://localhost:8080/",
          "height": 206
        },
        "id": "6a5a01ed-9fb6-405b-8c81-c20199cdb372",
        "outputId": "0d5820f8-7881-4142-f8ee-c82fc5552620"
      },
      "outputs": [
        {
          "output_type": "execute_result",
          "data": {
            "text/plain": [
              "         Date     Price      Open      High       Low\n",
              "0  12/30/2022  1,826.20  1,821.80  1,832.40  1,819.80\n",
              "1  12/29/2022  1,826.00  1,812.30  1,827.30  1,811.20\n",
              "2  12/28/2022  1,815.80  1,822.40  1,822.80  1,804.20\n",
              "3  12/27/2022  1,823.10  1,808.20  1,841.90  1,808.00\n",
              "4  12/26/2022  1,809.70  1,805.80  1,811.95  1,805.55"
            ],
            "text/html": [
              "\n",
              "  <div id=\"df-9dfe0df8-73fd-474d-9c11-43d61214bc4f\" class=\"colab-df-container\">\n",
              "    <div>\n",
              "<style scoped>\n",
              "    .dataframe tbody tr th:only-of-type {\n",
              "        vertical-align: middle;\n",
              "    }\n",
              "\n",
              "    .dataframe tbody tr th {\n",
              "        vertical-align: top;\n",
              "    }\n",
              "\n",
              "    .dataframe thead th {\n",
              "        text-align: right;\n",
              "    }\n",
              "</style>\n",
              "<table border=\"1\" class=\"dataframe\">\n",
              "  <thead>\n",
              "    <tr style=\"text-align: right;\">\n",
              "      <th></th>\n",
              "      <th>Date</th>\n",
              "      <th>Price</th>\n",
              "      <th>Open</th>\n",
              "      <th>High</th>\n",
              "      <th>Low</th>\n",
              "    </tr>\n",
              "  </thead>\n",
              "  <tbody>\n",
              "    <tr>\n",
              "      <th>0</th>\n",
              "      <td>12/30/2022</td>\n",
              "      <td>1,826.20</td>\n",
              "      <td>1,821.80</td>\n",
              "      <td>1,832.40</td>\n",
              "      <td>1,819.80</td>\n",
              "    </tr>\n",
              "    <tr>\n",
              "      <th>1</th>\n",
              "      <td>12/29/2022</td>\n",
              "      <td>1,826.00</td>\n",
              "      <td>1,812.30</td>\n",
              "      <td>1,827.30</td>\n",
              "      <td>1,811.20</td>\n",
              "    </tr>\n",
              "    <tr>\n",
              "      <th>2</th>\n",
              "      <td>12/28/2022</td>\n",
              "      <td>1,815.80</td>\n",
              "      <td>1,822.40</td>\n",
              "      <td>1,822.80</td>\n",
              "      <td>1,804.20</td>\n",
              "    </tr>\n",
              "    <tr>\n",
              "      <th>3</th>\n",
              "      <td>12/27/2022</td>\n",
              "      <td>1,823.10</td>\n",
              "      <td>1,808.20</td>\n",
              "      <td>1,841.90</td>\n",
              "      <td>1,808.00</td>\n",
              "    </tr>\n",
              "    <tr>\n",
              "      <th>4</th>\n",
              "      <td>12/26/2022</td>\n",
              "      <td>1,809.70</td>\n",
              "      <td>1,805.80</td>\n",
              "      <td>1,811.95</td>\n",
              "      <td>1,805.55</td>\n",
              "    </tr>\n",
              "  </tbody>\n",
              "</table>\n",
              "</div>\n",
              "    <div class=\"colab-df-buttons\">\n",
              "\n",
              "  <div class=\"colab-df-container\">\n",
              "    <button class=\"colab-df-convert\" onclick=\"convertToInteractive('df-9dfe0df8-73fd-474d-9c11-43d61214bc4f')\"\n",
              "            title=\"Convert this dataframe to an interactive table.\"\n",
              "            style=\"display:none;\">\n",
              "\n",
              "  <svg xmlns=\"http://www.w3.org/2000/svg\" height=\"24px\" viewBox=\"0 -960 960 960\">\n",
              "    <path d=\"M120-120v-720h720v720H120Zm60-500h600v-160H180v160Zm220 220h160v-160H400v160Zm0 220h160v-160H400v160ZM180-400h160v-160H180v160Zm440 0h160v-160H620v160ZM180-180h160v-160H180v160Zm440 0h160v-160H620v160Z\"/>\n",
              "  </svg>\n",
              "    </button>\n",
              "\n",
              "  <style>\n",
              "    .colab-df-container {\n",
              "      display:flex;\n",
              "      gap: 12px;\n",
              "    }\n",
              "\n",
              "    .colab-df-convert {\n",
              "      background-color: #E8F0FE;\n",
              "      border: none;\n",
              "      border-radius: 50%;\n",
              "      cursor: pointer;\n",
              "      display: none;\n",
              "      fill: #1967D2;\n",
              "      height: 32px;\n",
              "      padding: 0 0 0 0;\n",
              "      width: 32px;\n",
              "    }\n",
              "\n",
              "    .colab-df-convert:hover {\n",
              "      background-color: #E2EBFA;\n",
              "      box-shadow: 0px 1px 2px rgba(60, 64, 67, 0.3), 0px 1px 3px 1px rgba(60, 64, 67, 0.15);\n",
              "      fill: #174EA6;\n",
              "    }\n",
              "\n",
              "    .colab-df-buttons div {\n",
              "      margin-bottom: 4px;\n",
              "    }\n",
              "\n",
              "    [theme=dark] .colab-df-convert {\n",
              "      background-color: #3B4455;\n",
              "      fill: #D2E3FC;\n",
              "    }\n",
              "\n",
              "    [theme=dark] .colab-df-convert:hover {\n",
              "      background-color: #434B5C;\n",
              "      box-shadow: 0px 1px 3px 1px rgba(0, 0, 0, 0.15);\n",
              "      filter: drop-shadow(0px 1px 2px rgba(0, 0, 0, 0.3));\n",
              "      fill: #FFFFFF;\n",
              "    }\n",
              "  </style>\n",
              "\n",
              "    <script>\n",
              "      const buttonEl =\n",
              "        document.querySelector('#df-9dfe0df8-73fd-474d-9c11-43d61214bc4f button.colab-df-convert');\n",
              "      buttonEl.style.display =\n",
              "        google.colab.kernel.accessAllowed ? 'block' : 'none';\n",
              "\n",
              "      async function convertToInteractive(key) {\n",
              "        const element = document.querySelector('#df-9dfe0df8-73fd-474d-9c11-43d61214bc4f');\n",
              "        const dataTable =\n",
              "          await google.colab.kernel.invokeFunction('convertToInteractive',\n",
              "                                                    [key], {});\n",
              "        if (!dataTable) return;\n",
              "\n",
              "        const docLinkHtml = 'Like what you see? Visit the ' +\n",
              "          '<a target=\"_blank\" href=https://colab.research.google.com/notebooks/data_table.ipynb>data table notebook</a>'\n",
              "          + ' to learn more about interactive tables.';\n",
              "        element.innerHTML = '';\n",
              "        dataTable['output_type'] = 'display_data';\n",
              "        await google.colab.output.renderOutput(dataTable, element);\n",
              "        const docLink = document.createElement('div');\n",
              "        docLink.innerHTML = docLinkHtml;\n",
              "        element.appendChild(docLink);\n",
              "      }\n",
              "    </script>\n",
              "  </div>\n",
              "\n",
              "\n",
              "<div id=\"df-2d765305-b512-439f-bb45-0d1a0d3f6da7\">\n",
              "  <button class=\"colab-df-quickchart\" onclick=\"quickchart('df-2d765305-b512-439f-bb45-0d1a0d3f6da7')\"\n",
              "            title=\"Suggest charts\"\n",
              "            style=\"display:none;\">\n",
              "\n",
              "<svg xmlns=\"http://www.w3.org/2000/svg\" height=\"24px\"viewBox=\"0 0 24 24\"\n",
              "     width=\"24px\">\n",
              "    <g>\n",
              "        <path d=\"M19 3H5c-1.1 0-2 .9-2 2v14c0 1.1.9 2 2 2h14c1.1 0 2-.9 2-2V5c0-1.1-.9-2-2-2zM9 17H7v-7h2v7zm4 0h-2V7h2v10zm4 0h-2v-4h2v4z\"/>\n",
              "    </g>\n",
              "</svg>\n",
              "  </button>\n",
              "\n",
              "<style>\n",
              "  .colab-df-quickchart {\n",
              "      --bg-color: #E8F0FE;\n",
              "      --fill-color: #1967D2;\n",
              "      --hover-bg-color: #E2EBFA;\n",
              "      --hover-fill-color: #174EA6;\n",
              "      --disabled-fill-color: #AAA;\n",
              "      --disabled-bg-color: #DDD;\n",
              "  }\n",
              "\n",
              "  [theme=dark] .colab-df-quickchart {\n",
              "      --bg-color: #3B4455;\n",
              "      --fill-color: #D2E3FC;\n",
              "      --hover-bg-color: #434B5C;\n",
              "      --hover-fill-color: #FFFFFF;\n",
              "      --disabled-bg-color: #3B4455;\n",
              "      --disabled-fill-color: #666;\n",
              "  }\n",
              "\n",
              "  .colab-df-quickchart {\n",
              "    background-color: var(--bg-color);\n",
              "    border: none;\n",
              "    border-radius: 50%;\n",
              "    cursor: pointer;\n",
              "    display: none;\n",
              "    fill: var(--fill-color);\n",
              "    height: 32px;\n",
              "    padding: 0;\n",
              "    width: 32px;\n",
              "  }\n",
              "\n",
              "  .colab-df-quickchart:hover {\n",
              "    background-color: var(--hover-bg-color);\n",
              "    box-shadow: 0 1px 2px rgba(60, 64, 67, 0.3), 0 1px 3px 1px rgba(60, 64, 67, 0.15);\n",
              "    fill: var(--button-hover-fill-color);\n",
              "  }\n",
              "\n",
              "  .colab-df-quickchart-complete:disabled,\n",
              "  .colab-df-quickchart-complete:disabled:hover {\n",
              "    background-color: var(--disabled-bg-color);\n",
              "    fill: var(--disabled-fill-color);\n",
              "    box-shadow: none;\n",
              "  }\n",
              "\n",
              "  .colab-df-spinner {\n",
              "    border: 2px solid var(--fill-color);\n",
              "    border-color: transparent;\n",
              "    border-bottom-color: var(--fill-color);\n",
              "    animation:\n",
              "      spin 1s steps(1) infinite;\n",
              "  }\n",
              "\n",
              "  @keyframes spin {\n",
              "    0% {\n",
              "      border-color: transparent;\n",
              "      border-bottom-color: var(--fill-color);\n",
              "      border-left-color: var(--fill-color);\n",
              "    }\n",
              "    20% {\n",
              "      border-color: transparent;\n",
              "      border-left-color: var(--fill-color);\n",
              "      border-top-color: var(--fill-color);\n",
              "    }\n",
              "    30% {\n",
              "      border-color: transparent;\n",
              "      border-left-color: var(--fill-color);\n",
              "      border-top-color: var(--fill-color);\n",
              "      border-right-color: var(--fill-color);\n",
              "    }\n",
              "    40% {\n",
              "      border-color: transparent;\n",
              "      border-right-color: var(--fill-color);\n",
              "      border-top-color: var(--fill-color);\n",
              "    }\n",
              "    60% {\n",
              "      border-color: transparent;\n",
              "      border-right-color: var(--fill-color);\n",
              "    }\n",
              "    80% {\n",
              "      border-color: transparent;\n",
              "      border-right-color: var(--fill-color);\n",
              "      border-bottom-color: var(--fill-color);\n",
              "    }\n",
              "    90% {\n",
              "      border-color: transparent;\n",
              "      border-bottom-color: var(--fill-color);\n",
              "    }\n",
              "  }\n",
              "</style>\n",
              "\n",
              "  <script>\n",
              "    async function quickchart(key) {\n",
              "      const quickchartButtonEl =\n",
              "        document.querySelector('#' + key + ' button');\n",
              "      quickchartButtonEl.disabled = true;  // To prevent multiple clicks.\n",
              "      quickchartButtonEl.classList.add('colab-df-spinner');\n",
              "      try {\n",
              "        const charts = await google.colab.kernel.invokeFunction(\n",
              "            'suggestCharts', [key], {});\n",
              "      } catch (error) {\n",
              "        console.error('Error during call to suggestCharts:', error);\n",
              "      }\n",
              "      quickchartButtonEl.classList.remove('colab-df-spinner');\n",
              "      quickchartButtonEl.classList.add('colab-df-quickchart-complete');\n",
              "    }\n",
              "    (() => {\n",
              "      let quickchartButtonEl =\n",
              "        document.querySelector('#df-2d765305-b512-439f-bb45-0d1a0d3f6da7 button');\n",
              "      quickchartButtonEl.style.display =\n",
              "        google.colab.kernel.accessAllowed ? 'block' : 'none';\n",
              "    })();\n",
              "  </script>\n",
              "</div>\n",
              "    </div>\n",
              "  </div>\n"
            ],
            "application/vnd.google.colaboratory.intrinsic+json": {
              "type": "dataframe",
              "variable_name": "df",
              "summary": "{\n  \"name\": \"df\",\n  \"rows\": 2583,\n  \"fields\": [\n    {\n      \"column\": \"Date\",\n      \"properties\": {\n        \"dtype\": \"object\",\n        \"num_unique_values\": 2583,\n        \"samples\": [\n          \"12/16/2020\",\n          \"05/04/2022\",\n          \"07/11/2014\"\n        ],\n        \"semantic_type\": \"\",\n        \"description\": \"\"\n      }\n    },\n    {\n      \"column\": \"Price\",\n      \"properties\": {\n        \"dtype\": \"string\",\n        \"num_unique_values\": 2072,\n        \"samples\": [\n          \"1,163.70\",\n          \"1,514.70\",\n          \"1,589.20\"\n        ],\n        \"semantic_type\": \"\",\n        \"description\": \"\"\n      }\n    },\n    {\n      \"column\": \"Open\",\n      \"properties\": {\n        \"dtype\": \"string\",\n        \"num_unique_values\": 2061,\n        \"samples\": [\n          \"1,248.20\",\n          \"1,702.80\",\n          \"1,316.70\"\n        ],\n        \"semantic_type\": \"\",\n        \"description\": \"\"\n      }\n    },\n    {\n      \"column\": \"High\",\n      \"properties\": {\n        \"dtype\": \"string\",\n        \"num_unique_values\": 2044,\n        \"samples\": [\n          \"1,771.50\",\n          \"1,259.50\",\n          \"1,879.70\"\n        ],\n        \"semantic_type\": \"\",\n        \"description\": \"\"\n      }\n    },\n    {\n      \"column\": \"Low\",\n      \"properties\": {\n        \"dtype\": \"string\",\n        \"num_unique_values\": 2019,\n        \"samples\": [\n          \"1,129.60\",\n          \"1,970.20\",\n          \"1,766.60\"\n        ],\n        \"semantic_type\": \"\",\n        \"description\": \"\"\n      }\n    }\n  ]\n}"
            }
          },
          "metadata": {},
          "execution_count": 11
        }
      ],
      "source": [
        "df.head()"
      ]
    },
    {
      "cell_type": "code",
      "execution_count": 12,
      "id": "296c603d-a3d5-4b37-b148-7d84f6115561",
      "metadata": {
        "id": "296c603d-a3d5-4b37-b148-7d84f6115561"
      },
      "outputs": [],
      "source": [
        "df['Date'] = pd.to_datetime(df['Date'])\n",
        "df.sort_values(by=['Date'],ascending=True, inplace=True)\n",
        "df.reset_index(drop=True, inplace=True)"
      ]
    },
    {
      "cell_type": "code",
      "execution_count": 13,
      "id": "7f44ecc5-2ba8-4b3a-ae8d-d68bdece4925",
      "metadata": {
        "id": "7f44ecc5-2ba8-4b3a-ae8d-d68bdece4925"
      },
      "outputs": [],
      "source": [
        "df.replace(',','',regex=True, inplace=True)"
      ]
    },
    {
      "cell_type": "code",
      "execution_count": 14,
      "id": "d079cbb0-0125-4a59-9239-bd683a5b705d",
      "metadata": {
        "colab": {
          "base_uri": "https://localhost:8080/"
        },
        "id": "d079cbb0-0125-4a59-9239-bd683a5b705d",
        "outputId": "2feb1a40-fdd7-4f02-fbd1-09e5ee6e686e"
      },
      "outputs": [
        {
          "output_type": "stream",
          "name": "stdout",
          "text": [
            "<class 'pandas.core.frame.DataFrame'>\n",
            "RangeIndex: 2583 entries, 0 to 2582\n",
            "Data columns (total 5 columns):\n",
            " #   Column  Non-Null Count  Dtype         \n",
            "---  ------  --------------  -----         \n",
            " 0   Date    2583 non-null   datetime64[ns]\n",
            " 1   Price   2583 non-null   object        \n",
            " 2   Open    2583 non-null   object        \n",
            " 3   High    2583 non-null   object        \n",
            " 4   Low     2583 non-null   object        \n",
            "dtypes: datetime64[ns](1), object(4)\n",
            "memory usage: 101.0+ KB\n"
          ]
        }
      ],
      "source": [
        "df.info()"
      ]
    },
    {
      "cell_type": "code",
      "execution_count": 15,
      "id": "ebd2b0ac-c397-4375-a9ee-9065c9c1c167",
      "metadata": {
        "id": "ebd2b0ac-c397-4375-a9ee-9065c9c1c167"
      },
      "outputs": [],
      "source": [
        "df['Price'] = df['Price'].astype(float)\n",
        "df['Open'] = df['Open'].astype(float)\n",
        "df['High'] = df['High'].astype(float)\n",
        "df['Low'] = df['Low'].astype(float)"
      ]
    },
    {
      "cell_type": "code",
      "execution_count": 16,
      "id": "4af1aaf1-44f4-40b7-9cec-aca53a9b9c24",
      "metadata": {
        "colab": {
          "base_uri": "https://localhost:8080/",
          "height": 542
        },
        "id": "4af1aaf1-44f4-40b7-9cec-aca53a9b9c24",
        "outputId": "979e5af3-5803-48f1-f57f-9aa865f8e1b6"
      },
      "outputs": [
        {
          "output_type": "display_data",
          "data": {
            "text/html": [
              "<html>\n",
              "<head><meta charset=\"utf-8\" /></head>\n",
              "<body>\n",
              "    <div>            <script src=\"https://cdnjs.cloudflare.com/ajax/libs/mathjax/2.7.5/MathJax.js?config=TeX-AMS-MML_SVG\"></script><script type=\"text/javascript\">if (window.MathJax && window.MathJax.Hub && window.MathJax.Hub.Config) {window.MathJax.Hub.Config({SVG: {font: \"STIX-Web\"}});}</script>                <script type=\"text/javascript\">window.PlotlyConfig = {MathJaxConfig: 'local'};</script>\n",
              "        <script charset=\"utf-8\" src=\"https://cdn.plot.ly/plotly-2.24.1.min.js\"></script>                <div id=\"b4037667-c5c9-45fe-90c4-7aa4464a7ac0\" class=\"plotly-graph-div\" style=\"height:525px; width:100%;\"></div>            <script type=\"text/javascript\">                                    window.PLOTLYENV=window.PLOTLYENV || {};                                    if (document.getElementById(\"b4037667-c5c9-45fe-90c4-7aa4464a7ac0\")) {                    Plotly.newPlot(                        \"b4037667-c5c9-45fe-90c4-7aa4464a7ac0\",                        [{\"hovertemplate\":\"x=%{x}\\u003cbr\\u003ey=%{y}\\u003cextra\\u003e\\u003c\\u002fextra\\u003e\",\"legendgroup\":\"\",\"line\":{\"color\":\"black\",\"dash\":\"solid\"},\"marker\":{\"symbol\":\"circle\"},\"mode\":\"lines\",\"name\":\"\",\"showlegend\":false,\"x\":[\"2013-01-02T00:00:00\",\"2013-01-03T00:00:00\",\"2013-01-04T00:00:00\",\"2013-01-07T00:00:00\",\"2013-01-08T00:00:00\",\"2013-01-09T00:00:00\",\"2013-01-10T00:00:00\",\"2013-01-11T00:00:00\",\"2013-01-14T00:00:00\",\"2013-01-15T00:00:00\",\"2013-01-16T00:00:00\",\"2013-01-17T00:00:00\",\"2013-01-18T00:00:00\",\"2013-01-21T00:00:00\",\"2013-01-22T00:00:00\",\"2013-01-23T00:00:00\",\"2013-01-24T00:00:00\",\"2013-01-25T00:00:00\",\"2013-01-28T00:00:00\",\"2013-01-29T00:00:00\",\"2013-01-30T00:00:00\",\"2013-01-31T00:00:00\",\"2013-02-01T00:00:00\",\"2013-02-04T00:00:00\",\"2013-02-05T00:00:00\",\"2013-02-06T00:00:00\",\"2013-02-07T00:00:00\",\"2013-02-08T00:00:00\",\"2013-02-11T00:00:00\",\"2013-02-12T00:00:00\",\"2013-02-13T00:00:00\",\"2013-02-14T00:00:00\",\"2013-02-15T00:00:00\",\"2013-02-18T00:00:00\",\"2013-02-19T00:00:00\",\"2013-02-20T00:00:00\",\"2013-02-21T00:00:00\",\"2013-02-22T00:00:00\",\"2013-02-25T00:00:00\",\"2013-02-26T00:00:00\",\"2013-02-27T00:00:00\",\"2013-02-28T00:00:00\",\"2013-03-01T00:00:00\",\"2013-03-04T00:00:00\",\"2013-03-05T00:00:00\",\"2013-03-06T00:00:00\",\"2013-03-07T00:00:00\",\"2013-03-08T00:00:00\",\"2013-03-11T00:00:00\",\"2013-03-12T00:00:00\",\"2013-03-13T00:00:00\",\"2013-03-14T00:00:00\",\"2013-03-15T00:00:00\",\"2013-03-18T00:00:00\",\"2013-03-19T00:00:00\",\"2013-03-20T00:00:00\",\"2013-03-21T00:00:00\",\"2013-03-22T00:00:00\",\"2013-03-25T00:00:00\",\"2013-03-26T00:00:00\",\"2013-03-27T00:00:00\",\"2013-03-28T00:00:00\",\"2013-04-01T00:00:00\",\"2013-04-02T00:00:00\",\"2013-04-03T00:00:00\",\"2013-04-04T00:00:00\",\"2013-04-05T00:00:00\",\"2013-04-08T00:00:00\",\"2013-04-09T00:00:00\",\"2013-04-10T00:00:00\",\"2013-04-11T00:00:00\",\"2013-04-12T00:00:00\",\"2013-04-15T00:00:00\",\"2013-04-16T00:00:00\",\"2013-04-17T00:00:00\",\"2013-04-18T00:00:00\",\"2013-04-19T00:00:00\",\"2013-04-22T00:00:00\",\"2013-04-23T00:00:00\",\"2013-04-24T00:00:00\",\"2013-04-25T00:00:00\",\"2013-04-26T00:00:00\",\"2013-04-29T00:00:00\",\"2013-04-30T00:00:00\",\"2013-05-01T00:00:00\",\"2013-05-02T00:00:00\",\"2013-05-03T00:00:00\",\"2013-05-06T00:00:00\",\"2013-05-07T00:00:00\",\"2013-05-08T00:00:00\",\"2013-05-09T00:00:00\",\"2013-05-10T00:00:00\",\"2013-05-13T00:00:00\",\"2013-05-14T00:00:00\",\"2013-05-15T00:00:00\",\"2013-05-16T00:00:00\",\"2013-05-17T00:00:00\",\"2013-05-20T00:00:00\",\"2013-05-21T00:00:00\",\"2013-05-22T00:00:00\",\"2013-05-23T00:00:00\",\"2013-05-24T00:00:00\",\"2013-05-27T00:00:00\",\"2013-05-28T00:00:00\",\"2013-05-29T00:00:00\",\"2013-05-30T00:00:00\",\"2013-05-31T00:00:00\",\"2013-06-03T00:00:00\",\"2013-06-04T00:00:00\",\"2013-06-05T00:00:00\",\"2013-06-06T00:00:00\",\"2013-06-07T00:00:00\",\"2013-06-10T00:00:00\",\"2013-06-11T00:00:00\",\"2013-06-12T00:00:00\",\"2013-06-13T00:00:00\",\"2013-06-14T00:00:00\",\"2013-06-17T00:00:00\",\"2013-06-18T00:00:00\",\"2013-06-19T00:00:00\",\"2013-06-20T00:00:00\",\"2013-06-21T00:00:00\",\"2013-06-24T00:00:00\",\"2013-06-25T00:00:00\",\"2013-06-26T00:00:00\",\"2013-06-27T00:00:00\",\"2013-06-28T00:00:00\",\"2013-07-01T00:00:00\",\"2013-07-02T00:00:00\",\"2013-07-03T00:00:00\",\"2013-07-04T00:00:00\",\"2013-07-05T00:00:00\",\"2013-07-08T00:00:00\",\"2013-07-09T00:00:00\",\"2013-07-10T00:00:00\",\"2013-07-11T00:00:00\",\"2013-07-12T00:00:00\",\"2013-07-15T00:00:00\",\"2013-07-16T00:00:00\",\"2013-07-17T00:00:00\",\"2013-07-18T00:00:00\",\"2013-07-19T00:00:00\",\"2013-07-22T00:00:00\",\"2013-07-23T00:00:00\",\"2013-07-24T00:00:00\",\"2013-07-25T00:00:00\",\"2013-07-26T00:00:00\",\"2013-07-29T00:00:00\",\"2013-07-30T00:00:00\",\"2013-07-31T00:00:00\",\"2013-08-01T00:00:00\",\"2013-08-02T00:00:00\",\"2013-08-05T00:00:00\",\"2013-08-06T00:00:00\",\"2013-08-07T00:00:00\",\"2013-08-08T00:00:00\",\"2013-08-09T00:00:00\",\"2013-08-12T00:00:00\",\"2013-08-13T00:00:00\",\"2013-08-14T00:00:00\",\"2013-08-15T00:00:00\",\"2013-08-16T00:00:00\",\"2013-08-19T00:00:00\",\"2013-08-20T00:00:00\",\"2013-08-21T00:00:00\",\"2013-08-22T00:00:00\",\"2013-08-23T00:00:00\",\"2013-08-26T00:00:00\",\"2013-08-27T00:00:00\",\"2013-08-28T00:00:00\",\"2013-08-29T00:00:00\",\"2013-08-30T00:00:00\",\"2013-09-02T00:00:00\",\"2013-09-03T00:00:00\",\"2013-09-04T00:00:00\",\"2013-09-05T00:00:00\",\"2013-09-06T00:00:00\",\"2013-09-09T00:00:00\",\"2013-09-10T00:00:00\",\"2013-09-11T00:00:00\",\"2013-09-12T00:00:00\",\"2013-09-13T00:00:00\",\"2013-09-16T00:00:00\",\"2013-09-17T00:00:00\",\"2013-09-18T00:00:00\",\"2013-09-19T00:00:00\",\"2013-09-20T00:00:00\",\"2013-09-23T00:00:00\",\"2013-09-24T00:00:00\",\"2013-09-25T00:00:00\",\"2013-09-26T00:00:00\",\"2013-09-27T00:00:00\",\"2013-09-30T00:00:00\",\"2013-10-01T00:00:00\",\"2013-10-02T00:00:00\",\"2013-10-03T00:00:00\",\"2013-10-04T00:00:00\",\"2013-10-07T00:00:00\",\"2013-10-08T00:00:00\",\"2013-10-09T00:00:00\",\"2013-10-10T00:00:00\",\"2013-10-11T00:00:00\",\"2013-10-14T00:00:00\",\"2013-10-15T00:00:00\",\"2013-10-16T00:00:00\",\"2013-10-17T00:00:00\",\"2013-10-18T00:00:00\",\"2013-10-21T00:00:00\",\"2013-10-22T00:00:00\",\"2013-10-23T00:00:00\",\"2013-10-24T00:00:00\",\"2013-10-25T00:00:00\",\"2013-10-28T00:00:00\",\"2013-10-29T00:00:00\",\"2013-10-30T00:00:00\",\"2013-10-31T00:00:00\",\"2013-11-01T00:00:00\",\"2013-11-04T00:00:00\",\"2013-11-05T00:00:00\",\"2013-11-06T00:00:00\",\"2013-11-07T00:00:00\",\"2013-11-08T00:00:00\",\"2013-11-11T00:00:00\",\"2013-11-12T00:00:00\",\"2013-11-13T00:00:00\",\"2013-11-14T00:00:00\",\"2013-11-15T00:00:00\",\"2013-11-18T00:00:00\",\"2013-11-19T00:00:00\",\"2013-11-20T00:00:00\",\"2013-11-21T00:00:00\",\"2013-11-22T00:00:00\",\"2013-11-25T00:00:00\",\"2013-11-26T00:00:00\",\"2013-11-27T00:00:00\",\"2013-11-28T00:00:00\",\"2013-11-29T00:00:00\",\"2013-12-02T00:00:00\",\"2013-12-03T00:00:00\",\"2013-12-04T00:00:00\",\"2013-12-05T00:00:00\",\"2013-12-06T00:00:00\",\"2013-12-09T00:00:00\",\"2013-12-10T00:00:00\",\"2013-12-11T00:00:00\",\"2013-12-12T00:00:00\",\"2013-12-13T00:00:00\",\"2013-12-16T00:00:00\",\"2013-12-17T00:00:00\",\"2013-12-18T00:00:00\",\"2013-12-19T00:00:00\",\"2013-12-20T00:00:00\",\"2013-12-23T00:00:00\",\"2013-12-24T00:00:00\",\"2013-12-26T00:00:00\",\"2013-12-27T00:00:00\",\"2013-12-30T00:00:00\",\"2013-12-31T00:00:00\",\"2014-01-02T00:00:00\",\"2014-01-03T00:00:00\",\"2014-01-06T00:00:00\",\"2014-01-07T00:00:00\",\"2014-01-08T00:00:00\",\"2014-01-09T00:00:00\",\"2014-01-10T00:00:00\",\"2014-01-13T00:00:00\",\"2014-01-14T00:00:00\",\"2014-01-15T00:00:00\",\"2014-01-16T00:00:00\",\"2014-01-17T00:00:00\",\"2014-01-20T00:00:00\",\"2014-01-21T00:00:00\",\"2014-01-22T00:00:00\",\"2014-01-23T00:00:00\",\"2014-01-24T00:00:00\",\"2014-01-27T00:00:00\",\"2014-01-28T00:00:00\",\"2014-01-29T00:00:00\",\"2014-01-30T00:00:00\",\"2014-01-31T00:00:00\",\"2014-02-03T00:00:00\",\"2014-02-04T00:00:00\",\"2014-02-05T00:00:00\",\"2014-02-06T00:00:00\",\"2014-02-07T00:00:00\",\"2014-02-10T00:00:00\",\"2014-02-11T00:00:00\",\"2014-02-12T00:00:00\",\"2014-02-13T00:00:00\",\"2014-02-14T00:00:00\",\"2014-02-17T00:00:00\",\"2014-02-18T00:00:00\",\"2014-02-19T00:00:00\",\"2014-02-20T00:00:00\",\"2014-02-21T00:00:00\",\"2014-02-24T00:00:00\",\"2014-02-25T00:00:00\",\"2014-02-26T00:00:00\",\"2014-02-27T00:00:00\",\"2014-02-28T00:00:00\",\"2014-03-03T00:00:00\",\"2014-03-04T00:00:00\",\"2014-03-05T00:00:00\",\"2014-03-06T00:00:00\",\"2014-03-07T00:00:00\",\"2014-03-10T00:00:00\",\"2014-03-11T00:00:00\",\"2014-03-12T00:00:00\",\"2014-03-13T00:00:00\",\"2014-03-14T00:00:00\",\"2014-03-17T00:00:00\",\"2014-03-18T00:00:00\",\"2014-03-19T00:00:00\",\"2014-03-20T00:00:00\",\"2014-03-21T00:00:00\",\"2014-03-24T00:00:00\",\"2014-03-25T00:00:00\",\"2014-03-26T00:00:00\",\"2014-03-27T00:00:00\",\"2014-03-28T00:00:00\",\"2014-03-31T00:00:00\",\"2014-04-01T00:00:00\",\"2014-04-02T00:00:00\",\"2014-04-03T00:00:00\",\"2014-04-04T00:00:00\",\"2014-04-07T00:00:00\",\"2014-04-08T00:00:00\",\"2014-04-09T00:00:00\",\"2014-04-10T00:00:00\",\"2014-04-11T00:00:00\",\"2014-04-14T00:00:00\",\"2014-04-15T00:00:00\",\"2014-04-16T00:00:00\",\"2014-04-17T00:00:00\",\"2014-04-21T00:00:00\",\"2014-04-22T00:00:00\",\"2014-04-23T00:00:00\",\"2014-04-24T00:00:00\",\"2014-04-25T00:00:00\",\"2014-04-28T00:00:00\",\"2014-04-29T00:00:00\",\"2014-04-30T00:00:00\",\"2014-05-01T00:00:00\",\"2014-05-02T00:00:00\",\"2014-05-05T00:00:00\",\"2014-05-06T00:00:00\",\"2014-05-07T00:00:00\",\"2014-05-08T00:00:00\",\"2014-05-09T00:00:00\",\"2014-05-12T00:00:00\",\"2014-05-13T00:00:00\",\"2014-05-14T00:00:00\",\"2014-05-15T00:00:00\",\"2014-05-16T00:00:00\",\"2014-05-19T00:00:00\",\"2014-05-20T00:00:00\",\"2014-05-21T00:00:00\",\"2014-05-22T00:00:00\",\"2014-05-23T00:00:00\",\"2014-05-26T00:00:00\",\"2014-05-27T00:00:00\",\"2014-05-28T00:00:00\",\"2014-05-29T00:00:00\",\"2014-05-30T00:00:00\",\"2014-06-02T00:00:00\",\"2014-06-03T00:00:00\",\"2014-06-04T00:00:00\",\"2014-06-05T00:00:00\",\"2014-06-06T00:00:00\",\"2014-06-09T00:00:00\",\"2014-06-10T00:00:00\",\"2014-06-11T00:00:00\",\"2014-06-12T00:00:00\",\"2014-06-13T00:00:00\",\"2014-06-16T00:00:00\",\"2014-06-17T00:00:00\",\"2014-06-18T00:00:00\",\"2014-06-19T00:00:00\",\"2014-06-20T00:00:00\",\"2014-06-23T00:00:00\",\"2014-06-24T00:00:00\",\"2014-06-25T00:00:00\",\"2014-06-26T00:00:00\",\"2014-06-27T00:00:00\",\"2014-06-30T00:00:00\",\"2014-07-01T00:00:00\",\"2014-07-02T00:00:00\",\"2014-07-03T00:00:00\",\"2014-07-04T00:00:00\",\"2014-07-07T00:00:00\",\"2014-07-08T00:00:00\",\"2014-07-09T00:00:00\",\"2014-07-10T00:00:00\",\"2014-07-11T00:00:00\",\"2014-07-14T00:00:00\",\"2014-07-15T00:00:00\",\"2014-07-16T00:00:00\",\"2014-07-17T00:00:00\",\"2014-07-18T00:00:00\",\"2014-07-21T00:00:00\",\"2014-07-22T00:00:00\",\"2014-07-23T00:00:00\",\"2014-07-24T00:00:00\",\"2014-07-25T00:00:00\",\"2014-07-28T00:00:00\",\"2014-07-29T00:00:00\",\"2014-07-30T00:00:00\",\"2014-07-31T00:00:00\",\"2014-08-01T00:00:00\",\"2014-08-04T00:00:00\",\"2014-08-05T00:00:00\",\"2014-08-06T00:00:00\",\"2014-08-07T00:00:00\",\"2014-08-08T00:00:00\",\"2014-08-11T00:00:00\",\"2014-08-12T00:00:00\",\"2014-08-13T00:00:00\",\"2014-08-14T00:00:00\",\"2014-08-15T00:00:00\",\"2014-08-18T00:00:00\",\"2014-08-19T00:00:00\",\"2014-08-20T00:00:00\",\"2014-08-21T00:00:00\",\"2014-08-22T00:00:00\",\"2014-08-25T00:00:00\",\"2014-08-26T00:00:00\",\"2014-08-27T00:00:00\",\"2014-08-28T00:00:00\",\"2014-08-29T00:00:00\",\"2014-09-01T00:00:00\",\"2014-09-02T00:00:00\",\"2014-09-03T00:00:00\",\"2014-09-04T00:00:00\",\"2014-09-05T00:00:00\",\"2014-09-08T00:00:00\",\"2014-09-09T00:00:00\",\"2014-09-10T00:00:00\",\"2014-09-11T00:00:00\",\"2014-09-12T00:00:00\",\"2014-09-15T00:00:00\",\"2014-09-16T00:00:00\",\"2014-09-17T00:00:00\",\"2014-09-18T00:00:00\",\"2014-09-19T00:00:00\",\"2014-09-22T00:00:00\",\"2014-09-23T00:00:00\",\"2014-09-24T00:00:00\",\"2014-09-25T00:00:00\",\"2014-09-26T00:00:00\",\"2014-09-29T00:00:00\",\"2014-09-30T00:00:00\",\"2014-10-01T00:00:00\",\"2014-10-02T00:00:00\",\"2014-10-03T00:00:00\",\"2014-10-06T00:00:00\",\"2014-10-07T00:00:00\",\"2014-10-08T00:00:00\",\"2014-10-09T00:00:00\",\"2014-10-10T00:00:00\",\"2014-10-13T00:00:00\",\"2014-10-14T00:00:00\",\"2014-10-15T00:00:00\",\"2014-10-16T00:00:00\",\"2014-10-17T00:00:00\",\"2014-10-20T00:00:00\",\"2014-10-21T00:00:00\",\"2014-10-22T00:00:00\",\"2014-10-23T00:00:00\",\"2014-10-24T00:00:00\",\"2014-10-27T00:00:00\",\"2014-10-28T00:00:00\",\"2014-10-29T00:00:00\",\"2014-10-30T00:00:00\",\"2014-10-31T00:00:00\",\"2014-11-03T00:00:00\",\"2014-11-04T00:00:00\",\"2014-11-05T00:00:00\",\"2014-11-06T00:00:00\",\"2014-11-07T00:00:00\",\"2014-11-10T00:00:00\",\"2014-11-11T00:00:00\",\"2014-11-12T00:00:00\",\"2014-11-13T00:00:00\",\"2014-11-14T00:00:00\",\"2014-11-17T00:00:00\",\"2014-11-18T00:00:00\",\"2014-11-19T00:00:00\",\"2014-11-20T00:00:00\",\"2014-11-21T00:00:00\",\"2014-11-24T00:00:00\",\"2014-11-25T00:00:00\",\"2014-11-26T00:00:00\",\"2014-11-27T00:00:00\",\"2014-11-28T00:00:00\",\"2014-12-01T00:00:00\",\"2014-12-02T00:00:00\",\"2014-12-03T00:00:00\",\"2014-12-04T00:00:00\",\"2014-12-05T00:00:00\",\"2014-12-08T00:00:00\",\"2014-12-09T00:00:00\",\"2014-12-10T00:00:00\",\"2014-12-11T00:00:00\",\"2014-12-12T00:00:00\",\"2014-12-15T00:00:00\",\"2014-12-16T00:00:00\",\"2014-12-17T00:00:00\",\"2014-12-18T00:00:00\",\"2014-12-19T00:00:00\",\"2014-12-22T00:00:00\",\"2014-12-23T00:00:00\",\"2014-12-24T00:00:00\",\"2014-12-26T00:00:00\",\"2014-12-29T00:00:00\",\"2014-12-30T00:00:00\",\"2014-12-31T00:00:00\",\"2015-01-02T00:00:00\",\"2015-01-05T00:00:00\",\"2015-01-06T00:00:00\",\"2015-01-07T00:00:00\",\"2015-01-08T00:00:00\",\"2015-01-09T00:00:00\",\"2015-01-12T00:00:00\",\"2015-01-13T00:00:00\",\"2015-01-14T00:00:00\",\"2015-01-15T00:00:00\",\"2015-01-16T00:00:00\",\"2015-01-19T00:00:00\",\"2015-01-20T00:00:00\",\"2015-01-21T00:00:00\",\"2015-01-22T00:00:00\",\"2015-01-23T00:00:00\",\"2015-01-26T00:00:00\",\"2015-01-27T00:00:00\",\"2015-01-28T00:00:00\",\"2015-01-29T00:00:00\",\"2015-01-30T00:00:00\",\"2015-02-02T00:00:00\",\"2015-02-03T00:00:00\",\"2015-02-04T00:00:00\",\"2015-02-05T00:00:00\",\"2015-02-06T00:00:00\",\"2015-02-09T00:00:00\",\"2015-02-10T00:00:00\",\"2015-02-11T00:00:00\",\"2015-02-12T00:00:00\",\"2015-02-13T00:00:00\",\"2015-02-16T00:00:00\",\"2015-02-17T00:00:00\",\"2015-02-18T00:00:00\",\"2015-02-19T00:00:00\",\"2015-02-20T00:00:00\",\"2015-02-23T00:00:00\",\"2015-02-24T00:00:00\",\"2015-02-25T00:00:00\",\"2015-02-26T00:00:00\",\"2015-02-27T00:00:00\",\"2015-03-02T00:00:00\",\"2015-03-03T00:00:00\",\"2015-03-04T00:00:00\",\"2015-03-05T00:00:00\",\"2015-03-06T00:00:00\",\"2015-03-09T00:00:00\",\"2015-03-10T00:00:00\",\"2015-03-11T00:00:00\",\"2015-03-12T00:00:00\",\"2015-03-13T00:00:00\",\"2015-03-16T00:00:00\",\"2015-03-17T00:00:00\",\"2015-03-18T00:00:00\",\"2015-03-19T00:00:00\",\"2015-03-20T00:00:00\",\"2015-03-23T00:00:00\",\"2015-03-24T00:00:00\",\"2015-03-25T00:00:00\",\"2015-03-26T00:00:00\",\"2015-03-27T00:00:00\",\"2015-03-30T00:00:00\",\"2015-03-31T00:00:00\",\"2015-04-01T00:00:00\",\"2015-04-02T00:00:00\",\"2015-04-03T00:00:00\",\"2015-04-06T00:00:00\",\"2015-04-07T00:00:00\",\"2015-04-08T00:00:00\",\"2015-04-09T00:00:00\",\"2015-04-10T00:00:00\",\"2015-04-13T00:00:00\",\"2015-04-14T00:00:00\",\"2015-04-15T00:00:00\",\"2015-04-16T00:00:00\",\"2015-04-17T00:00:00\",\"2015-04-20T00:00:00\",\"2015-04-21T00:00:00\",\"2015-04-22T00:00:00\",\"2015-04-23T00:00:00\",\"2015-04-24T00:00:00\",\"2015-04-27T00:00:00\",\"2015-04-28T00:00:00\",\"2015-04-29T00:00:00\",\"2015-04-30T00:00:00\",\"2015-05-01T00:00:00\",\"2015-05-04T00:00:00\",\"2015-05-05T00:00:00\",\"2015-05-06T00:00:00\",\"2015-05-07T00:00:00\",\"2015-05-08T00:00:00\",\"2015-05-11T00:00:00\",\"2015-05-12T00:00:00\",\"2015-05-13T00:00:00\",\"2015-05-14T00:00:00\",\"2015-05-15T00:00:00\",\"2015-05-18T00:00:00\",\"2015-05-19T00:00:00\",\"2015-05-20T00:00:00\",\"2015-05-21T00:00:00\",\"2015-05-22T00:00:00\",\"2015-05-25T00:00:00\",\"2015-05-26T00:00:00\",\"2015-05-27T00:00:00\",\"2015-05-28T00:00:00\",\"2015-05-29T00:00:00\",\"2015-06-01T00:00:00\",\"2015-06-02T00:00:00\",\"2015-06-03T00:00:00\",\"2015-06-04T00:00:00\",\"2015-06-05T00:00:00\",\"2015-06-08T00:00:00\",\"2015-06-09T00:00:00\",\"2015-06-10T00:00:00\",\"2015-06-11T00:00:00\",\"2015-06-12T00:00:00\",\"2015-06-15T00:00:00\",\"2015-06-16T00:00:00\",\"2015-06-17T00:00:00\",\"2015-06-18T00:00:00\",\"2015-06-19T00:00:00\",\"2015-06-22T00:00:00\",\"2015-06-23T00:00:00\",\"2015-06-24T00:00:00\",\"2015-06-25T00:00:00\",\"2015-06-26T00:00:00\",\"2015-06-29T00:00:00\",\"2015-06-30T00:00:00\",\"2015-07-01T00:00:00\",\"2015-07-02T00:00:00\",\"2015-07-03T00:00:00\",\"2015-07-06T00:00:00\",\"2015-07-07T00:00:00\",\"2015-07-08T00:00:00\",\"2015-07-09T00:00:00\",\"2015-07-10T00:00:00\",\"2015-07-13T00:00:00\",\"2015-07-14T00:00:00\",\"2015-07-15T00:00:00\",\"2015-07-16T00:00:00\",\"2015-07-17T00:00:00\",\"2015-07-20T00:00:00\",\"2015-07-21T00:00:00\",\"2015-07-22T00:00:00\",\"2015-07-23T00:00:00\",\"2015-07-24T00:00:00\",\"2015-07-27T00:00:00\",\"2015-07-28T00:00:00\",\"2015-07-29T00:00:00\",\"2015-07-30T00:00:00\",\"2015-07-31T00:00:00\",\"2015-08-03T00:00:00\",\"2015-08-04T00:00:00\",\"2015-08-05T00:00:00\",\"2015-08-06T00:00:00\",\"2015-08-07T00:00:00\",\"2015-08-10T00:00:00\",\"2015-08-11T00:00:00\",\"2015-08-12T00:00:00\",\"2015-08-13T00:00:00\",\"2015-08-14T00:00:00\",\"2015-08-17T00:00:00\",\"2015-08-18T00:00:00\",\"2015-08-19T00:00:00\",\"2015-08-20T00:00:00\",\"2015-08-21T00:00:00\",\"2015-08-24T00:00:00\",\"2015-08-25T00:00:00\",\"2015-08-26T00:00:00\",\"2015-08-27T00:00:00\",\"2015-08-28T00:00:00\",\"2015-08-31T00:00:00\",\"2015-09-01T00:00:00\",\"2015-09-02T00:00:00\",\"2015-09-03T00:00:00\",\"2015-09-04T00:00:00\",\"2015-09-07T00:00:00\",\"2015-09-08T00:00:00\",\"2015-09-09T00:00:00\",\"2015-09-10T00:00:00\",\"2015-09-11T00:00:00\",\"2015-09-14T00:00:00\",\"2015-09-15T00:00:00\",\"2015-09-16T00:00:00\",\"2015-09-17T00:00:00\",\"2015-09-18T00:00:00\",\"2015-09-21T00:00:00\",\"2015-09-22T00:00:00\",\"2015-09-23T00:00:00\",\"2015-09-24T00:00:00\",\"2015-09-25T00:00:00\",\"2015-09-28T00:00:00\",\"2015-09-29T00:00:00\",\"2015-09-30T00:00:00\",\"2015-10-01T00:00:00\",\"2015-10-02T00:00:00\",\"2015-10-05T00:00:00\",\"2015-10-06T00:00:00\",\"2015-10-07T00:00:00\",\"2015-10-08T00:00:00\",\"2015-10-09T00:00:00\",\"2015-10-12T00:00:00\",\"2015-10-13T00:00:00\",\"2015-10-14T00:00:00\",\"2015-10-15T00:00:00\",\"2015-10-16T00:00:00\",\"2015-10-19T00:00:00\",\"2015-10-20T00:00:00\",\"2015-10-21T00:00:00\",\"2015-10-22T00:00:00\",\"2015-10-23T00:00:00\",\"2015-10-26T00:00:00\",\"2015-10-27T00:00:00\",\"2015-10-28T00:00:00\",\"2015-10-29T00:00:00\",\"2015-10-30T00:00:00\",\"2015-11-02T00:00:00\",\"2015-11-03T00:00:00\",\"2015-11-04T00:00:00\",\"2015-11-05T00:00:00\",\"2015-11-06T00:00:00\",\"2015-11-09T00:00:00\",\"2015-11-10T00:00:00\",\"2015-11-11T00:00:00\",\"2015-11-12T00:00:00\",\"2015-11-13T00:00:00\",\"2015-11-16T00:00:00\",\"2015-11-17T00:00:00\",\"2015-11-18T00:00:00\",\"2015-11-19T00:00:00\",\"2015-11-20T00:00:00\",\"2015-11-23T00:00:00\",\"2015-11-24T00:00:00\",\"2015-11-25T00:00:00\",\"2015-11-26T00:00:00\",\"2015-11-27T00:00:00\",\"2015-11-30T00:00:00\",\"2015-12-01T00:00:00\",\"2015-12-02T00:00:00\",\"2015-12-03T00:00:00\",\"2015-12-04T00:00:00\",\"2015-12-07T00:00:00\",\"2015-12-08T00:00:00\",\"2015-12-09T00:00:00\",\"2015-12-10T00:00:00\",\"2015-12-11T00:00:00\",\"2015-12-14T00:00:00\",\"2015-12-15T00:00:00\",\"2015-12-16T00:00:00\",\"2015-12-17T00:00:00\",\"2015-12-18T00:00:00\",\"2015-12-21T00:00:00\",\"2015-12-22T00:00:00\",\"2015-12-23T00:00:00\",\"2015-12-24T00:00:00\",\"2015-12-28T00:00:00\",\"2015-12-29T00:00:00\",\"2015-12-30T00:00:00\",\"2015-12-31T00:00:00\",\"2016-01-04T00:00:00\",\"2016-01-05T00:00:00\",\"2016-01-06T00:00:00\",\"2016-01-07T00:00:00\",\"2016-01-08T00:00:00\",\"2016-01-11T00:00:00\",\"2016-01-12T00:00:00\",\"2016-01-13T00:00:00\",\"2016-01-14T00:00:00\",\"2016-01-15T00:00:00\",\"2016-01-18T00:00:00\",\"2016-01-19T00:00:00\",\"2016-01-20T00:00:00\",\"2016-01-21T00:00:00\",\"2016-01-22T00:00:00\",\"2016-01-25T00:00:00\",\"2016-01-26T00:00:00\",\"2016-01-27T00:00:00\",\"2016-01-28T00:00:00\",\"2016-01-29T00:00:00\",\"2016-02-01T00:00:00\",\"2016-02-02T00:00:00\",\"2016-02-03T00:00:00\",\"2016-02-04T00:00:00\",\"2016-02-05T00:00:00\",\"2016-02-08T00:00:00\",\"2016-02-09T00:00:00\",\"2016-02-10T00:00:00\",\"2016-02-11T00:00:00\",\"2016-02-12T00:00:00\",\"2016-02-15T00:00:00\",\"2016-02-16T00:00:00\",\"2016-02-17T00:00:00\",\"2016-02-18T00:00:00\",\"2016-02-19T00:00:00\",\"2016-02-22T00:00:00\",\"2016-02-23T00:00:00\",\"2016-02-24T00:00:00\",\"2016-02-25T00:00:00\",\"2016-02-26T00:00:00\",\"2016-02-29T00:00:00\",\"2016-03-01T00:00:00\",\"2016-03-02T00:00:00\",\"2016-03-03T00:00:00\",\"2016-03-04T00:00:00\",\"2016-03-07T00:00:00\",\"2016-03-08T00:00:00\",\"2016-03-09T00:00:00\",\"2016-03-10T00:00:00\",\"2016-03-11T00:00:00\",\"2016-03-14T00:00:00\",\"2016-03-15T00:00:00\",\"2016-03-16T00:00:00\",\"2016-03-17T00:00:00\",\"2016-03-18T00:00:00\",\"2016-03-21T00:00:00\",\"2016-03-22T00:00:00\",\"2016-03-23T00:00:00\",\"2016-03-24T00:00:00\",\"2016-03-28T00:00:00\",\"2016-03-29T00:00:00\",\"2016-03-30T00:00:00\",\"2016-03-31T00:00:00\",\"2016-04-01T00:00:00\",\"2016-04-04T00:00:00\",\"2016-04-05T00:00:00\",\"2016-04-06T00:00:00\",\"2016-04-07T00:00:00\",\"2016-04-08T00:00:00\",\"2016-04-11T00:00:00\",\"2016-04-12T00:00:00\",\"2016-04-13T00:00:00\",\"2016-04-14T00:00:00\",\"2016-04-15T00:00:00\",\"2016-04-18T00:00:00\",\"2016-04-19T00:00:00\",\"2016-04-20T00:00:00\",\"2016-04-21T00:00:00\",\"2016-04-22T00:00:00\",\"2016-04-25T00:00:00\",\"2016-04-26T00:00:00\",\"2016-04-27T00:00:00\",\"2016-04-28T00:00:00\",\"2016-04-29T00:00:00\",\"2016-05-02T00:00:00\",\"2016-05-03T00:00:00\",\"2016-05-04T00:00:00\",\"2016-05-05T00:00:00\",\"2016-05-06T00:00:00\",\"2016-05-09T00:00:00\",\"2016-05-10T00:00:00\",\"2016-05-11T00:00:00\",\"2016-05-12T00:00:00\",\"2016-05-13T00:00:00\",\"2016-05-16T00:00:00\",\"2016-05-17T00:00:00\",\"2016-05-18T00:00:00\",\"2016-05-19T00:00:00\",\"2016-05-20T00:00:00\",\"2016-05-23T00:00:00\",\"2016-05-24T00:00:00\",\"2016-05-25T00:00:00\",\"2016-05-26T00:00:00\",\"2016-05-27T00:00:00\",\"2016-05-30T00:00:00\",\"2016-05-31T00:00:00\",\"2016-06-01T00:00:00\",\"2016-06-02T00:00:00\",\"2016-06-03T00:00:00\",\"2016-06-06T00:00:00\",\"2016-06-07T00:00:00\",\"2016-06-08T00:00:00\",\"2016-06-09T00:00:00\",\"2016-06-10T00:00:00\",\"2016-06-13T00:00:00\",\"2016-06-14T00:00:00\",\"2016-06-15T00:00:00\",\"2016-06-16T00:00:00\",\"2016-06-17T00:00:00\",\"2016-06-20T00:00:00\",\"2016-06-21T00:00:00\",\"2016-06-22T00:00:00\",\"2016-06-23T00:00:00\",\"2016-06-24T00:00:00\",\"2016-06-27T00:00:00\",\"2016-06-28T00:00:00\",\"2016-06-29T00:00:00\",\"2016-06-30T00:00:00\",\"2016-07-01T00:00:00\",\"2016-07-04T00:00:00\",\"2016-07-05T00:00:00\",\"2016-07-06T00:00:00\",\"2016-07-07T00:00:00\",\"2016-07-08T00:00:00\",\"2016-07-11T00:00:00\",\"2016-07-12T00:00:00\",\"2016-07-13T00:00:00\",\"2016-07-14T00:00:00\",\"2016-07-15T00:00:00\",\"2016-07-18T00:00:00\",\"2016-07-19T00:00:00\",\"2016-07-20T00:00:00\",\"2016-07-21T00:00:00\",\"2016-07-22T00:00:00\",\"2016-07-25T00:00:00\",\"2016-07-26T00:00:00\",\"2016-07-27T00:00:00\",\"2016-07-28T00:00:00\",\"2016-07-29T00:00:00\",\"2016-08-01T00:00:00\",\"2016-08-02T00:00:00\",\"2016-08-03T00:00:00\",\"2016-08-04T00:00:00\",\"2016-08-05T00:00:00\",\"2016-08-08T00:00:00\",\"2016-08-09T00:00:00\",\"2016-08-10T00:00:00\",\"2016-08-11T00:00:00\",\"2016-08-12T00:00:00\",\"2016-08-15T00:00:00\",\"2016-08-16T00:00:00\",\"2016-08-17T00:00:00\",\"2016-08-18T00:00:00\",\"2016-08-19T00:00:00\",\"2016-08-22T00:00:00\",\"2016-08-23T00:00:00\",\"2016-08-24T00:00:00\",\"2016-08-25T00:00:00\",\"2016-08-26T00:00:00\",\"2016-08-29T00:00:00\",\"2016-08-30T00:00:00\",\"2016-08-31T00:00:00\",\"2016-09-01T00:00:00\",\"2016-09-02T00:00:00\",\"2016-09-05T00:00:00\",\"2016-09-06T00:00:00\",\"2016-09-07T00:00:00\",\"2016-09-08T00:00:00\",\"2016-09-09T00:00:00\",\"2016-09-12T00:00:00\",\"2016-09-13T00:00:00\",\"2016-09-14T00:00:00\",\"2016-09-15T00:00:00\",\"2016-09-16T00:00:00\",\"2016-09-19T00:00:00\",\"2016-09-20T00:00:00\",\"2016-09-21T00:00:00\",\"2016-09-22T00:00:00\",\"2016-09-23T00:00:00\",\"2016-09-26T00:00:00\",\"2016-09-27T00:00:00\",\"2016-09-28T00:00:00\",\"2016-09-29T00:00:00\",\"2016-09-30T00:00:00\",\"2016-10-03T00:00:00\",\"2016-10-04T00:00:00\",\"2016-10-05T00:00:00\",\"2016-10-06T00:00:00\",\"2016-10-07T00:00:00\",\"2016-10-10T00:00:00\",\"2016-10-11T00:00:00\",\"2016-10-12T00:00:00\",\"2016-10-13T00:00:00\",\"2016-10-14T00:00:00\",\"2016-10-17T00:00:00\",\"2016-10-18T00:00:00\",\"2016-10-19T00:00:00\",\"2016-10-20T00:00:00\",\"2016-10-21T00:00:00\",\"2016-10-24T00:00:00\",\"2016-10-25T00:00:00\",\"2016-10-26T00:00:00\",\"2016-10-27T00:00:00\",\"2016-10-28T00:00:00\",\"2016-10-31T00:00:00\",\"2016-11-01T00:00:00\",\"2016-11-02T00:00:00\",\"2016-11-03T00:00:00\",\"2016-11-04T00:00:00\",\"2016-11-07T00:00:00\",\"2016-11-08T00:00:00\",\"2016-11-09T00:00:00\",\"2016-11-10T00:00:00\",\"2016-11-11T00:00:00\",\"2016-11-14T00:00:00\",\"2016-11-15T00:00:00\",\"2016-11-16T00:00:00\",\"2016-11-17T00:00:00\",\"2016-11-18T00:00:00\",\"2016-11-21T00:00:00\",\"2016-11-22T00:00:00\",\"2016-11-23T00:00:00\",\"2016-11-24T00:00:00\",\"2016-11-25T00:00:00\",\"2016-11-28T00:00:00\",\"2016-11-29T00:00:00\",\"2016-11-30T00:00:00\",\"2016-12-01T00:00:00\",\"2016-12-02T00:00:00\",\"2016-12-05T00:00:00\",\"2016-12-06T00:00:00\",\"2016-12-07T00:00:00\",\"2016-12-08T00:00:00\",\"2016-12-09T00:00:00\",\"2016-12-12T00:00:00\",\"2016-12-13T00:00:00\",\"2016-12-14T00:00:00\",\"2016-12-15T00:00:00\",\"2016-12-16T00:00:00\",\"2016-12-19T00:00:00\",\"2016-12-20T00:00:00\",\"2016-12-21T00:00:00\",\"2016-12-22T00:00:00\",\"2016-12-23T00:00:00\",\"2016-12-27T00:00:00\",\"2016-12-28T00:00:00\",\"2016-12-29T00:00:00\",\"2016-12-30T00:00:00\",\"2017-01-03T00:00:00\",\"2017-01-04T00:00:00\",\"2017-01-05T00:00:00\",\"2017-01-06T00:00:00\",\"2017-01-09T00:00:00\",\"2017-01-10T00:00:00\",\"2017-01-11T00:00:00\",\"2017-01-12T00:00:00\",\"2017-01-13T00:00:00\",\"2017-01-16T00:00:00\",\"2017-01-17T00:00:00\",\"2017-01-18T00:00:00\",\"2017-01-19T00:00:00\",\"2017-01-20T00:00:00\",\"2017-01-23T00:00:00\",\"2017-01-24T00:00:00\",\"2017-01-25T00:00:00\",\"2017-01-26T00:00:00\",\"2017-01-27T00:00:00\",\"2017-01-30T00:00:00\",\"2017-01-31T00:00:00\",\"2017-02-01T00:00:00\",\"2017-02-02T00:00:00\",\"2017-02-03T00:00:00\",\"2017-02-06T00:00:00\",\"2017-02-07T00:00:00\",\"2017-02-08T00:00:00\",\"2017-02-09T00:00:00\",\"2017-02-10T00:00:00\",\"2017-02-13T00:00:00\",\"2017-02-14T00:00:00\",\"2017-02-15T00:00:00\",\"2017-02-16T00:00:00\",\"2017-02-17T00:00:00\",\"2017-02-20T00:00:00\",\"2017-02-21T00:00:00\",\"2017-02-22T00:00:00\",\"2017-02-23T00:00:00\",\"2017-02-24T00:00:00\",\"2017-02-27T00:00:00\",\"2017-02-28T00:00:00\",\"2017-03-01T00:00:00\",\"2017-03-02T00:00:00\",\"2017-03-03T00:00:00\",\"2017-03-06T00:00:00\",\"2017-03-07T00:00:00\",\"2017-03-08T00:00:00\",\"2017-03-09T00:00:00\",\"2017-03-10T00:00:00\",\"2017-03-13T00:00:00\",\"2017-03-14T00:00:00\",\"2017-03-15T00:00:00\",\"2017-03-16T00:00:00\",\"2017-03-17T00:00:00\",\"2017-03-20T00:00:00\",\"2017-03-21T00:00:00\",\"2017-03-22T00:00:00\",\"2017-03-23T00:00:00\",\"2017-03-24T00:00:00\",\"2017-03-27T00:00:00\",\"2017-03-28T00:00:00\",\"2017-03-29T00:00:00\",\"2017-03-30T00:00:00\",\"2017-03-31T00:00:00\",\"2017-04-03T00:00:00\",\"2017-04-04T00:00:00\",\"2017-04-05T00:00:00\",\"2017-04-06T00:00:00\",\"2017-04-07T00:00:00\",\"2017-04-10T00:00:00\",\"2017-04-11T00:00:00\",\"2017-04-12T00:00:00\",\"2017-04-13T00:00:00\",\"2017-04-17T00:00:00\",\"2017-04-18T00:00:00\",\"2017-04-19T00:00:00\",\"2017-04-20T00:00:00\",\"2017-04-21T00:00:00\",\"2017-04-24T00:00:00\",\"2017-04-25T00:00:00\",\"2017-04-26T00:00:00\",\"2017-04-27T00:00:00\",\"2017-04-28T00:00:00\",\"2017-05-01T00:00:00\",\"2017-05-02T00:00:00\",\"2017-05-03T00:00:00\",\"2017-05-04T00:00:00\",\"2017-05-05T00:00:00\",\"2017-05-08T00:00:00\",\"2017-05-09T00:00:00\",\"2017-05-10T00:00:00\",\"2017-05-11T00:00:00\",\"2017-05-12T00:00:00\",\"2017-05-15T00:00:00\",\"2017-05-16T00:00:00\",\"2017-05-17T00:00:00\",\"2017-05-18T00:00:00\",\"2017-05-19T00:00:00\",\"2017-05-22T00:00:00\",\"2017-05-23T00:00:00\",\"2017-05-24T00:00:00\",\"2017-05-25T00:00:00\",\"2017-05-26T00:00:00\",\"2017-05-29T00:00:00\",\"2017-05-30T00:00:00\",\"2017-05-31T00:00:00\",\"2017-06-01T00:00:00\",\"2017-06-02T00:00:00\",\"2017-06-05T00:00:00\",\"2017-06-06T00:00:00\",\"2017-06-07T00:00:00\",\"2017-06-08T00:00:00\",\"2017-06-09T00:00:00\",\"2017-06-12T00:00:00\",\"2017-06-13T00:00:00\",\"2017-06-14T00:00:00\",\"2017-06-15T00:00:00\",\"2017-06-16T00:00:00\",\"2017-06-19T00:00:00\",\"2017-06-20T00:00:00\",\"2017-06-21T00:00:00\",\"2017-06-22T00:00:00\",\"2017-06-23T00:00:00\",\"2017-06-26T00:00:00\",\"2017-06-27T00:00:00\",\"2017-06-28T00:00:00\",\"2017-06-29T00:00:00\",\"2017-06-30T00:00:00\",\"2017-07-03T00:00:00\",\"2017-07-04T00:00:00\",\"2017-07-05T00:00:00\",\"2017-07-06T00:00:00\",\"2017-07-07T00:00:00\",\"2017-07-10T00:00:00\",\"2017-07-11T00:00:00\",\"2017-07-12T00:00:00\",\"2017-07-13T00:00:00\",\"2017-07-14T00:00:00\",\"2017-07-17T00:00:00\",\"2017-07-18T00:00:00\",\"2017-07-19T00:00:00\",\"2017-07-20T00:00:00\",\"2017-07-21T00:00:00\",\"2017-07-24T00:00:00\",\"2017-07-25T00:00:00\",\"2017-07-26T00:00:00\",\"2017-07-27T00:00:00\",\"2017-07-28T00:00:00\",\"2017-07-31T00:00:00\",\"2017-08-01T00:00:00\",\"2017-08-02T00:00:00\",\"2017-08-03T00:00:00\",\"2017-08-04T00:00:00\",\"2017-08-07T00:00:00\",\"2017-08-08T00:00:00\",\"2017-08-09T00:00:00\",\"2017-08-10T00:00:00\",\"2017-08-11T00:00:00\",\"2017-08-14T00:00:00\",\"2017-08-15T00:00:00\",\"2017-08-16T00:00:00\",\"2017-08-17T00:00:00\",\"2017-08-18T00:00:00\",\"2017-08-21T00:00:00\",\"2017-08-22T00:00:00\",\"2017-08-23T00:00:00\",\"2017-08-24T00:00:00\",\"2017-08-25T00:00:00\",\"2017-08-28T00:00:00\",\"2017-08-29T00:00:00\",\"2017-08-30T00:00:00\",\"2017-08-31T00:00:00\",\"2017-09-01T00:00:00\",\"2017-09-04T00:00:00\",\"2017-09-05T00:00:00\",\"2017-09-06T00:00:00\",\"2017-09-07T00:00:00\",\"2017-09-08T00:00:00\",\"2017-09-11T00:00:00\",\"2017-09-12T00:00:00\",\"2017-09-13T00:00:00\",\"2017-09-14T00:00:00\",\"2017-09-15T00:00:00\",\"2017-09-18T00:00:00\",\"2017-09-19T00:00:00\",\"2017-09-20T00:00:00\",\"2017-09-21T00:00:00\",\"2017-09-22T00:00:00\",\"2017-09-25T00:00:00\",\"2017-09-26T00:00:00\",\"2017-09-27T00:00:00\",\"2017-09-28T00:00:00\",\"2017-09-29T00:00:00\",\"2017-10-02T00:00:00\",\"2017-10-03T00:00:00\",\"2017-10-04T00:00:00\",\"2017-10-05T00:00:00\",\"2017-10-06T00:00:00\",\"2017-10-09T00:00:00\",\"2017-10-10T00:00:00\",\"2017-10-11T00:00:00\",\"2017-10-12T00:00:00\",\"2017-10-13T00:00:00\",\"2017-10-16T00:00:00\",\"2017-10-17T00:00:00\",\"2017-10-18T00:00:00\",\"2017-10-19T00:00:00\",\"2017-10-20T00:00:00\",\"2017-10-23T00:00:00\",\"2017-10-24T00:00:00\",\"2017-10-25T00:00:00\",\"2017-10-26T00:00:00\",\"2017-10-27T00:00:00\",\"2017-10-30T00:00:00\",\"2017-10-31T00:00:00\",\"2017-11-01T00:00:00\",\"2017-11-02T00:00:00\",\"2017-11-03T00:00:00\",\"2017-11-06T00:00:00\",\"2017-11-07T00:00:00\",\"2017-11-08T00:00:00\",\"2017-11-09T00:00:00\",\"2017-11-10T00:00:00\",\"2017-11-13T00:00:00\",\"2017-11-14T00:00:00\",\"2017-11-15T00:00:00\",\"2017-11-16T00:00:00\",\"2017-11-17T00:00:00\",\"2017-11-20T00:00:00\",\"2017-11-21T00:00:00\",\"2017-11-22T00:00:00\",\"2017-11-23T00:00:00\",\"2017-11-24T00:00:00\",\"2017-11-27T00:00:00\",\"2017-11-28T00:00:00\",\"2017-11-29T00:00:00\",\"2017-11-30T00:00:00\",\"2017-12-01T00:00:00\",\"2017-12-04T00:00:00\",\"2017-12-05T00:00:00\",\"2017-12-06T00:00:00\",\"2017-12-07T00:00:00\",\"2017-12-08T00:00:00\",\"2017-12-11T00:00:00\",\"2017-12-12T00:00:00\",\"2017-12-13T00:00:00\",\"2017-12-14T00:00:00\",\"2017-12-15T00:00:00\",\"2017-12-18T00:00:00\",\"2017-12-19T00:00:00\",\"2017-12-20T00:00:00\",\"2017-12-21T00:00:00\",\"2017-12-22T00:00:00\",\"2017-12-26T00:00:00\",\"2017-12-27T00:00:00\",\"2017-12-28T00:00:00\",\"2017-12-29T00:00:00\",\"2018-01-02T00:00:00\",\"2018-01-03T00:00:00\",\"2018-01-04T00:00:00\",\"2018-01-05T00:00:00\",\"2018-01-08T00:00:00\",\"2018-01-09T00:00:00\",\"2018-01-10T00:00:00\",\"2018-01-11T00:00:00\",\"2018-01-12T00:00:00\",\"2018-01-15T00:00:00\",\"2018-01-16T00:00:00\",\"2018-01-17T00:00:00\",\"2018-01-18T00:00:00\",\"2018-01-19T00:00:00\",\"2018-01-22T00:00:00\",\"2018-01-23T00:00:00\",\"2018-01-24T00:00:00\",\"2018-01-25T00:00:00\",\"2018-01-26T00:00:00\",\"2018-01-29T00:00:00\",\"2018-01-30T00:00:00\",\"2018-01-31T00:00:00\",\"2018-02-01T00:00:00\",\"2018-02-02T00:00:00\",\"2018-02-05T00:00:00\",\"2018-02-06T00:00:00\",\"2018-02-07T00:00:00\",\"2018-02-08T00:00:00\",\"2018-02-09T00:00:00\",\"2018-02-12T00:00:00\",\"2018-02-13T00:00:00\",\"2018-02-14T00:00:00\",\"2018-02-15T00:00:00\",\"2018-02-16T00:00:00\",\"2018-02-19T00:00:00\",\"2018-02-20T00:00:00\",\"2018-02-21T00:00:00\",\"2018-02-22T00:00:00\",\"2018-02-23T00:00:00\",\"2018-02-26T00:00:00\",\"2018-02-27T00:00:00\",\"2018-02-28T00:00:00\",\"2018-03-01T00:00:00\",\"2018-03-02T00:00:00\",\"2018-03-05T00:00:00\",\"2018-03-06T00:00:00\",\"2018-03-07T00:00:00\",\"2018-03-08T00:00:00\",\"2018-03-09T00:00:00\",\"2018-03-12T00:00:00\",\"2018-03-13T00:00:00\",\"2018-03-14T00:00:00\",\"2018-03-15T00:00:00\",\"2018-03-16T00:00:00\",\"2018-03-19T00:00:00\",\"2018-03-20T00:00:00\",\"2018-03-21T00:00:00\",\"2018-03-22T00:00:00\",\"2018-03-23T00:00:00\",\"2018-03-26T00:00:00\",\"2018-03-27T00:00:00\",\"2018-03-28T00:00:00\",\"2018-03-29T00:00:00\",\"2018-04-02T00:00:00\",\"2018-04-03T00:00:00\",\"2018-04-04T00:00:00\",\"2018-04-05T00:00:00\",\"2018-04-06T00:00:00\",\"2018-04-09T00:00:00\",\"2018-04-10T00:00:00\",\"2018-04-11T00:00:00\",\"2018-04-12T00:00:00\",\"2018-04-13T00:00:00\",\"2018-04-16T00:00:00\",\"2018-04-17T00:00:00\",\"2018-04-18T00:00:00\",\"2018-04-19T00:00:00\",\"2018-04-20T00:00:00\",\"2018-04-23T00:00:00\",\"2018-04-24T00:00:00\",\"2018-04-25T00:00:00\",\"2018-04-26T00:00:00\",\"2018-04-27T00:00:00\",\"2018-04-30T00:00:00\",\"2018-05-01T00:00:00\",\"2018-05-02T00:00:00\",\"2018-05-03T00:00:00\",\"2018-05-04T00:00:00\",\"2018-05-07T00:00:00\",\"2018-05-08T00:00:00\",\"2018-05-09T00:00:00\",\"2018-05-10T00:00:00\",\"2018-05-11T00:00:00\",\"2018-05-14T00:00:00\",\"2018-05-15T00:00:00\",\"2018-05-16T00:00:00\",\"2018-05-17T00:00:00\",\"2018-05-18T00:00:00\",\"2018-05-21T00:00:00\",\"2018-05-22T00:00:00\",\"2018-05-23T00:00:00\",\"2018-05-24T00:00:00\",\"2018-05-25T00:00:00\",\"2018-05-28T00:00:00\",\"2018-05-29T00:00:00\",\"2018-05-30T00:00:00\",\"2018-05-31T00:00:00\",\"2018-06-01T00:00:00\",\"2018-06-04T00:00:00\",\"2018-06-05T00:00:00\",\"2018-06-06T00:00:00\",\"2018-06-07T00:00:00\",\"2018-06-08T00:00:00\",\"2018-06-11T00:00:00\",\"2018-06-12T00:00:00\",\"2018-06-13T00:00:00\",\"2018-06-14T00:00:00\",\"2018-06-15T00:00:00\",\"2018-06-18T00:00:00\",\"2018-06-19T00:00:00\",\"2018-06-20T00:00:00\",\"2018-06-21T00:00:00\",\"2018-06-22T00:00:00\",\"2018-06-25T00:00:00\",\"2018-06-26T00:00:00\",\"2018-06-27T00:00:00\",\"2018-06-28T00:00:00\",\"2018-06-29T00:00:00\",\"2018-07-02T00:00:00\",\"2018-07-03T00:00:00\",\"2018-07-04T00:00:00\",\"2018-07-05T00:00:00\",\"2018-07-06T00:00:00\",\"2018-07-09T00:00:00\",\"2018-07-10T00:00:00\",\"2018-07-11T00:00:00\",\"2018-07-12T00:00:00\",\"2018-07-13T00:00:00\",\"2018-07-16T00:00:00\",\"2018-07-17T00:00:00\",\"2018-07-18T00:00:00\",\"2018-07-19T00:00:00\",\"2018-07-20T00:00:00\",\"2018-07-23T00:00:00\",\"2018-07-24T00:00:00\",\"2018-07-25T00:00:00\",\"2018-07-26T00:00:00\",\"2018-07-27T00:00:00\",\"2018-07-30T00:00:00\",\"2018-07-31T00:00:00\",\"2018-08-01T00:00:00\",\"2018-08-02T00:00:00\",\"2018-08-03T00:00:00\",\"2018-08-06T00:00:00\",\"2018-08-07T00:00:00\",\"2018-08-08T00:00:00\",\"2018-08-09T00:00:00\",\"2018-08-10T00:00:00\",\"2018-08-13T00:00:00\",\"2018-08-14T00:00:00\",\"2018-08-15T00:00:00\",\"2018-08-16T00:00:00\",\"2018-08-17T00:00:00\",\"2018-08-20T00:00:00\",\"2018-08-21T00:00:00\",\"2018-08-22T00:00:00\",\"2018-08-23T00:00:00\",\"2018-08-24T00:00:00\",\"2018-08-27T00:00:00\",\"2018-08-28T00:00:00\",\"2018-08-29T00:00:00\",\"2018-08-30T00:00:00\",\"2018-08-31T00:00:00\",\"2018-09-03T00:00:00\",\"2018-09-04T00:00:00\",\"2018-09-05T00:00:00\",\"2018-09-06T00:00:00\",\"2018-09-07T00:00:00\",\"2018-09-10T00:00:00\",\"2018-09-11T00:00:00\",\"2018-09-12T00:00:00\",\"2018-09-13T00:00:00\",\"2018-09-14T00:00:00\",\"2018-09-17T00:00:00\",\"2018-09-18T00:00:00\",\"2018-09-19T00:00:00\",\"2018-09-20T00:00:00\",\"2018-09-21T00:00:00\",\"2018-09-24T00:00:00\",\"2018-09-25T00:00:00\",\"2018-09-26T00:00:00\",\"2018-09-27T00:00:00\",\"2018-09-28T00:00:00\",\"2018-10-01T00:00:00\",\"2018-10-02T00:00:00\",\"2018-10-03T00:00:00\",\"2018-10-04T00:00:00\",\"2018-10-05T00:00:00\",\"2018-10-08T00:00:00\",\"2018-10-09T00:00:00\",\"2018-10-10T00:00:00\",\"2018-10-11T00:00:00\",\"2018-10-12T00:00:00\",\"2018-10-15T00:00:00\",\"2018-10-16T00:00:00\",\"2018-10-17T00:00:00\",\"2018-10-18T00:00:00\",\"2018-10-19T00:00:00\",\"2018-10-22T00:00:00\",\"2018-10-23T00:00:00\",\"2018-10-24T00:00:00\",\"2018-10-25T00:00:00\",\"2018-10-26T00:00:00\",\"2018-10-29T00:00:00\",\"2018-10-30T00:00:00\",\"2018-10-31T00:00:00\",\"2018-11-01T00:00:00\",\"2018-11-02T00:00:00\",\"2018-11-05T00:00:00\",\"2018-11-06T00:00:00\",\"2018-11-07T00:00:00\",\"2018-11-08T00:00:00\",\"2018-11-09T00:00:00\",\"2018-11-12T00:00:00\",\"2018-11-13T00:00:00\",\"2018-11-14T00:00:00\",\"2018-11-15T00:00:00\",\"2018-11-16T00:00:00\",\"2018-11-19T00:00:00\",\"2018-11-20T00:00:00\",\"2018-11-21T00:00:00\",\"2018-11-22T00:00:00\",\"2018-11-23T00:00:00\",\"2018-11-26T00:00:00\",\"2018-11-27T00:00:00\",\"2018-11-28T00:00:00\",\"2018-11-29T00:00:00\",\"2018-11-30T00:00:00\",\"2018-12-03T00:00:00\",\"2018-12-04T00:00:00\",\"2018-12-05T00:00:00\",\"2018-12-06T00:00:00\",\"2018-12-07T00:00:00\",\"2018-12-10T00:00:00\",\"2018-12-11T00:00:00\",\"2018-12-12T00:00:00\",\"2018-12-13T00:00:00\",\"2018-12-14T00:00:00\",\"2018-12-17T00:00:00\",\"2018-12-18T00:00:00\",\"2018-12-19T00:00:00\",\"2018-12-20T00:00:00\",\"2018-12-21T00:00:00\",\"2018-12-24T00:00:00\",\"2018-12-26T00:00:00\",\"2018-12-27T00:00:00\",\"2018-12-28T00:00:00\",\"2018-12-31T00:00:00\",\"2019-01-02T00:00:00\",\"2019-01-03T00:00:00\",\"2019-01-04T00:00:00\",\"2019-01-07T00:00:00\",\"2019-01-08T00:00:00\",\"2019-01-09T00:00:00\",\"2019-01-10T00:00:00\",\"2019-01-11T00:00:00\",\"2019-01-14T00:00:00\",\"2019-01-15T00:00:00\",\"2019-01-16T00:00:00\",\"2019-01-17T00:00:00\",\"2019-01-18T00:00:00\",\"2019-01-21T00:00:00\",\"2019-01-22T00:00:00\",\"2019-01-23T00:00:00\",\"2019-01-24T00:00:00\",\"2019-01-25T00:00:00\",\"2019-01-28T00:00:00\",\"2019-01-29T00:00:00\",\"2019-01-30T00:00:00\",\"2019-01-31T00:00:00\",\"2019-02-01T00:00:00\",\"2019-02-04T00:00:00\",\"2019-02-05T00:00:00\",\"2019-02-06T00:00:00\",\"2019-02-07T00:00:00\",\"2019-02-08T00:00:00\",\"2019-02-11T00:00:00\",\"2019-02-12T00:00:00\",\"2019-02-13T00:00:00\",\"2019-02-14T00:00:00\",\"2019-02-15T00:00:00\",\"2019-02-18T00:00:00\",\"2019-02-19T00:00:00\",\"2019-02-20T00:00:00\",\"2019-02-21T00:00:00\",\"2019-02-22T00:00:00\",\"2019-02-25T00:00:00\",\"2019-02-26T00:00:00\",\"2019-02-27T00:00:00\",\"2019-02-28T00:00:00\",\"2019-03-01T00:00:00\",\"2019-03-04T00:00:00\",\"2019-03-05T00:00:00\",\"2019-03-06T00:00:00\",\"2019-03-07T00:00:00\",\"2019-03-08T00:00:00\",\"2019-03-11T00:00:00\",\"2019-03-12T00:00:00\",\"2019-03-13T00:00:00\",\"2019-03-14T00:00:00\",\"2019-03-15T00:00:00\",\"2019-03-18T00:00:00\",\"2019-03-19T00:00:00\",\"2019-03-20T00:00:00\",\"2019-03-21T00:00:00\",\"2019-03-22T00:00:00\",\"2019-03-25T00:00:00\",\"2019-03-26T00:00:00\",\"2019-03-27T00:00:00\",\"2019-03-28T00:00:00\",\"2019-03-29T00:00:00\",\"2019-04-01T00:00:00\",\"2019-04-02T00:00:00\",\"2019-04-03T00:00:00\",\"2019-04-04T00:00:00\",\"2019-04-05T00:00:00\",\"2019-04-08T00:00:00\",\"2019-04-09T00:00:00\",\"2019-04-10T00:00:00\",\"2019-04-11T00:00:00\",\"2019-04-12T00:00:00\",\"2019-04-15T00:00:00\",\"2019-04-16T00:00:00\",\"2019-04-17T00:00:00\",\"2019-04-18T00:00:00\",\"2019-04-22T00:00:00\",\"2019-04-23T00:00:00\",\"2019-04-24T00:00:00\",\"2019-04-25T00:00:00\",\"2019-04-26T00:00:00\",\"2019-04-29T00:00:00\",\"2019-04-30T00:00:00\",\"2019-05-01T00:00:00\",\"2019-05-02T00:00:00\",\"2019-05-03T00:00:00\",\"2019-05-06T00:00:00\",\"2019-05-07T00:00:00\",\"2019-05-08T00:00:00\",\"2019-05-09T00:00:00\",\"2019-05-10T00:00:00\",\"2019-05-13T00:00:00\",\"2019-05-14T00:00:00\",\"2019-05-15T00:00:00\",\"2019-05-16T00:00:00\",\"2019-05-17T00:00:00\",\"2019-05-20T00:00:00\",\"2019-05-21T00:00:00\",\"2019-05-22T00:00:00\",\"2019-05-23T00:00:00\",\"2019-05-24T00:00:00\",\"2019-05-27T00:00:00\",\"2019-05-28T00:00:00\",\"2019-05-29T00:00:00\",\"2019-05-30T00:00:00\",\"2019-05-31T00:00:00\",\"2019-06-03T00:00:00\",\"2019-06-04T00:00:00\",\"2019-06-05T00:00:00\",\"2019-06-06T00:00:00\",\"2019-06-07T00:00:00\",\"2019-06-10T00:00:00\",\"2019-06-11T00:00:00\",\"2019-06-12T00:00:00\",\"2019-06-13T00:00:00\",\"2019-06-14T00:00:00\",\"2019-06-17T00:00:00\",\"2019-06-18T00:00:00\",\"2019-06-19T00:00:00\",\"2019-06-20T00:00:00\",\"2019-06-21T00:00:00\",\"2019-06-24T00:00:00\",\"2019-06-25T00:00:00\",\"2019-06-26T00:00:00\",\"2019-06-27T00:00:00\",\"2019-06-28T00:00:00\",\"2019-07-01T00:00:00\",\"2019-07-02T00:00:00\",\"2019-07-03T00:00:00\",\"2019-07-04T00:00:00\",\"2019-07-05T00:00:00\",\"2019-07-08T00:00:00\",\"2019-07-09T00:00:00\",\"2019-07-10T00:00:00\",\"2019-07-11T00:00:00\",\"2019-07-12T00:00:00\",\"2019-07-15T00:00:00\",\"2019-07-16T00:00:00\",\"2019-07-17T00:00:00\",\"2019-07-18T00:00:00\",\"2019-07-19T00:00:00\",\"2019-07-22T00:00:00\",\"2019-07-23T00:00:00\",\"2019-07-24T00:00:00\",\"2019-07-25T00:00:00\",\"2019-07-26T00:00:00\",\"2019-07-29T00:00:00\",\"2019-07-30T00:00:00\",\"2019-07-31T00:00:00\",\"2019-08-01T00:00:00\",\"2019-08-02T00:00:00\",\"2019-08-05T00:00:00\",\"2019-08-06T00:00:00\",\"2019-08-07T00:00:00\",\"2019-08-08T00:00:00\",\"2019-08-09T00:00:00\",\"2019-08-12T00:00:00\",\"2019-08-13T00:00:00\",\"2019-08-14T00:00:00\",\"2019-08-15T00:00:00\",\"2019-08-16T00:00:00\",\"2019-08-19T00:00:00\",\"2019-08-20T00:00:00\",\"2019-08-21T00:00:00\",\"2019-08-22T00:00:00\",\"2019-08-23T00:00:00\",\"2019-08-26T00:00:00\",\"2019-08-27T00:00:00\",\"2019-08-28T00:00:00\",\"2019-08-29T00:00:00\",\"2019-08-30T00:00:00\",\"2019-09-02T00:00:00\",\"2019-09-03T00:00:00\",\"2019-09-04T00:00:00\",\"2019-09-05T00:00:00\",\"2019-09-06T00:00:00\",\"2019-09-09T00:00:00\",\"2019-09-10T00:00:00\",\"2019-09-11T00:00:00\",\"2019-09-12T00:00:00\",\"2019-09-13T00:00:00\",\"2019-09-16T00:00:00\",\"2019-09-17T00:00:00\",\"2019-09-18T00:00:00\",\"2019-09-19T00:00:00\",\"2019-09-20T00:00:00\",\"2019-09-23T00:00:00\",\"2019-09-24T00:00:00\",\"2019-09-25T00:00:00\",\"2019-09-26T00:00:00\",\"2019-09-27T00:00:00\",\"2019-09-30T00:00:00\",\"2019-10-01T00:00:00\",\"2019-10-02T00:00:00\",\"2019-10-03T00:00:00\",\"2019-10-04T00:00:00\",\"2019-10-07T00:00:00\",\"2019-10-08T00:00:00\",\"2019-10-09T00:00:00\",\"2019-10-10T00:00:00\",\"2019-10-11T00:00:00\",\"2019-10-14T00:00:00\",\"2019-10-15T00:00:00\",\"2019-10-16T00:00:00\",\"2019-10-17T00:00:00\",\"2019-10-18T00:00:00\",\"2019-10-21T00:00:00\",\"2019-10-22T00:00:00\",\"2019-10-23T00:00:00\",\"2019-10-24T00:00:00\",\"2019-10-25T00:00:00\",\"2019-10-28T00:00:00\",\"2019-10-29T00:00:00\",\"2019-10-30T00:00:00\",\"2019-10-31T00:00:00\",\"2019-11-01T00:00:00\",\"2019-11-04T00:00:00\",\"2019-11-05T00:00:00\",\"2019-11-06T00:00:00\",\"2019-11-07T00:00:00\",\"2019-11-08T00:00:00\",\"2019-11-11T00:00:00\",\"2019-11-12T00:00:00\",\"2019-11-13T00:00:00\",\"2019-11-14T00:00:00\",\"2019-11-15T00:00:00\",\"2019-11-18T00:00:00\",\"2019-11-19T00:00:00\",\"2019-11-20T00:00:00\",\"2019-11-21T00:00:00\",\"2019-11-22T00:00:00\",\"2019-11-25T00:00:00\",\"2019-11-26T00:00:00\",\"2019-11-27T00:00:00\",\"2019-11-28T00:00:00\",\"2019-11-29T00:00:00\",\"2019-12-02T00:00:00\",\"2019-12-03T00:00:00\",\"2019-12-04T00:00:00\",\"2019-12-05T00:00:00\",\"2019-12-06T00:00:00\",\"2019-12-09T00:00:00\",\"2019-12-10T00:00:00\",\"2019-12-11T00:00:00\",\"2019-12-12T00:00:00\",\"2019-12-13T00:00:00\",\"2019-12-16T00:00:00\",\"2019-12-17T00:00:00\",\"2019-12-18T00:00:00\",\"2019-12-19T00:00:00\",\"2019-12-20T00:00:00\",\"2019-12-23T00:00:00\",\"2019-12-24T00:00:00\",\"2019-12-26T00:00:00\",\"2019-12-27T00:00:00\",\"2019-12-30T00:00:00\",\"2019-12-31T00:00:00\",\"2020-01-02T00:00:00\",\"2020-01-03T00:00:00\",\"2020-01-06T00:00:00\",\"2020-01-07T00:00:00\",\"2020-01-08T00:00:00\",\"2020-01-09T00:00:00\",\"2020-01-10T00:00:00\",\"2020-01-13T00:00:00\",\"2020-01-14T00:00:00\",\"2020-01-15T00:00:00\",\"2020-01-16T00:00:00\",\"2020-01-17T00:00:00\",\"2020-01-20T00:00:00\",\"2020-01-21T00:00:00\",\"2020-01-22T00:00:00\",\"2020-01-23T00:00:00\",\"2020-01-24T00:00:00\",\"2020-01-27T00:00:00\",\"2020-01-28T00:00:00\",\"2020-01-29T00:00:00\",\"2020-01-30T00:00:00\",\"2020-01-31T00:00:00\",\"2020-02-03T00:00:00\",\"2020-02-04T00:00:00\",\"2020-02-05T00:00:00\",\"2020-02-06T00:00:00\",\"2020-02-07T00:00:00\",\"2020-02-10T00:00:00\",\"2020-02-11T00:00:00\",\"2020-02-12T00:00:00\",\"2020-02-13T00:00:00\",\"2020-02-14T00:00:00\",\"2020-02-17T00:00:00\",\"2020-02-18T00:00:00\",\"2020-02-19T00:00:00\",\"2020-02-20T00:00:00\",\"2020-02-21T00:00:00\",\"2020-02-24T00:00:00\",\"2020-02-25T00:00:00\",\"2020-02-26T00:00:00\",\"2020-02-27T00:00:00\",\"2020-02-28T00:00:00\",\"2020-03-02T00:00:00\",\"2020-03-03T00:00:00\",\"2020-03-04T00:00:00\",\"2020-03-05T00:00:00\",\"2020-03-06T00:00:00\",\"2020-03-09T00:00:00\",\"2020-03-10T00:00:00\",\"2020-03-11T00:00:00\",\"2020-03-12T00:00:00\",\"2020-03-13T00:00:00\",\"2020-03-16T00:00:00\",\"2020-03-17T00:00:00\",\"2020-03-18T00:00:00\",\"2020-03-19T00:00:00\",\"2020-03-20T00:00:00\",\"2020-03-23T00:00:00\",\"2020-03-24T00:00:00\",\"2020-03-25T00:00:00\",\"2020-03-26T00:00:00\",\"2020-03-27T00:00:00\",\"2020-03-30T00:00:00\",\"2020-03-31T00:00:00\",\"2020-04-01T00:00:00\",\"2020-04-02T00:00:00\",\"2020-04-03T00:00:00\",\"2020-04-06T00:00:00\",\"2020-04-07T00:00:00\",\"2020-04-08T00:00:00\",\"2020-04-09T00:00:00\",\"2020-04-13T00:00:00\",\"2020-04-14T00:00:00\",\"2020-04-15T00:00:00\",\"2020-04-16T00:00:00\",\"2020-04-17T00:00:00\",\"2020-04-20T00:00:00\",\"2020-04-21T00:00:00\",\"2020-04-22T00:00:00\",\"2020-04-23T00:00:00\",\"2020-04-24T00:00:00\",\"2020-04-27T00:00:00\",\"2020-04-28T00:00:00\",\"2020-04-29T00:00:00\",\"2020-04-30T00:00:00\",\"2020-05-01T00:00:00\",\"2020-05-04T00:00:00\",\"2020-05-05T00:00:00\",\"2020-05-06T00:00:00\",\"2020-05-07T00:00:00\",\"2020-05-08T00:00:00\",\"2020-05-11T00:00:00\",\"2020-05-12T00:00:00\",\"2020-05-13T00:00:00\",\"2020-05-14T00:00:00\",\"2020-05-15T00:00:00\",\"2020-05-18T00:00:00\",\"2020-05-19T00:00:00\",\"2020-05-20T00:00:00\",\"2020-05-21T00:00:00\",\"2020-05-22T00:00:00\",\"2020-05-25T00:00:00\",\"2020-05-26T00:00:00\",\"2020-05-27T00:00:00\",\"2020-05-28T00:00:00\",\"2020-05-29T00:00:00\",\"2020-06-01T00:00:00\",\"2020-06-02T00:00:00\",\"2020-06-03T00:00:00\",\"2020-06-04T00:00:00\",\"2020-06-05T00:00:00\",\"2020-06-08T00:00:00\",\"2020-06-09T00:00:00\",\"2020-06-10T00:00:00\",\"2020-06-11T00:00:00\",\"2020-06-12T00:00:00\",\"2020-06-15T00:00:00\",\"2020-06-16T00:00:00\",\"2020-06-17T00:00:00\",\"2020-06-18T00:00:00\",\"2020-06-19T00:00:00\",\"2020-06-22T00:00:00\",\"2020-06-23T00:00:00\",\"2020-06-24T00:00:00\",\"2020-06-25T00:00:00\",\"2020-06-26T00:00:00\",\"2020-06-29T00:00:00\",\"2020-06-30T00:00:00\",\"2020-07-01T00:00:00\",\"2020-07-02T00:00:00\",\"2020-07-03T00:00:00\",\"2020-07-06T00:00:00\",\"2020-07-07T00:00:00\",\"2020-07-08T00:00:00\",\"2020-07-09T00:00:00\",\"2020-07-10T00:00:00\",\"2020-07-13T00:00:00\",\"2020-07-14T00:00:00\",\"2020-07-15T00:00:00\",\"2020-07-16T00:00:00\",\"2020-07-17T00:00:00\",\"2020-07-20T00:00:00\",\"2020-07-21T00:00:00\",\"2020-07-22T00:00:00\",\"2020-07-23T00:00:00\",\"2020-07-24T00:00:00\",\"2020-07-27T00:00:00\",\"2020-07-28T00:00:00\",\"2020-07-29T00:00:00\",\"2020-07-30T00:00:00\",\"2020-07-31T00:00:00\",\"2020-08-03T00:00:00\",\"2020-08-04T00:00:00\",\"2020-08-05T00:00:00\",\"2020-08-06T00:00:00\",\"2020-08-07T00:00:00\",\"2020-08-10T00:00:00\",\"2020-08-11T00:00:00\",\"2020-08-12T00:00:00\",\"2020-08-13T00:00:00\",\"2020-08-14T00:00:00\",\"2020-08-17T00:00:00\",\"2020-08-18T00:00:00\",\"2020-08-19T00:00:00\",\"2020-08-20T00:00:00\",\"2020-08-21T00:00:00\",\"2020-08-24T00:00:00\",\"2020-08-25T00:00:00\",\"2020-08-26T00:00:00\",\"2020-08-27T00:00:00\",\"2020-08-28T00:00:00\",\"2020-08-31T00:00:00\",\"2020-09-01T00:00:00\",\"2020-09-02T00:00:00\",\"2020-09-03T00:00:00\",\"2020-09-04T00:00:00\",\"2020-09-07T00:00:00\",\"2020-09-08T00:00:00\",\"2020-09-09T00:00:00\",\"2020-09-10T00:00:00\",\"2020-09-11T00:00:00\",\"2020-09-14T00:00:00\",\"2020-09-15T00:00:00\",\"2020-09-16T00:00:00\",\"2020-09-17T00:00:00\",\"2020-09-18T00:00:00\",\"2020-09-21T00:00:00\",\"2020-09-22T00:00:00\",\"2020-09-23T00:00:00\",\"2020-09-24T00:00:00\",\"2020-09-25T00:00:00\",\"2020-09-28T00:00:00\",\"2020-09-29T00:00:00\",\"2020-09-30T00:00:00\",\"2020-10-01T00:00:00\",\"2020-10-02T00:00:00\",\"2020-10-05T00:00:00\",\"2020-10-06T00:00:00\",\"2020-10-07T00:00:00\",\"2020-10-08T00:00:00\",\"2020-10-09T00:00:00\",\"2020-10-12T00:00:00\",\"2020-10-13T00:00:00\",\"2020-10-14T00:00:00\",\"2020-10-15T00:00:00\",\"2020-10-16T00:00:00\",\"2020-10-19T00:00:00\",\"2020-10-20T00:00:00\",\"2020-10-21T00:00:00\",\"2020-10-22T00:00:00\",\"2020-10-23T00:00:00\",\"2020-10-26T00:00:00\",\"2020-10-27T00:00:00\",\"2020-10-28T00:00:00\",\"2020-10-29T00:00:00\",\"2020-10-30T00:00:00\",\"2020-11-02T00:00:00\",\"2020-11-03T00:00:00\",\"2020-11-04T00:00:00\",\"2020-11-05T00:00:00\",\"2020-11-06T00:00:00\",\"2020-11-09T00:00:00\",\"2020-11-10T00:00:00\",\"2020-11-11T00:00:00\",\"2020-11-12T00:00:00\",\"2020-11-13T00:00:00\",\"2020-11-16T00:00:00\",\"2020-11-17T00:00:00\",\"2020-11-18T00:00:00\",\"2020-11-19T00:00:00\",\"2020-11-20T00:00:00\",\"2020-11-23T00:00:00\",\"2020-11-24T00:00:00\",\"2020-11-25T00:00:00\",\"2020-11-26T00:00:00\",\"2020-11-27T00:00:00\",\"2020-11-30T00:00:00\",\"2020-12-01T00:00:00\",\"2020-12-02T00:00:00\",\"2020-12-03T00:00:00\",\"2020-12-04T00:00:00\",\"2020-12-07T00:00:00\",\"2020-12-08T00:00:00\",\"2020-12-09T00:00:00\",\"2020-12-10T00:00:00\",\"2020-12-11T00:00:00\",\"2020-12-14T00:00:00\",\"2020-12-15T00:00:00\",\"2020-12-16T00:00:00\",\"2020-12-17T00:00:00\",\"2020-12-18T00:00:00\",\"2020-12-21T00:00:00\",\"2020-12-22T00:00:00\",\"2020-12-23T00:00:00\",\"2020-12-24T00:00:00\",\"2020-12-28T00:00:00\",\"2020-12-29T00:00:00\",\"2020-12-30T00:00:00\",\"2020-12-31T00:00:00\",\"2021-01-04T00:00:00\",\"2021-01-05T00:00:00\",\"2021-01-06T00:00:00\",\"2021-01-07T00:00:00\",\"2021-01-08T00:00:00\",\"2021-01-11T00:00:00\",\"2021-01-12T00:00:00\",\"2021-01-13T00:00:00\",\"2021-01-14T00:00:00\",\"2021-01-15T00:00:00\",\"2021-01-18T00:00:00\",\"2021-01-19T00:00:00\",\"2021-01-20T00:00:00\",\"2021-01-21T00:00:00\",\"2021-01-22T00:00:00\",\"2021-01-25T00:00:00\",\"2021-01-26T00:00:00\",\"2021-01-27T00:00:00\",\"2021-01-28T00:00:00\",\"2021-01-29T00:00:00\",\"2021-02-01T00:00:00\",\"2021-02-02T00:00:00\",\"2021-02-03T00:00:00\",\"2021-02-04T00:00:00\",\"2021-02-05T00:00:00\",\"2021-02-08T00:00:00\",\"2021-02-09T00:00:00\",\"2021-02-10T00:00:00\",\"2021-02-11T00:00:00\",\"2021-02-12T00:00:00\",\"2021-02-15T00:00:00\",\"2021-02-16T00:00:00\",\"2021-02-17T00:00:00\",\"2021-02-18T00:00:00\",\"2021-02-19T00:00:00\",\"2021-02-22T00:00:00\",\"2021-02-23T00:00:00\",\"2021-02-24T00:00:00\",\"2021-02-25T00:00:00\",\"2021-02-26T00:00:00\",\"2021-03-01T00:00:00\",\"2021-03-02T00:00:00\",\"2021-03-03T00:00:00\",\"2021-03-04T00:00:00\",\"2021-03-05T00:00:00\",\"2021-03-08T00:00:00\",\"2021-03-09T00:00:00\",\"2021-03-10T00:00:00\",\"2021-03-11T00:00:00\",\"2021-03-12T00:00:00\",\"2021-03-15T00:00:00\",\"2021-03-16T00:00:00\",\"2021-03-17T00:00:00\",\"2021-03-18T00:00:00\",\"2021-03-19T00:00:00\",\"2021-03-22T00:00:00\",\"2021-03-23T00:00:00\",\"2021-03-24T00:00:00\",\"2021-03-25T00:00:00\",\"2021-03-26T00:00:00\",\"2021-03-29T00:00:00\",\"2021-03-30T00:00:00\",\"2021-03-31T00:00:00\",\"2021-04-01T00:00:00\",\"2021-04-05T00:00:00\",\"2021-04-06T00:00:00\",\"2021-04-07T00:00:00\",\"2021-04-08T00:00:00\",\"2021-04-09T00:00:00\",\"2021-04-12T00:00:00\",\"2021-04-13T00:00:00\",\"2021-04-14T00:00:00\",\"2021-04-15T00:00:00\",\"2021-04-16T00:00:00\",\"2021-04-19T00:00:00\",\"2021-04-20T00:00:00\",\"2021-04-21T00:00:00\",\"2021-04-22T00:00:00\",\"2021-04-23T00:00:00\",\"2021-04-26T00:00:00\",\"2021-04-27T00:00:00\",\"2021-04-28T00:00:00\",\"2021-04-29T00:00:00\",\"2021-04-30T00:00:00\",\"2021-05-03T00:00:00\",\"2021-05-04T00:00:00\",\"2021-05-05T00:00:00\",\"2021-05-06T00:00:00\",\"2021-05-07T00:00:00\",\"2021-05-10T00:00:00\",\"2021-05-11T00:00:00\",\"2021-05-12T00:00:00\",\"2021-05-13T00:00:00\",\"2021-05-14T00:00:00\",\"2021-05-17T00:00:00\",\"2021-05-18T00:00:00\",\"2021-05-19T00:00:00\",\"2021-05-20T00:00:00\",\"2021-05-21T00:00:00\",\"2021-05-24T00:00:00\",\"2021-05-25T00:00:00\",\"2021-05-26T00:00:00\",\"2021-05-27T00:00:00\",\"2021-05-28T00:00:00\",\"2021-05-31T00:00:00\",\"2021-06-01T00:00:00\",\"2021-06-02T00:00:00\",\"2021-06-03T00:00:00\",\"2021-06-04T00:00:00\",\"2021-06-07T00:00:00\",\"2021-06-08T00:00:00\",\"2021-06-09T00:00:00\",\"2021-06-10T00:00:00\",\"2021-06-11T00:00:00\",\"2021-06-14T00:00:00\",\"2021-06-15T00:00:00\",\"2021-06-16T00:00:00\",\"2021-06-17T00:00:00\",\"2021-06-18T00:00:00\",\"2021-06-21T00:00:00\",\"2021-06-22T00:00:00\",\"2021-06-23T00:00:00\",\"2021-06-24T00:00:00\",\"2021-06-25T00:00:00\",\"2021-06-28T00:00:00\",\"2021-06-29T00:00:00\",\"2021-06-30T00:00:00\",\"2021-07-01T00:00:00\",\"2021-07-02T00:00:00\",\"2021-07-05T00:00:00\",\"2021-07-06T00:00:00\",\"2021-07-07T00:00:00\",\"2021-07-08T00:00:00\",\"2021-07-09T00:00:00\",\"2021-07-12T00:00:00\",\"2021-07-13T00:00:00\",\"2021-07-14T00:00:00\",\"2021-07-15T00:00:00\",\"2021-07-16T00:00:00\",\"2021-07-19T00:00:00\",\"2021-07-20T00:00:00\",\"2021-07-21T00:00:00\",\"2021-07-22T00:00:00\",\"2021-07-23T00:00:00\",\"2021-07-26T00:00:00\",\"2021-07-27T00:00:00\",\"2021-07-28T00:00:00\",\"2021-07-29T00:00:00\",\"2021-07-30T00:00:00\",\"2021-08-02T00:00:00\",\"2021-08-03T00:00:00\",\"2021-08-04T00:00:00\",\"2021-08-05T00:00:00\",\"2021-08-06T00:00:00\",\"2021-08-09T00:00:00\",\"2021-08-10T00:00:00\",\"2021-08-11T00:00:00\",\"2021-08-12T00:00:00\",\"2021-08-13T00:00:00\",\"2021-08-16T00:00:00\",\"2021-08-17T00:00:00\",\"2021-08-18T00:00:00\",\"2021-08-19T00:00:00\",\"2021-08-20T00:00:00\",\"2021-08-23T00:00:00\",\"2021-08-24T00:00:00\",\"2021-08-25T00:00:00\",\"2021-08-26T00:00:00\",\"2021-08-27T00:00:00\",\"2021-08-30T00:00:00\",\"2021-08-31T00:00:00\",\"2021-09-01T00:00:00\",\"2021-09-02T00:00:00\",\"2021-09-03T00:00:00\",\"2021-09-06T00:00:00\",\"2021-09-07T00:00:00\",\"2021-09-08T00:00:00\",\"2021-09-09T00:00:00\",\"2021-09-10T00:00:00\",\"2021-09-13T00:00:00\",\"2021-09-14T00:00:00\",\"2021-09-15T00:00:00\",\"2021-09-16T00:00:00\",\"2021-09-17T00:00:00\",\"2021-09-20T00:00:00\",\"2021-09-21T00:00:00\",\"2021-09-22T00:00:00\",\"2021-09-23T00:00:00\",\"2021-09-24T00:00:00\",\"2021-09-27T00:00:00\",\"2021-09-28T00:00:00\",\"2021-09-29T00:00:00\",\"2021-09-30T00:00:00\",\"2021-10-01T00:00:00\",\"2021-10-04T00:00:00\",\"2021-10-05T00:00:00\",\"2021-10-06T00:00:00\",\"2021-10-07T00:00:00\",\"2021-10-08T00:00:00\",\"2021-10-11T00:00:00\",\"2021-10-12T00:00:00\",\"2021-10-13T00:00:00\",\"2021-10-14T00:00:00\",\"2021-10-15T00:00:00\",\"2021-10-18T00:00:00\",\"2021-10-19T00:00:00\",\"2021-10-20T00:00:00\",\"2021-10-21T00:00:00\",\"2021-10-22T00:00:00\",\"2021-10-25T00:00:00\",\"2021-10-26T00:00:00\",\"2021-10-27T00:00:00\",\"2021-10-28T00:00:00\",\"2021-10-29T00:00:00\",\"2021-11-01T00:00:00\",\"2021-11-02T00:00:00\",\"2021-11-03T00:00:00\",\"2021-11-04T00:00:00\",\"2021-11-05T00:00:00\",\"2021-11-08T00:00:00\",\"2021-11-09T00:00:00\",\"2021-11-10T00:00:00\",\"2021-11-11T00:00:00\",\"2021-11-12T00:00:00\",\"2021-11-15T00:00:00\",\"2021-11-16T00:00:00\",\"2021-11-17T00:00:00\",\"2021-11-18T00:00:00\",\"2021-11-19T00:00:00\",\"2021-11-22T00:00:00\",\"2021-11-23T00:00:00\",\"2021-11-24T00:00:00\",\"2021-11-25T00:00:00\",\"2021-11-26T00:00:00\",\"2021-11-29T00:00:00\",\"2021-11-30T00:00:00\",\"2021-12-01T00:00:00\",\"2021-12-02T00:00:00\",\"2021-12-03T00:00:00\",\"2021-12-06T00:00:00\",\"2021-12-07T00:00:00\",\"2021-12-08T00:00:00\",\"2021-12-09T00:00:00\",\"2021-12-10T00:00:00\",\"2021-12-13T00:00:00\",\"2021-12-14T00:00:00\",\"2021-12-15T00:00:00\",\"2021-12-16T00:00:00\",\"2021-12-17T00:00:00\",\"2021-12-20T00:00:00\",\"2021-12-21T00:00:00\",\"2021-12-22T00:00:00\",\"2021-12-23T00:00:00\",\"2021-12-27T00:00:00\",\"2021-12-28T00:00:00\",\"2021-12-29T00:00:00\",\"2021-12-30T00:00:00\",\"2021-12-31T00:00:00\",\"2022-01-03T00:00:00\",\"2022-01-04T00:00:00\",\"2022-01-05T00:00:00\",\"2022-01-06T00:00:00\",\"2022-01-07T00:00:00\",\"2022-01-10T00:00:00\",\"2022-01-11T00:00:00\",\"2022-01-12T00:00:00\",\"2022-01-13T00:00:00\",\"2022-01-14T00:00:00\",\"2022-01-17T00:00:00\",\"2022-01-18T00:00:00\",\"2022-01-19T00:00:00\",\"2022-01-20T00:00:00\",\"2022-01-21T00:00:00\",\"2022-01-24T00:00:00\",\"2022-01-25T00:00:00\",\"2022-01-26T00:00:00\",\"2022-01-27T00:00:00\",\"2022-01-28T00:00:00\",\"2022-01-31T00:00:00\",\"2022-02-01T00:00:00\",\"2022-02-02T00:00:00\",\"2022-02-03T00:00:00\",\"2022-02-04T00:00:00\",\"2022-02-07T00:00:00\",\"2022-02-08T00:00:00\",\"2022-02-09T00:00:00\",\"2022-02-10T00:00:00\",\"2022-02-11T00:00:00\",\"2022-02-14T00:00:00\",\"2022-02-15T00:00:00\",\"2022-02-16T00:00:00\",\"2022-02-17T00:00:00\",\"2022-02-18T00:00:00\",\"2022-02-21T00:00:00\",\"2022-02-22T00:00:00\",\"2022-02-23T00:00:00\",\"2022-02-24T00:00:00\",\"2022-02-25T00:00:00\",\"2022-02-28T00:00:00\",\"2022-03-01T00:00:00\",\"2022-03-02T00:00:00\",\"2022-03-03T00:00:00\",\"2022-03-04T00:00:00\",\"2022-03-07T00:00:00\",\"2022-03-08T00:00:00\",\"2022-03-09T00:00:00\",\"2022-03-10T00:00:00\",\"2022-03-11T00:00:00\",\"2022-03-14T00:00:00\",\"2022-03-15T00:00:00\",\"2022-03-16T00:00:00\",\"2022-03-17T00:00:00\",\"2022-03-18T00:00:00\",\"2022-03-21T00:00:00\",\"2022-03-22T00:00:00\",\"2022-03-23T00:00:00\",\"2022-03-24T00:00:00\",\"2022-03-25T00:00:00\",\"2022-03-28T00:00:00\",\"2022-03-29T00:00:00\",\"2022-03-30T00:00:00\",\"2022-03-31T00:00:00\",\"2022-04-01T00:00:00\",\"2022-04-04T00:00:00\",\"2022-04-05T00:00:00\",\"2022-04-06T00:00:00\",\"2022-04-07T00:00:00\",\"2022-04-08T00:00:00\",\"2022-04-11T00:00:00\",\"2022-04-12T00:00:00\",\"2022-04-13T00:00:00\",\"2022-04-14T00:00:00\",\"2022-04-18T00:00:00\",\"2022-04-19T00:00:00\",\"2022-04-20T00:00:00\",\"2022-04-21T00:00:00\",\"2022-04-22T00:00:00\",\"2022-04-25T00:00:00\",\"2022-04-26T00:00:00\",\"2022-04-27T00:00:00\",\"2022-04-28T00:00:00\",\"2022-04-29T00:00:00\",\"2022-05-02T00:00:00\",\"2022-05-03T00:00:00\",\"2022-05-04T00:00:00\",\"2022-05-05T00:00:00\",\"2022-05-06T00:00:00\",\"2022-05-09T00:00:00\",\"2022-05-10T00:00:00\",\"2022-05-11T00:00:00\",\"2022-05-12T00:00:00\",\"2022-05-13T00:00:00\",\"2022-05-16T00:00:00\",\"2022-05-17T00:00:00\",\"2022-05-18T00:00:00\",\"2022-05-19T00:00:00\",\"2022-05-20T00:00:00\",\"2022-05-23T00:00:00\",\"2022-05-24T00:00:00\",\"2022-05-25T00:00:00\",\"2022-05-26T00:00:00\",\"2022-05-27T00:00:00\",\"2022-05-30T00:00:00\",\"2022-05-31T00:00:00\",\"2022-06-01T00:00:00\",\"2022-06-02T00:00:00\",\"2022-06-03T00:00:00\",\"2022-06-06T00:00:00\",\"2022-06-07T00:00:00\",\"2022-06-08T00:00:00\",\"2022-06-09T00:00:00\",\"2022-06-10T00:00:00\",\"2022-06-13T00:00:00\",\"2022-06-14T00:00:00\",\"2022-06-15T00:00:00\",\"2022-06-16T00:00:00\",\"2022-06-17T00:00:00\",\"2022-06-20T00:00:00\",\"2022-06-21T00:00:00\",\"2022-06-22T00:00:00\",\"2022-06-23T00:00:00\",\"2022-06-24T00:00:00\",\"2022-06-27T00:00:00\",\"2022-06-28T00:00:00\",\"2022-06-29T00:00:00\",\"2022-06-30T00:00:00\",\"2022-07-01T00:00:00\",\"2022-07-04T00:00:00\",\"2022-07-05T00:00:00\",\"2022-07-06T00:00:00\",\"2022-07-07T00:00:00\",\"2022-07-08T00:00:00\",\"2022-07-11T00:00:00\",\"2022-07-12T00:00:00\",\"2022-07-13T00:00:00\",\"2022-07-14T00:00:00\",\"2022-07-15T00:00:00\",\"2022-07-18T00:00:00\",\"2022-07-19T00:00:00\",\"2022-07-20T00:00:00\",\"2022-07-21T00:00:00\",\"2022-07-22T00:00:00\",\"2022-07-25T00:00:00\",\"2022-07-26T00:00:00\",\"2022-07-27T00:00:00\",\"2022-07-28T00:00:00\",\"2022-07-29T00:00:00\",\"2022-08-01T00:00:00\",\"2022-08-02T00:00:00\",\"2022-08-03T00:00:00\",\"2022-08-04T00:00:00\",\"2022-08-05T00:00:00\",\"2022-08-08T00:00:00\",\"2022-08-09T00:00:00\",\"2022-08-10T00:00:00\",\"2022-08-11T00:00:00\",\"2022-08-12T00:00:00\",\"2022-08-15T00:00:00\",\"2022-08-16T00:00:00\",\"2022-08-17T00:00:00\",\"2022-08-18T00:00:00\",\"2022-08-19T00:00:00\",\"2022-08-22T00:00:00\",\"2022-08-23T00:00:00\",\"2022-08-24T00:00:00\",\"2022-08-25T00:00:00\",\"2022-08-26T00:00:00\",\"2022-08-29T00:00:00\",\"2022-08-30T00:00:00\",\"2022-08-31T00:00:00\",\"2022-09-01T00:00:00\",\"2022-09-02T00:00:00\",\"2022-09-04T00:00:00\",\"2022-09-05T00:00:00\",\"2022-09-06T00:00:00\",\"2022-09-07T00:00:00\",\"2022-09-08T00:00:00\",\"2022-09-09T00:00:00\",\"2022-09-12T00:00:00\",\"2022-09-13T00:00:00\",\"2022-09-14T00:00:00\",\"2022-09-15T00:00:00\",\"2022-09-16T00:00:00\",\"2022-09-19T00:00:00\",\"2022-09-20T00:00:00\",\"2022-09-21T00:00:00\",\"2022-09-22T00:00:00\",\"2022-09-23T00:00:00\",\"2022-09-26T00:00:00\",\"2022-09-27T00:00:00\",\"2022-09-28T00:00:00\",\"2022-09-29T00:00:00\",\"2022-09-30T00:00:00\",\"2022-10-03T00:00:00\",\"2022-10-04T00:00:00\",\"2022-10-05T00:00:00\",\"2022-10-06T00:00:00\",\"2022-10-07T00:00:00\",\"2022-10-10T00:00:00\",\"2022-10-11T00:00:00\",\"2022-10-12T00:00:00\",\"2022-10-13T00:00:00\",\"2022-10-14T00:00:00\",\"2022-10-17T00:00:00\",\"2022-10-18T00:00:00\",\"2022-10-19T00:00:00\",\"2022-10-20T00:00:00\",\"2022-10-21T00:00:00\",\"2022-10-24T00:00:00\",\"2022-10-25T00:00:00\",\"2022-10-26T00:00:00\",\"2022-10-27T00:00:00\",\"2022-10-28T00:00:00\",\"2022-10-31T00:00:00\",\"2022-11-01T00:00:00\",\"2022-11-02T00:00:00\",\"2022-11-03T00:00:00\",\"2022-11-04T00:00:00\",\"2022-11-07T00:00:00\",\"2022-11-08T00:00:00\",\"2022-11-09T00:00:00\",\"2022-11-10T00:00:00\",\"2022-11-11T00:00:00\",\"2022-11-14T00:00:00\",\"2022-11-15T00:00:00\",\"2022-11-16T00:00:00\",\"2022-11-17T00:00:00\",\"2022-11-18T00:00:00\",\"2022-11-21T00:00:00\",\"2022-11-22T00:00:00\",\"2022-11-23T00:00:00\",\"2022-11-24T00:00:00\",\"2022-11-25T00:00:00\",\"2022-11-28T00:00:00\",\"2022-11-29T00:00:00\",\"2022-11-30T00:00:00\",\"2022-12-01T00:00:00\",\"2022-12-02T00:00:00\",\"2022-12-05T00:00:00\",\"2022-12-06T00:00:00\",\"2022-12-07T00:00:00\",\"2022-12-08T00:00:00\",\"2022-12-09T00:00:00\",\"2022-12-12T00:00:00\",\"2022-12-13T00:00:00\",\"2022-12-14T00:00:00\",\"2022-12-15T00:00:00\",\"2022-12-16T00:00:00\",\"2022-12-19T00:00:00\",\"2022-12-20T00:00:00\",\"2022-12-21T00:00:00\",\"2022-12-22T00:00:00\",\"2022-12-23T00:00:00\",\"2022-12-26T00:00:00\",\"2022-12-27T00:00:00\",\"2022-12-28T00:00:00\",\"2022-12-29T00:00:00\",\"2022-12-30T00:00:00\"],\"xaxis\":\"x\",\"y\":[1689.9,1675.6,1649.9,1647.2,1663.2,1656.5,1679.0,1661.6,1670.4,1684.9,1684.2,1691.8,1688.0,1693.2,1694.2,1687.7,1670.9,1657.6,1654.0,1661.7,1681.6,1662.0,1670.6,1676.4,1673.5,1678.8,1671.3,1666.9,1649.1,1649.6,1645.1,1635.5,1609.5,1604.2,1604.2,1578.0,1578.6,1572.8,1586.6,1615.5,1597.4,1578.9,1573.1,1573.3,1575.8,1575.8,1576.1,1577.9,1579.0,1592.7,1589.4,1591.7,1593.6,1605.5,1612.2,1608.4,1614.7,1607.0,1605.4,1596.4,1607.2,1595.7,1600.9,1575.9,1553.5,1552.4,1575.9,1572.5,1586.7,1558.8,1564.9,1501.4,1361.1,1387.4,1382.7,1392.5,1395.6,1421.2,1408.8,1423.7,1462.0,1453.6,1468.1,1472.7,1446.8,1468.2,1464.8,1468.6,1449.4,1474.3,1469.1,1437.0,1434.9,1425.1,1396.8,1387.5,1365.3,1384.8,1378.2,1367.9,1392.3,1387.0,1378.9,1379.3,1391.6,1412.0,1393.0,1411.9,1397.2,1398.5,1415.8,1383.0,1386.0,1377.0,1392.0,1377.8,1387.6,1383.1,1366.9,1374.0,1286.2,1292.0,1277.1,1275.1,1229.8,1212.1,1224.2,1256.3,1244.0,1252.5,1212.7,1213.3,1235.5,1246.5,1248.0,1280.4,1278.1,1284.0,1290.8,1277.8,1284.5,1293.2,1336.4,1334.9,1319.7,1329.0,1321.4,1328.8,1324.4,1312.6,1310.8,1310.3,1302.2,1282.6,1285.5,1310.1,1312.3,1334.3,1320.6,1333.6,1361.1,1371.0,1365.7,1372.6,1370.1,1370.7,1395.6,1393.0,1420.0,1418.5,1412.7,1395.9,1412.0,1411.8,1389.8,1372.8,1386.3,1386.5,1363.8,1363.6,1330.4,1308.4,1317.8,1309.4,1307.6,1369.4,1332.5,1327.0,1316.1,1336.0,1323.8,1339.2,1327.0,1286.1,1320.7,1317.6,1309.9,1325.1,1324.6,1307.2,1296.9,1268.2,1276.6,1273.2,1282.3,1323.0,1314.6,1315.8,1342.6,1334.0,1350.3,1352.5,1352.2,1345.5,1349.7,1324.1,1313.6,1315.1,1308.5,1318.2,1308.9,1285.1,1281.6,1271.7,1268.9,1286.8,1287.8,1272.7,1273.9,1258.4,1243.9,1244.3,1241.4,1241.4,1237.9,1250.4,1250.4,1221.9,1220.8,1247.2,1231.9,1229.0,1234.2,1261.1,1257.2,1224.9,1234.6,1244.4,1230.1,1235.0,1193.6,1203.7,1197.0,1203.3,1212.3,1214.0,1204.1,1202.6,1225.5,1239.0,1238.3,1229.9,1225.8,1229.7,1247.3,1251.5,1245.8,1238.6,1240.4,1252.1,1241.8,1241.8,1238.5,1262.3,1264.4,1263.5,1250.6,1262.2,1242.5,1239.8,1259.9,1251.2,1256.9,1257.2,1262.9,1274.7,1289.8,1295.0,1300.1,1318.6,1324.4,1324.4,1320.4,1316.9,1323.6,1338.0,1342.7,1328.0,1331.9,1321.7,1350.4,1338.2,1340.7,1352.2,1338.6,1341.9,1347.1,1370.7,1372.6,1379.2,1373.1,1359.1,1341.5,1330.7,1336.0,1311.2,1311.5,1303.5,1294.8,1294.3,1283.8,1280.0,1290.8,1284.6,1303.5,1298.3,1309.1,1305.9,1320.5,1319.0,1327.5,1300.3,1303.5,1293.9,1288.5,1281.1,1284.6,1290.6,1300.8,1299.0,1296.4,1296.0,1283.6,1303.1,1309.5,1308.8,1289.1,1287.9,1287.8,1295.9,1295.0,1306.1,1293.8,1293.5,1293.9,1294.7,1288.2,1295.1,1291.8,1265.5,1265.6,1259.6,1257.1,1246.0,1244.0,1244.5,1244.3,1253.3,1252.5,1253.9,1260.1,1261.2,1274.0,1274.1,1275.3,1272.0,1272.7,1314.1,1316.6,1318.4,1321.3,1322.6,1317.0,1320.1,1322.1,1326.7,1331.3,1321.1,1317.0,1317.6,1317.1,1325.0,1339.8,1338.0,1307.3,1297.7,1300.4,1317.5,1310.0,1314.5,1306.9,1305.3,1291.4,1304.0,1304.1,1299.0,1295.9,1281.9,1294.1,1288.3,1284.6,1307.4,1311.6,1310.1,1309.7,1309.8,1313.7,1314.9,1305.4,1298.5,1295.9,1294.3,1274.5,1279.3,1278.0,1284.3,1282.5,1289.9,1287.2,1265.0,1264.9,1270.0,1266.2,1266.9,1253.9,1248.0,1244.8,1238.3,1230.9,1234.5,1236.2,1235.4,1226.4,1216.0,1217.3,1221.5,1219.0,1221.5,1214.8,1218.8,1211.6,1215.5,1215.1,1192.9,1207.3,1212.4,1206.0,1225.3,1221.7,1230.0,1234.3,1244.8,1241.2,1239.0,1244.7,1251.7,1245.5,1229.1,1231.8,1229.3,1229.4,1224.9,1199.0,1172.0,1170.2,1168.1,1146.1,1142.9,1170.2,1160.2,1163.5,1159.5,1161.9,1185.9,1183.8,1197.4,1194.2,1191.1,1198.0,1196.2,1197.5,1197.5,1175.5,1175.5,1218.1,1199.4,1208.7,1207.7,1190.4,1194.9,1232.0,1229.4,1225.6,1222.5,1207.7,1194.3,1194.5,1194.8,1196.0,1179.8,1178.0,1173.5,1195.3,1181.9,1200.8,1184.5,1186.6,1204.4,1219.7,1211.0,1208.8,1216.5,1233.2,1234.8,1234.9,1265.2,1277.4,1294.2,1294.7,1294.3,1301.3,1293.2,1279.9,1292.3,1286.6,1255.9,1279.2,1276.9,1260.3,1264.5,1262.7,1234.6,1241.5,1232.2,1219.6,1220.7,1227.1,1208.6,1208.6,1200.2,1207.6,1204.9,1200.8,1197.3,1201.5,1210.5,1213.5,1208.7,1204.9,1201.4,1196.7,1164.8,1167.0,1160.6,1151.1,1152.4,1152.8,1153.6,1148.6,1151.7,1169.4,1185.0,1188.0,1191.7,1197.5,1205.3,1200.3,1185.3,1183.2,1208.2,1200.9,1200.9,1218.6,1210.6,1203.1,1193.6,1204.6,1199.3,1192.6,1201.3,1198.0,1203.1,1193.7,1203.1,1186.9,1194.3,1175.0,1203.2,1213.9,1210.5,1182.9,1175.0,1187.3,1193.7,1190.8,1182.7,1189.4,1183.5,1192.9,1218.7,1225.7,1225.8,1228.1,1207.2,1209.2,1204.6,1204.4,1186.9,1187.3,1186.0,1188.8,1189.8,1188.7,1194.4,1184.9,1175.2,1168.1,1173.6,1177.6,1186.6,1180.4,1179.2,1185.8,1180.9,1176.8,1202.0,1201.9,1184.1,1176.6,1172.9,1171.8,1173.2,1179.5,1172.3,1169.9,1164.1,1173.2,1173.7,1153.1,1164.0,1159.7,1158.4,1155.9,1154.0,1147.9,1144.3,1132.2,1107.1,1103.7,1091.7,1094.2,1085.7,1096.6,1096.3,1092.8,1088.4,1094.7,1089.0,1090.3,1085.3,1089.8,1093.8,1103.8,1107.5,1123.3,1115.3,1112.4,1118.1,1116.6,1127.6,1152.8,1159.2,1153.1,1137.9,1124.2,1122.2,1133.7,1132.2,1139.5,1133.3,1124.2,1121.1,1121.0,1120.8,1102.0,1109.3,1103.3,1107.6,1102.6,1119.0,1117.1,1138.0,1133.0,1124.9,1131.6,1154.0,1145.6,1131.7,1126.8,1115.2,1113.7,1136.6,1137.6,1146.4,1148.7,1144.3,1155.9,1164.5,1165.4,1179.8,1187.5,1183.1,1172.8,1177.5,1167.1,1166.1,1162.8,1166.2,1165.8,1176.1,1147.7,1141.8,1136.3,1114.5,1106.6,1104.6,1088.1,1088.5,1088.9,1085.2,1081.3,1081.2,1083.8,1068.7,1068.8,1078.0,1076.3,1066.7,1073.3,1069.8,1056.2,1056.2,1065.3,1063.5,1053.8,1061.2,1084.1,1075.2,1075.3,1076.5,1072.0,1075.7,1063.4,1061.6,1076.8,1049.6,1065.0,1080.6,1074.1,1068.3,1075.9,1068.3,1068.0,1060.1,1060.5,1075.5,1078.7,1092.2,1108.1,1098.1,1096.3,1085.3,1087.2,1073.6,1090.7,1089.1,1089.0,1105.7,1097.7,1096.0,1105.5,1120.3,1116.0,1116.1,1116.4,1128.0,1127.2,1141.3,1157.5,1157.7,1197.9,1198.6,1194.6,1247.8,1239.4,1208.2,1208.2,1211.4,1226.3,1230.8,1210.1,1222.6,1239.1,1238.8,1220.7,1234.7,1231.1,1242.1,1258.6,1271.1,1264.5,1263.4,1257.9,1273.3,1259.9,1245.6,1231.5,1230.3,1265.5,1254.8,1244.8,1249.2,1224.6,1222.2,1220.8,1236.4,1228.6,1235.6,1223.5,1219.3,1229.6,1223.8,1237.5,1243.8,1258.0,1260.9,1248.3,1226.5,1234.6,1235.0,1254.3,1254.4,1250.3,1230.0,1240.2,1243.4,1250.4,1267.3,1291.5,1296.9,1292.9,1275.6,1273.5,1295.1,1267.8,1266.0,1276.8,1272.3,1273.8,1275.4,1278.2,1275.7,1256.1,1254.4,1253.2,1230.7,1225.2,1221.5,1216.7,1217.5,1217.5,1214.7,1212.6,1242.9,1247.4,1247.0,1262.3,1272.7,1275.9,1286.9,1288.1,1288.3,1298.4,1294.8,1292.1,1272.5,1270.0,1263.1,1322.4,1324.7,1317.9,1328.6,1322.0,1340.4,1358.7,1360.6,1369.0,1364.1,1360.5,1358.9,1337.3,1345.6,1334.1,1329.3,1331.1,1334.2,1321.2,1332.8,1325.3,1321.3,1322.5,1328.6,1337.0,1353.1,1355.2,1368.2,1360.2,1362.7,1339.5,1336.4,1342.1,1347.4,1345.5,1338.9,1343.2,1352.7,1344.8,1353.2,1342.2,1339.4,1342.1,1326.1,1321.2,1322.6,1323.7,1314.7,1309.6,1315.3,1324.9,1354.0,1351.8,1346.7,1339.1,1332.1,1323.1,1321.1,1323.5,1315.7,1307.8,1315.5,1315.8,1329.1,1342.5,1339.3,1341.7,1328.0,1321.4,1326.0,1317.1,1312.7,1269.7,1268.6,1253.0,1251.9,1260.4,1255.9,1253.8,1257.6,1255.5,1256.6,1262.9,1269.9,1267.5,1267.7,1263.7,1273.6,1266.6,1269.5,1278.6,1275.1,1290.0,1310.2,1305.3,1306.5,1281.3,1276.4,1275.4,1267.9,1225.6,1223.0,1225.9,1225.3,1218.3,1210.1,1211.3,1212.7,1190.8,1178.4,1179.6,1192.3,1190.8,1173.9,1169.4,1177.8,1176.5,1170.1,1177.5,1172.4,1161.9,1165.8,1159.0,1163.7,1129.8,1137.4,1142.7,1133.6,1133.2,1130.7,1133.6,1138.8,1140.9,1160.7,1152.9,1163.2,1166.5,1182.6,1174.8,1186.3,1186.9,1198.0,1201.2,1197.5,1212.9,1214.3,1213.5,1202.7,1206.0,1216.6,1211.7,1199.0,1191.0,1189.8,1196.0,1211.4,1208.3,1219.4,1220.8,1232.1,1236.1,1239.5,1236.8,1235.9,1225.8,1225.4,1233.1,1241.6,1239.1,1238.9,1238.9,1233.3,1251.4,1258.3,1260.4,1255.4,1251.6,1234.4,1228.1,1227.1,1217.7,1211.0,1204.8,1203.0,1204.7,1204.2,1202.3,1228.6,1231.7,1235.6,1248.0,1251.2,1248.6,1250.1,1257.3,1257.2,1255.3,1248.0,1251.2,1254.0,1258.4,1248.5,1253.3,1257.3,1253.9,1274.2,1278.1,1288.5,1291.9,1294.1,1283.4,1283.8,1289.1,1277.5,1267.2,1264.2,1267.6,1270.0,1257.2,1258.7,1250.2,1230.2,1228.5,1228.7,1217.7,1220.5,1225.8,1229.3,1231.6,1238.0,1260.4,1254.5,1255.2,1263.0,1257.1,1254.7,1258.0,1269.7,1265.7,1265.7,1275.4,1270.1,1280.2,1282.7,1297.5,1293.2,1279.5,1271.4,1268.9,1268.6,1275.9,1254.6,1256.5,1246.7,1243.5,1245.8,1249.4,1256.4,1246.4,1246.9,1249.1,1247.6,1244.1,1221.0,1221.7,1223.4,1225.0,1211.4,1214.9,1216.4,1220.8,1218.9,1229.1,1235.3,1243.4,1243.4,1246.8,1256.0,1255.6,1253.5,1250.8,1261.5,1271.9,1270.1,1276.1,1275.1,1271.1,1261.3,1261.4,1259.3,1276.0,1286.7,1290.7,1287.0,1276.3,1279.5,1289.1,1288.3,1293.3,1287.6,1291.3,1288.6,1294.5,1311.8,1315.3,1312.3,1320.4,1328.5,1344.5,1342.6,1337.1,1348.4,1349.1,1333.2,1330.5,1325.6,1326.9,1322.9,1308.3,1308.2,1314.0,1292.2,1294.9,1308.8,1299.5,1285.8,1288.7,1284.8,1275.8,1274.6,1276.8,1273.2,1274.9,1285.0,1293.8,1288.9,1296.5,1304.6,1303.0,1286.2,1283.0,1290.0,1280.5,1280.9,1278.3,1279.0,1269.6,1271.8,1279.8,1272.4,1279.2,1279.8,1270.8,1283.3,1277.5,1285.4,1289.2,1275.9,1280.6,1284.6,1279.4,1279.9,1298.2,1277.1,1283.5,1294.1,1287.3,1289.2,1296.2,1296.6,1286.2,1276.7,1282.3,1277.7,1264.9,1266.1,1253.1,1248.4,1246.9,1241.7,1248.6,1257.1,1257.5,1265.5,1264.2,1269.6,1270.6,1278.8,1287.5,1291.4,1299.5,1311.4,1318.3,1320.8,1323.9,1324.5,1322.7,1315.9,1321.6,1324.7,1337.2,1337.1,1339.3,1341.4,1329.5,1335.3,1334.3,1339.0,1358.7,1365.2,1354.4,1342.2,1340.0,1343.1,1347.9,1337.3,1336.5,1329.5,1314.6,1319.0,1315.7,1326.4,1330.4,1358.0,1355.3,1356.2,1331.2,1331.2,1332.1,1332.7,1330.3,1332.8,1321.4,1320.6,1307.9,1325.9,1322.6,1337.9,1330.3,1324.4,1326.7,1323.5,1329.8,1328.2,1320.4,1314.8,1320.3,1314.5,1324.0,1329.8,1352.4,1357.6,1344.7,1330.0,1327.3,1346.9,1337.3,1340.2,1328.5,1336.1,1340.1,1345.9,1360.0,1341.9,1347.9,1350.7,1349.5,1353.5,1348.8,1338.3,1324.0,1333.0,1322.8,1317.9,1326.5,1322.3,1309.9,1308.6,1315.7,1317.7,1317.2,1316.8,1316.1,1325.3,1323.8,1321.2,1293.4,1294.5,1292.4,1294.1,1293.5,1294.6,1292.2,1307.3,1306.4,1299.0,1301.6,1306.5,1304.7,1299.3,1297.3,1302.2,1301.4,1303.0,1302.7,1303.2,1299.4,1301.3,1308.3,1278.5,1280.1,1278.6,1274.5,1270.5,1270.7,1268.9,1259.9,1256.1,1253.8,1257.3,1244.6,1256.4,1258.8,1261.7,1258.9,1262.8,1258.7,1247.4,1249.1,1243.8,1242.2,1229.9,1230.5,1226.5,1233.6,1228.0,1228.2,1234.5,1228.6,1226.5,1226.4,1228.5,1222.4,1214.9,1218.1,1212.6,1213.3,1216.2,1215.1,1214.2,1194.2,1196.1,1180.5,1179.6,1179.8,1190.2,1195.5,1198.7,1189.3,1208.6,1211.2,1209.5,1206.5,1202.5,1204.1,1199.1,1196.6,1198.8,1201.7,1197.8,1197.2,1199.5,1208.2,1205.5,1198.6,1203.4,1200.7,1206.1,1208.9,1198.6,1201.7,1202.5,1196.9,1187.4,1196.2,1191.7,1207.0,1202.9,1201.6,1205.6,1188.6,1191.5,1193.4,1227.6,1222.0,1230.3,1231.0,1227.4,1230.1,1228.7,1224.6,1236.8,1231.1,1232.4,1235.8,1227.6,1228.3,1218.0,1241.5,1237.0,1236.2,1230.5,1233.1,1229.3,1212.6,1207.3,1205.1,1213.8,1218.6,1226.4,1228.6,1224.4,1231.2,1223.2,1226.6,1226.1,1217.1,1227.2,1230.4,1226.0,1239.6,1246.6,1242.6,1243.6,1252.6,1249.4,1247.2,1250.0,1247.4,1241.4,1251.8,1253.6,1256.4,1267.9,1258.1,1271.8,1273.0,1281.1,1286.1,1284.5,1287.3,1298.4,1289.2,1293.3,1289.3,1295.4,1290.8,1292.9,1294.7,1291.4,1296.6,1295.2,1284.8,1283.4,1285.8,1286.8,1282.3,1300.7,1305.9,1312.1,1315.5,1325.2,1322.1,1319.3,1319.2,1314.4,1314.2,1318.5,1311.9,1314.0,1315.1,1313.9,1322.1,1344.8,1344.8,1347.9,1327.8,1332.8,1329.5,1328.5,1325.0,1319.4,1302.5,1290.5,1287.8,1290.8,1289.4,1302.7,1294.3,1301.2,1312.5,1298.5,1305.8,1304.6,1309.6,1304.7,1310.6,1315.4,1325.4,1318.3,1313.9,1295.3,1298.5,1294.2,1295.4,1295.3,1294.3,1295.6,1301.9,1308.3,1313.9,1293.3,1295.2,1291.3,1277.2,1276.8,1276.0,1277.6,1273.2,1279.4,1279.7,1288.8,1284.5,1288.6,1287.2,1275.0,1284.3,1286.9,1288.6,1284.4,1288.2,1290.2,1304.7,1299.0,1300.5,1289.4,1278.9,1280.3,1276.2,1277.1,1288.4,1286.4,1277.1,1280.1,1283.7,1292.4,1311.1,1327.9,1328.7,1333.6,1342.7,1346.1,1329.3,1331.2,1336.8,1343.7,1344.5,1342.9,1350.7,1348.8,1396.9,1400.1,1418.2,1418.7,1415.4,1414.9,1416.7,1392.4,1411.2,1424.2,1400.1,1403.4,1403.3,1403.9,1415.8,1410.0,1415.9,1417.3,1415.0,1427.2,1431.9,1430.1,1430.7,1425.5,1427.4,1418.0,1423.5,1424.3,1435.8,1431.8,1426.5,1451.6,1470.6,1478.3,1513.2,1503.1,1502.0,1510.9,1507.9,1521.6,1525.1,1517.5,1505.5,1509.7,1509.6,1502.3,1531.4,1530.9,1545.6,1542.8,1533.7,1526.2,1555.9,1552.8,1557.2,1522.5,1512.4,1508.1,1496.4,1500.5,1504.8,1496.8,1508.7,1510.8,1513.0,1503.4,1512.0,1527.8,1536.6,1508.9,1511.7,1506.4,1472.9,1489.0,1507.9,1513.8,1512.9,1504.4,1503.9,1512.8,1500.9,1488.7,1497.6,1483.5,1494.0,1498.3,1494.1,1488.1,1487.5,1495.7,1504.7,1505.3,1495.8,1490.7,1500.2,1518.3,1514.9,1514.7,1487.6,1496.8,1469.9,1466.4,1460.6,1457.2,1466.8,1476.9,1472.0,1475.4,1477.8,1477.5,1467.1,1467.3,1460.5,1464.4,1460.8,1472.7,1472.7,1469.2,1484.4,1480.2,1483.1,1465.1,1464.9,1468.1,1475.0,1472.3,1481.2,1480.5,1480.6,1478.7,1484.4,1480.9,1488.7,1504.8,1514.4,1518.1,1521.6,1526.5,1531.4,1555.5,1572.0,1577.6,1563.8,1557.8,1563.6,1553.7,1548.0,1557.2,1553.7,1563.6,1557.9,1560.8,1560.0,1568.8,1575.2,1580.6,1572.8,1573.5,1589.2,1587.9,1582.4,1555.5,1562.8,1570.0,1573.4,1579.5,1570.1,1571.6,1578.8,1586.4,1603.6,1603.6,1611.8,1620.5,1648.8,1676.6,1650.0,1643.1,1645.3,1569.3,1597.1,1646.6,1645.2,1670.0,1674.3,1677.4,1662.0,1644.1,1592.1,1518.2,1487.6,1527.2,1479.4,1481.3,1486.5,1570.2,1664.0,1636.6,1656.0,1641.3,1643.2,1596.6,1591.4,1637.7,1645.7,1693.9,1683.7,1684.3,1752.8,1761.4,1768.9,1740.2,1731.7,1698.8,1711.2,1687.8,1738.3,1745.4,1735.6,1723.8,1722.2,1716.3,1697.1,1704.4,1717.2,1715.0,1692.7,1730.0,1719.3,1704.6,1713.4,1721.6,1746.1,1761.5,1739.6,1751.6,1758.7,1729.2,1744.3,1705.6,1717.3,1719.1,1728.3,1751.7,1750.3,1734.0,1704.8,1727.4,1683.0,1705.1,1721.9,1720.7,1739.8,1737.3,1727.2,1736.5,1735.6,1731.1,1753.0,1766.4,1782.0,1775.1,1770.6,1780.3,1785.9,1805.2,1785.9,1795.8,1793.5,1799.0,1815.8,1826.5,1810.7,1808.6,1820.8,1819.8,1820.5,1806.3,1816.0,1822.2,1848.7,1869.9,1894.8,1902.5,1936.2,1949.9,1959.4,1955.2,1973.9,1974.7,2008.5,2037.1,2058.4,2018.0,2030.3,1938.9,1940.5,1961.9,1942.3,1989.9,2004.8,1963.5,1938.3,1938.3,1931.5,1915.6,1944.1,1925.0,1970.8,1974.5,1974.8,1940.8,1933.8,1930.6,1943.2,1939.5,1950.4,1959.7,1943.3,1958.8,1961.9,1966.2,1945.4,1957.5,1906.2,1903.4,1864.5,1873.0,1862.2,1877.6,1903.2,1895.5,1916.3,1907.6,1920.1,1908.8,1890.8,1895.1,1926.2,1928.9,1894.6,1907.3,1908.9,1906.4,1911.7,1915.4,1929.5,1904.6,1905.2,1905.7,1911.9,1879.2,1871.6,1883.5,1895.7,1914.0,1899.7,1950.2,1955.3,1860.1,1881.2,1866.2,1877.8,1890.7,1891.5,1888.8,1877.1,1864.8,1875.7,1841.5,1808.1,1808.8,1788.1,1788.1,1780.9,1818.9,1830.2,1841.1,1840.0,1866.0,1874.9,1838.5,1837.4,1843.6,1832.1,1855.3,1859.1,1890.4,1888.9,1882.8,1870.3,1878.1,1883.2,1880.4,1882.9,1895.6,1897.3,1949.0,1956.7,1910.4,1915.6,1837.3,1852.7,1846.1,1856.8,1853.3,1831.7,1840.2,1842.0,1868.5,1867.5,1857.9,1856.9,1852.8,1846.8,1841.2,1850.3,1863.9,1833.4,1835.1,1791.2,1813.0,1834.2,1837.5,1842.7,1826.8,1823.2,1799.0,1799.0,1772.8,1775.0,1777.4,1808.4,1805.9,1797.9,1776.9,1730.1,1724.4,1735.1,1717.3,1702.4,1700.3,1679.6,1718.5,1723.3,1723.9,1721.2,1730.6,1732.2,1728.4,1733.7,1742.9,1739.4,1726.4,1734.4,1726.3,1733.6,1713.6,1686.0,1715.6,1728.4,1728.8,1743.0,1741.6,1758.2,1744.8,1732.7,1747.6,1736.3,1766.8,1780.2,1770.6,1778.4,1793.1,1782.0,1777.8,1780.1,1778.8,1773.9,1769.4,1768.6,1792.6,1777.0,1785.3,1816.7,1832.4,1838.6,1837.0,1823.7,1825.0,1839.1,1868.5,1869.0,1882.3,1882.8,1877.6,1885.5,1899.0,1902.3,1898.5,1905.3,1905.0,1905.0,1909.9,1873.3,1892.0,1898.8,1894.4,1895.5,1896.4,1879.6,1865.9,1856.4,1861.4,1774.8,1769.0,1782.9,1777.4,1783.4,1776.7,1777.8,1780.7,1764.5,1772.4,1777.6,1784.1,1794.2,1795.0,1803.0,1801.1,1811.5,1806.8,1810.8,1825.9,1829.9,1815.9,1810.2,1812.3,1804.4,1806.5,1802.9,1800.4,1800.9,1800.8,1833.2,1814.5,1819.8,1811.7,1812.2,1806.6,1761.1,1724.4,1729.7,1751.2,1749.8,1776.0,1787.6,1785.7,1782.3,1780.9,1781.8,1804.0,1806.3,1788.8,1793.0,1817.2,1810.0,1816.9,1814.9,1810.4,1832.6,1798.5,1797.4,1792.4,1798.9,1791.0,1793.3,1806.1,1793.7,1755.7,1750.5,1762.9,1777.3,1777.9,1748.9,1750.9,1751.4,1737.0,1722.9,1757.0,1758.4,1767.6,1760.9,1761.8,1759.2,1757.4,1755.7,1759.3,1794.7,1797.9,1768.3,1765.7,1770.5,1784.9,1781.9,1796.3,1806.8,1793.4,1798.8,1803.6,1784.9,1796.9,1790.6,1765.1,1794.7,1818.0,1829.2,1832.0,1849.5,1865.2,1869.7,1868.0,1855.4,1871.5,1862.7,1852.9,1807.7,1785.1,1785.6,1788.1,1786.9,1785.2,1776.5,1784.3,1762.7,1783.9,1779.5,1784.7,1785.5,1776.7,1784.8,1788.3,1772.3,1764.5,1798.2,1804.9,1794.6,1788.7,1802.2,1811.7,1808.8,1810.9,1805.8,1815.3,1829.7,1801.1,1815.8,1826.6,1791.0,1799.3,1800.7,1820.4,1829.1,1823.3,1818.3,1812.4,1814.1,1844.7,1844.3,1833.5,1843.4,1854.1,1831.0,1794.2,1786.6,1796.4,1801.5,1810.3,1804.1,1807.8,1821.8,1827.9,1836.6,1837.4,1842.1,1869.4,1856.2,1871.5,1902.0,1899.8,1907.4,1907.4,1910.4,1926.3,1889.2,1902.2,1945.3,1924.6,1938.1,1968.9,1998.7,2046.3,1990.7,2002.9,1987.6,1963.4,1932.6,1911.9,1946.0,1931.7,1932.5,1924.4,1940.2,1964.9,1956.9,1942.3,1915.2,1939.0,1954.0,1923.7,1934.0,1927.5,1923.1,1937.8,1945.6,1948.2,1976.1,1984.7,1974.9,1986.4,1959.0,1955.6,1948.2,1934.3,1896.0,1904.1,1888.7,1894.8,1915.1,1867.0,1873.9,1872.1,1879.0,1886.2,1862.0,1844.4,1857.1,1827.9,1811.3,1816.8,1821.9,1819.0,1844.0,1844.7,1850.6,1868.4,1849.2,1850.6,1857.3,1848.4,1848.4,1848.7,1871.4,1850.2,1843.7,1852.1,1856.5,1852.8,1875.5,1831.8,1813.5,1819.6,1849.9,1840.6,1838.8,1838.8,1838.4,1829.8,1830.3,1824.8,1821.2,1822.0,1812.0,1805.9,1763.9,1768.9,1741.3,1744.1,1746.7,1735.9,1728.9,1739.5,1709.9,1707.5,1713.8,1714.1,1703.9,1717.3,1731.4,1723.2,1721.9,1723.3,1759.0,1771.5,1777.6,1779.7,1766.1,1796.2,1780.5,1794.3,1801.5,1803.3,1796.8,1805.2,1787.9,1779.4,1766.5,1761.1,1753.0,1738.6,1751.5,1752.0,1761.8,1740.6,1740.5,1731.6,1721.4,1704.4,1717.7,1718.65,1724.8,1707.9,1722.8,1715.3,1723.6,1735.6,1712.0,1703.2,1671.4,1677.9,1672.6,1665.7,1670.5,1676.1,1650.0,1628.2,1631.1,1665.1,1668.6,1672.0,1702.0,1730.5,1720.8,1720.8,1709.3,1675.2,1686.0,1677.5,1677.0,1643.7,1658.9,1650.7,1629.0,1631.8,1651.5,1649.2,1653.3,1664.4,1660.3,1644.8,1640.7,1649.7,1650.0,1630.9,1676.6,1680.5,1716.0,1713.7,1753.7,1769.4,1776.9,1776.8,1775.8,1763.0,1754.4,1739.6,1739.9,1745.6,1755.35,1754.0,1755.3,1763.7,1759.9,1815.2,1809.6,1781.3,1782.4,1798.0,1801.5,1810.7,1792.3,1825.5,1818.7,1787.8,1800.2,1797.7,1825.4,1825.4,1795.3,1804.2,1809.7,1823.1,1815.8,1826.0,1826.2],\"yaxis\":\"y\",\"type\":\"scattergl\"}],                        {\"template\":{\"data\":{\"histogram2dcontour\":[{\"type\":\"histogram2dcontour\",\"colorbar\":{\"outlinewidth\":0,\"ticks\":\"\"},\"colorscale\":[[0.0,\"#0d0887\"],[0.1111111111111111,\"#46039f\"],[0.2222222222222222,\"#7201a8\"],[0.3333333333333333,\"#9c179e\"],[0.4444444444444444,\"#bd3786\"],[0.5555555555555556,\"#d8576b\"],[0.6666666666666666,\"#ed7953\"],[0.7777777777777778,\"#fb9f3a\"],[0.8888888888888888,\"#fdca26\"],[1.0,\"#f0f921\"]]}],\"choropleth\":[{\"type\":\"choropleth\",\"colorbar\":{\"outlinewidth\":0,\"ticks\":\"\"}}],\"histogram2d\":[{\"type\":\"histogram2d\",\"colorbar\":{\"outlinewidth\":0,\"ticks\":\"\"},\"colorscale\":[[0.0,\"#0d0887\"],[0.1111111111111111,\"#46039f\"],[0.2222222222222222,\"#7201a8\"],[0.3333333333333333,\"#9c179e\"],[0.4444444444444444,\"#bd3786\"],[0.5555555555555556,\"#d8576b\"],[0.6666666666666666,\"#ed7953\"],[0.7777777777777778,\"#fb9f3a\"],[0.8888888888888888,\"#fdca26\"],[1.0,\"#f0f921\"]]}],\"heatmap\":[{\"type\":\"heatmap\",\"colorbar\":{\"outlinewidth\":0,\"ticks\":\"\"},\"colorscale\":[[0.0,\"#0d0887\"],[0.1111111111111111,\"#46039f\"],[0.2222222222222222,\"#7201a8\"],[0.3333333333333333,\"#9c179e\"],[0.4444444444444444,\"#bd3786\"],[0.5555555555555556,\"#d8576b\"],[0.6666666666666666,\"#ed7953\"],[0.7777777777777778,\"#fb9f3a\"],[0.8888888888888888,\"#fdca26\"],[1.0,\"#f0f921\"]]}],\"heatmapgl\":[{\"type\":\"heatmapgl\",\"colorbar\":{\"outlinewidth\":0,\"ticks\":\"\"},\"colorscale\":[[0.0,\"#0d0887\"],[0.1111111111111111,\"#46039f\"],[0.2222222222222222,\"#7201a8\"],[0.3333333333333333,\"#9c179e\"],[0.4444444444444444,\"#bd3786\"],[0.5555555555555556,\"#d8576b\"],[0.6666666666666666,\"#ed7953\"],[0.7777777777777778,\"#fb9f3a\"],[0.8888888888888888,\"#fdca26\"],[1.0,\"#f0f921\"]]}],\"contourcarpet\":[{\"type\":\"contourcarpet\",\"colorbar\":{\"outlinewidth\":0,\"ticks\":\"\"}}],\"contour\":[{\"type\":\"contour\",\"colorbar\":{\"outlinewidth\":0,\"ticks\":\"\"},\"colorscale\":[[0.0,\"#0d0887\"],[0.1111111111111111,\"#46039f\"],[0.2222222222222222,\"#7201a8\"],[0.3333333333333333,\"#9c179e\"],[0.4444444444444444,\"#bd3786\"],[0.5555555555555556,\"#d8576b\"],[0.6666666666666666,\"#ed7953\"],[0.7777777777777778,\"#fb9f3a\"],[0.8888888888888888,\"#fdca26\"],[1.0,\"#f0f921\"]]}],\"surface\":[{\"type\":\"surface\",\"colorbar\":{\"outlinewidth\":0,\"ticks\":\"\"},\"colorscale\":[[0.0,\"#0d0887\"],[0.1111111111111111,\"#46039f\"],[0.2222222222222222,\"#7201a8\"],[0.3333333333333333,\"#9c179e\"],[0.4444444444444444,\"#bd3786\"],[0.5555555555555556,\"#d8576b\"],[0.6666666666666666,\"#ed7953\"],[0.7777777777777778,\"#fb9f3a\"],[0.8888888888888888,\"#fdca26\"],[1.0,\"#f0f921\"]]}],\"mesh3d\":[{\"type\":\"mesh3d\",\"colorbar\":{\"outlinewidth\":0,\"ticks\":\"\"}}],\"scatter\":[{\"fillpattern\":{\"fillmode\":\"overlay\",\"size\":10,\"solidity\":0.2},\"type\":\"scatter\"}],\"parcoords\":[{\"type\":\"parcoords\",\"line\":{\"colorbar\":{\"outlinewidth\":0,\"ticks\":\"\"}}}],\"scatterpolargl\":[{\"type\":\"scatterpolargl\",\"marker\":{\"colorbar\":{\"outlinewidth\":0,\"ticks\":\"\"}}}],\"bar\":[{\"error_x\":{\"color\":\"#2a3f5f\"},\"error_y\":{\"color\":\"#2a3f5f\"},\"marker\":{\"line\":{\"color\":\"#E5ECF6\",\"width\":0.5},\"pattern\":{\"fillmode\":\"overlay\",\"size\":10,\"solidity\":0.2}},\"type\":\"bar\"}],\"scattergeo\":[{\"type\":\"scattergeo\",\"marker\":{\"colorbar\":{\"outlinewidth\":0,\"ticks\":\"\"}}}],\"scatterpolar\":[{\"type\":\"scatterpolar\",\"marker\":{\"colorbar\":{\"outlinewidth\":0,\"ticks\":\"\"}}}],\"histogram\":[{\"marker\":{\"pattern\":{\"fillmode\":\"overlay\",\"size\":10,\"solidity\":0.2}},\"type\":\"histogram\"}],\"scattergl\":[{\"type\":\"scattergl\",\"marker\":{\"colorbar\":{\"outlinewidth\":0,\"ticks\":\"\"}}}],\"scatter3d\":[{\"type\":\"scatter3d\",\"line\":{\"colorbar\":{\"outlinewidth\":0,\"ticks\":\"\"}},\"marker\":{\"colorbar\":{\"outlinewidth\":0,\"ticks\":\"\"}}}],\"scattermapbox\":[{\"type\":\"scattermapbox\",\"marker\":{\"colorbar\":{\"outlinewidth\":0,\"ticks\":\"\"}}}],\"scatterternary\":[{\"type\":\"scatterternary\",\"marker\":{\"colorbar\":{\"outlinewidth\":0,\"ticks\":\"\"}}}],\"scattercarpet\":[{\"type\":\"scattercarpet\",\"marker\":{\"colorbar\":{\"outlinewidth\":0,\"ticks\":\"\"}}}],\"carpet\":[{\"aaxis\":{\"endlinecolor\":\"#2a3f5f\",\"gridcolor\":\"white\",\"linecolor\":\"white\",\"minorgridcolor\":\"white\",\"startlinecolor\":\"#2a3f5f\"},\"baxis\":{\"endlinecolor\":\"#2a3f5f\",\"gridcolor\":\"white\",\"linecolor\":\"white\",\"minorgridcolor\":\"white\",\"startlinecolor\":\"#2a3f5f\"},\"type\":\"carpet\"}],\"table\":[{\"cells\":{\"fill\":{\"color\":\"#EBF0F8\"},\"line\":{\"color\":\"white\"}},\"header\":{\"fill\":{\"color\":\"#C8D4E3\"},\"line\":{\"color\":\"white\"}},\"type\":\"table\"}],\"barpolar\":[{\"marker\":{\"line\":{\"color\":\"#E5ECF6\",\"width\":0.5},\"pattern\":{\"fillmode\":\"overlay\",\"size\":10,\"solidity\":0.2}},\"type\":\"barpolar\"}],\"pie\":[{\"automargin\":true,\"type\":\"pie\"}]},\"layout\":{\"autotypenumbers\":\"strict\",\"colorway\":[\"#636efa\",\"#EF553B\",\"#00cc96\",\"#ab63fa\",\"#FFA15A\",\"#19d3f3\",\"#FF6692\",\"#B6E880\",\"#FF97FF\",\"#FECB52\"],\"font\":{\"color\":\"#2a3f5f\"},\"hovermode\":\"closest\",\"hoverlabel\":{\"align\":\"left\"},\"paper_bgcolor\":\"white\",\"plot_bgcolor\":\"#E5ECF6\",\"polar\":{\"bgcolor\":\"#E5ECF6\",\"angularaxis\":{\"gridcolor\":\"white\",\"linecolor\":\"white\",\"ticks\":\"\"},\"radialaxis\":{\"gridcolor\":\"white\",\"linecolor\":\"white\",\"ticks\":\"\"}},\"ternary\":{\"bgcolor\":\"#E5ECF6\",\"aaxis\":{\"gridcolor\":\"white\",\"linecolor\":\"white\",\"ticks\":\"\"},\"baxis\":{\"gridcolor\":\"white\",\"linecolor\":\"white\",\"ticks\":\"\"},\"caxis\":{\"gridcolor\":\"white\",\"linecolor\":\"white\",\"ticks\":\"\"}},\"coloraxis\":{\"colorbar\":{\"outlinewidth\":0,\"ticks\":\"\"}},\"colorscale\":{\"sequential\":[[0.0,\"#0d0887\"],[0.1111111111111111,\"#46039f\"],[0.2222222222222222,\"#7201a8\"],[0.3333333333333333,\"#9c179e\"],[0.4444444444444444,\"#bd3786\"],[0.5555555555555556,\"#d8576b\"],[0.6666666666666666,\"#ed7953\"],[0.7777777777777778,\"#fb9f3a\"],[0.8888888888888888,\"#fdca26\"],[1.0,\"#f0f921\"]],\"sequentialminus\":[[0.0,\"#0d0887\"],[0.1111111111111111,\"#46039f\"],[0.2222222222222222,\"#7201a8\"],[0.3333333333333333,\"#9c179e\"],[0.4444444444444444,\"#bd3786\"],[0.5555555555555556,\"#d8576b\"],[0.6666666666666666,\"#ed7953\"],[0.7777777777777778,\"#fb9f3a\"],[0.8888888888888888,\"#fdca26\"],[1.0,\"#f0f921\"]],\"diverging\":[[0,\"#8e0152\"],[0.1,\"#c51b7d\"],[0.2,\"#de77ae\"],[0.3,\"#f1b6da\"],[0.4,\"#fde0ef\"],[0.5,\"#f7f7f7\"],[0.6,\"#e6f5d0\"],[0.7,\"#b8e186\"],[0.8,\"#7fbc41\"],[0.9,\"#4d9221\"],[1,\"#276419\"]]},\"xaxis\":{\"gridcolor\":\"white\",\"linecolor\":\"white\",\"ticks\":\"\",\"title\":{\"standoff\":15},\"zerolinecolor\":\"white\",\"automargin\":true,\"zerolinewidth\":2},\"yaxis\":{\"gridcolor\":\"white\",\"linecolor\":\"white\",\"ticks\":\"\",\"title\":{\"standoff\":15},\"zerolinecolor\":\"white\",\"automargin\":true,\"zerolinewidth\":2},\"scene\":{\"xaxis\":{\"backgroundcolor\":\"#E5ECF6\",\"gridcolor\":\"white\",\"linecolor\":\"white\",\"showbackground\":true,\"ticks\":\"\",\"zerolinecolor\":\"white\",\"gridwidth\":2},\"yaxis\":{\"backgroundcolor\":\"#E5ECF6\",\"gridcolor\":\"white\",\"linecolor\":\"white\",\"showbackground\":true,\"ticks\":\"\",\"zerolinecolor\":\"white\",\"gridwidth\":2},\"zaxis\":{\"backgroundcolor\":\"#E5ECF6\",\"gridcolor\":\"white\",\"linecolor\":\"white\",\"showbackground\":true,\"ticks\":\"\",\"zerolinecolor\":\"white\",\"gridwidth\":2}},\"shapedefaults\":{\"line\":{\"color\":\"#2a3f5f\"}},\"annotationdefaults\":{\"arrowcolor\":\"#2a3f5f\",\"arrowhead\":0,\"arrowwidth\":1},\"geo\":{\"bgcolor\":\"white\",\"landcolor\":\"#E5ECF6\",\"subunitcolor\":\"white\",\"showland\":true,\"showlakes\":true,\"lakecolor\":\"white\"},\"title\":{\"x\":0.05},\"mapbox\":{\"style\":\"light\"}}},\"xaxis\":{\"anchor\":\"y\",\"domain\":[0.0,1.0],\"title\":{\"text\":\"Date\"}},\"yaxis\":{\"anchor\":\"x\",\"domain\":[0.0,1.0],\"title\":{\"text\":\"Price\"}},\"legend\":{\"tracegroupgap\":0},\"margin\":{\"t\":60},\"title\":{\"text\":\"Gold Price\",\"y\":0.95,\"x\":0.5,\"xanchor\":\"center\",\"yanchor\":\"top\"},\"plot_bgcolor\":\"rgba(255,223,0,0.9)\"},                        {\"responsive\": true}                    ).then(function(){\n",
              "                            \n",
              "var gd = document.getElementById('b4037667-c5c9-45fe-90c4-7aa4464a7ac0');\n",
              "var x = new MutationObserver(function (mutations, observer) {{\n",
              "        var display = window.getComputedStyle(gd).display;\n",
              "        if (!display || display === 'none') {{\n",
              "            console.log([gd, 'removed!']);\n",
              "            Plotly.purge(gd);\n",
              "            observer.disconnect();\n",
              "        }}\n",
              "}});\n",
              "\n",
              "// Listen for the removal of the full notebook cells\n",
              "var notebookContainer = gd.closest('#notebook-container');\n",
              "if (notebookContainer) {{\n",
              "    x.observe(notebookContainer, {childList: true});\n",
              "}}\n",
              "\n",
              "// Listen for the clearing of the current output cell\n",
              "var outputEl = gd.closest('.output');\n",
              "if (outputEl) {{\n",
              "    x.observe(outputEl, {childList: true});\n",
              "}}\n",
              "\n",
              "                        })                };                            </script>        </div>\n",
              "</body>\n",
              "</html>"
            ]
          },
          "metadata": {}
        }
      ],
      "source": [
        "fig = px.line(y=df.Price, x=df.Date)\n",
        "fig.update_traces(line_color='black')\n",
        "fig.update_layout(xaxis_title='Date',yaxis_title='Price',title={'text':'Gold Price','y':0.95, 'x':0.5, 'xanchor':'center', 'yanchor':'top'}, plot_bgcolor='rgba(255,223,0,0.9)')"
      ]
    },
    {
      "cell_type": "code",
      "execution_count": 17,
      "id": "a4bb0716-f836-4415-b80b-8c7ca9c71aa9",
      "metadata": {
        "colab": {
          "base_uri": "https://localhost:8080/"
        },
        "id": "a4bb0716-f836-4415-b80b-8c7ca9c71aa9",
        "outputId": "85c5e2ea-8d37-43da-87c5-9c81919541fb"
      },
      "outputs": [
        {
          "output_type": "execute_result",
          "data": {
            "text/plain": [
              "260"
            ]
          },
          "metadata": {},
          "execution_count": 17
        }
      ],
      "source": [
        "test_size = df[df.Date.dt.year==2022].shape[0]\n",
        "test_size"
      ]
    },
    {
      "cell_type": "code",
      "execution_count": 80,
      "id": "be22e71f-f94f-464c-a7ff-c93fe506b244",
      "metadata": {
        "colab": {
          "base_uri": "https://localhost:8080/",
          "height": 780
        },
        "id": "be22e71f-f94f-464c-a7ff-c93fe506b244",
        "outputId": "ee3ff60d-bc5e-462a-e274-cd3dc4ff11f3"
      },
      "outputs": [
        {
          "output_type": "execute_result",
          "data": {
            "text/plain": [
              "<function matplotlib.pyplot.show(close=None, block=None)>"
            ],
            "text/html": [
              "<div style=\"max-width:800px; border: 1px solid var(--colab-border-color);\"><style>\n",
              "      pre.function-repr-contents {\n",
              "        overflow-x: auto;\n",
              "        padding: 8px 12px;\n",
              "        max-height: 500px;\n",
              "      }\n",
              "\n",
              "      pre.function-repr-contents.function-repr-contents-collapsed {\n",
              "        cursor: pointer;\n",
              "        max-height: 100px;\n",
              "      }\n",
              "    </style>\n",
              "    <pre style=\"white-space: initial; background:\n",
              "         var(--colab-secondary-surface-color); padding: 8px 12px;\n",
              "         border-bottom: 1px solid var(--colab-border-color);\"><b>matplotlib.pyplot.show</b><br/>def show(*args, **kwargs)</pre><pre class=\"function-repr-contents function-repr-contents-collapsed\" style=\"\"><a class=\"filepath\" style=\"display:none\" href=\"#\">/usr/local/lib/python3.10/dist-packages/matplotlib/pyplot.py</a>Display all open figures.\n",
              "\n",
              "Parameters\n",
              "----------\n",
              "block : bool, optional\n",
              "    Whether to wait for all figures to be closed before returning.\n",
              "\n",
              "    If `True` block and run the GUI main loop until all figure windows\n",
              "    are closed.\n",
              "\n",
              "    If `False` ensure that all figure windows are displayed and return\n",
              "    immediately.  In this case, you are responsible for ensuring\n",
              "    that the event loop is running to have responsive figures.\n",
              "\n",
              "    Defaults to True in non-interactive mode and to False in interactive\n",
              "    mode (see `.pyplot.isinteractive`).\n",
              "\n",
              "See Also\n",
              "--------\n",
              "ion : Enable interactive mode, which shows / updates the figure after\n",
              "      every plotting command, so that calling ``show()`` is not necessary.\n",
              "ioff : Disable interactive mode.\n",
              "savefig : Save the figure to an image file instead of showing it on screen.\n",
              "\n",
              "Notes\n",
              "-----\n",
              "**Saving figures to file and showing a window at the same time**\n",
              "\n",
              "If you want an image file as well as a user interface window, use\n",
              "`.pyplot.savefig` before `.pyplot.show`. At the end of (a blocking)\n",
              "``show()`` the figure is closed and thus unregistered from pyplot. Calling\n",
              "`.pyplot.savefig` afterwards would save a new and thus empty figure. This\n",
              "limitation of command order does not apply if the show is non-blocking or\n",
              "if you keep a reference to the figure and use `.Figure.savefig`.\n",
              "\n",
              "**Auto-show in jupyter notebooks**\n",
              "\n",
              "The jupyter backends (activated via ``%matplotlib inline``,\n",
              "``%matplotlib notebook``, or ``%matplotlib widget``), call ``show()`` at\n",
              "the end of every cell by default. Thus, you usually don&#x27;t have to call it\n",
              "explicitly there.</pre>\n",
              "      <script>\n",
              "      if (google.colab.kernel.accessAllowed && google.colab.files && google.colab.files.view) {\n",
              "        for (const element of document.querySelectorAll('.filepath')) {\n",
              "          element.style.display = 'block'\n",
              "          element.onclick = (event) => {\n",
              "            event.preventDefault();\n",
              "            event.stopPropagation();\n",
              "            google.colab.files.view(element.textContent, 401);\n",
              "          };\n",
              "        }\n",
              "      }\n",
              "      for (const element of document.querySelectorAll('.function-repr-contents')) {\n",
              "        element.onclick = (event) => {\n",
              "          event.preventDefault();\n",
              "          event.stopPropagation();\n",
              "          element.classList.toggle('function-repr-contents-collapsed');\n",
              "        };\n",
              "      }\n",
              "      </script>\n",
              "      </div>"
            ]
          },
          "metadata": {},
          "execution_count": 80
        },
        {
          "output_type": "display_data",
          "data": {
            "text/plain": [
              "<Figure size 1200x600 with 1 Axes>"
            ],
            "image/png": "[encoded data removed]"
          },
          "metadata": {}
        }
      ],
      "source": [
        "plt.figure(figsize=(8,4), dpi=150)\n",
        "plt.rcParams['axes.facecolor']= 'lightseagreen'\n",
        "plt.rc('axes', edgecolor='white')\n",
        "plt.plot(df.Date[:-test_size], df.Price[:-test_size],color='black', lw=2)\n",
        "plt.plot(df.Date[-test_size:], df.Price[-test_size:],color='red', lw=2)\n",
        "plt.title('Gold price train and test', fontsize=15)\n",
        "plt.xlabel('Date',fontsize=12)\n",
        "plt.ylabel('Price',fontsize=12)\n",
        "plt.legend(['train set', 'test set'], loc='upper left', prop={'size':15})\n",
        "\n",
        "plt.grid(color='white')\n",
        "plt.show"
      ]
    },
    {
      "cell_type": "code",
      "execution_count": 19,
      "id": "8a32d677-a6f3-4b8c-aaf3-de3278d8ddde",
      "metadata": {
        "colab": {
          "base_uri": "https://localhost:8080/",
          "height": 74
        },
        "id": "8a32d677-a6f3-4b8c-aaf3-de3278d8ddde",
        "outputId": "33072018-eafc-44a2-d32e-56194a4770a3"
      },
      "outputs": [
        {
          "output_type": "execute_result",
          "data": {
            "text/plain": [
              "MinMaxScaler()"
            ],
            "text/html": [
              "<style>#sk-container-id-1 {color: black;background-color: white;}#sk-container-id-1 pre{padding: 0;}#sk-container-id-1 div.sk-toggleable {background-color: white;}#sk-container-id-1 label.sk-toggleable__label {cursor: pointer;display: block;width: 100%;margin-bottom: 0;padding: 0.3em;box-sizing: border-box;text-align: center;}#sk-container-id-1 label.sk-toggleable__label-arrow:before {content: \"▸\";float: left;margin-right: 0.25em;color: #696969;}#sk-container-id-1 label.sk-toggleable__label-arrow:hover:before {color: black;}#sk-container-id-1 div.sk-estimator:hover label.sk-toggleable__label-arrow:before {color: black;}#sk-container-id-1 div.sk-toggleable__content {max-height: 0;max-width: 0;overflow: hidden;text-align: left;background-color: #f0f8ff;}#sk-container-id-1 div.sk-toggleable__content pre {margin: 0.2em;color: black;border-radius: 0.25em;background-color: #f0f8ff;}#sk-container-id-1 input.sk-toggleable__control:checked~div.sk-toggleable__content {max-height: 200px;max-width: 100%;overflow: auto;}#sk-container-id-1 input.sk-toggleable__control:checked~label.sk-toggleable__label-arrow:before {content: \"▾\";}#sk-container-id-1 div.sk-estimator input.sk-toggleable__control:checked~label.sk-toggleable__label {background-color: #d4ebff;}#sk-container-id-1 div.sk-label input.sk-toggleable__control:checked~label.sk-toggleable__label {background-color: #d4ebff;}#sk-container-id-1 input.sk-hidden--visually {border: 0;clip: rect(1px 1px 1px 1px);clip: rect(1px, 1px, 1px, 1px);height: 1px;margin: -1px;overflow: hidden;padding: 0;position: absolute;width: 1px;}#sk-container-id-1 div.sk-estimator {font-family: monospace;background-color: #f0f8ff;border: 1px dotted black;border-radius: 0.25em;box-sizing: border-box;margin-bottom: 0.5em;}#sk-container-id-1 div.sk-estimator:hover {background-color: #d4ebff;}#sk-container-id-1 div.sk-parallel-item::after {content: \"\";width: 100%;border-bottom: 1px solid gray;flex-grow: 1;}#sk-container-id-1 div.sk-label:hover label.sk-toggleable__label {background-color: #d4ebff;}#sk-container-id-1 div.sk-serial::before {content: \"\";position: absolute;border-left: 1px solid gray;box-sizing: border-box;top: 0;bottom: 0;left: 50%;z-index: 0;}#sk-container-id-1 div.sk-serial {display: flex;flex-direction: column;align-items: center;background-color: white;padding-right: 0.2em;padding-left: 0.2em;position: relative;}#sk-container-id-1 div.sk-item {position: relative;z-index: 1;}#sk-container-id-1 div.sk-parallel {display: flex;align-items: stretch;justify-content: center;background-color: white;position: relative;}#sk-container-id-1 div.sk-item::before, #sk-container-id-1 div.sk-parallel-item::before {content: \"\";position: absolute;border-left: 1px solid gray;box-sizing: border-box;top: 0;bottom: 0;left: 50%;z-index: -1;}#sk-container-id-1 div.sk-parallel-item {display: flex;flex-direction: column;z-index: 1;position: relative;background-color: white;}#sk-container-id-1 div.sk-parallel-item:first-child::after {align-self: flex-end;width: 50%;}#sk-container-id-1 div.sk-parallel-item:last-child::after {align-self: flex-start;width: 50%;}#sk-container-id-1 div.sk-parallel-item:only-child::after {width: 0;}#sk-container-id-1 div.sk-dashed-wrapped {border: 1px dashed gray;margin: 0 0.4em 0.5em 0.4em;box-sizing: border-box;padding-bottom: 0.4em;background-color: white;}#sk-container-id-1 div.sk-label label {font-family: monospace;font-weight: bold;display: inline-block;line-height: 1.2em;}#sk-container-id-1 div.sk-label-container {text-align: center;}#sk-container-id-1 div.sk-container {/* jupyter's `normalize.less` sets `[hidden] { display: none; }` but bootstrap.min.css set `[hidden] { display: none !important; }` so we also need the `!important` here to be able to override the default hidden behavior on the sphinx rendered scikit-learn.org. See: https://github.com/scikit-learn/scikit-learn/issues/21755 */display: inline-block !important;position: relative;}#sk-container-id-1 div.sk-text-repr-fallback {display: none;}</style><div id=\"sk-container-id-1\" class=\"sk-top-container\"><div class=\"sk-text-repr-fallback\"><pre>MinMaxScaler()</pre><b>In a Jupyter environment, please rerun this cell to show the HTML representation or trust the notebook. <br />On GitHub, the HTML representation is unable to render, please try loading this page with nbviewer.org.</b></div><div class=\"sk-container\" hidden><div class=\"sk-item\"><div class=\"sk-estimator sk-toggleable\"><input class=\"sk-toggleable__control sk-hidden--visually\" id=\"sk-estimator-id-1\" type=\"checkbox\" checked><label for=\"sk-estimator-id-1\" class=\"sk-toggleable__label sk-toggleable__label-arrow\">MinMaxScaler</label><div class=\"sk-toggleable__content\"><pre>MinMaxScaler()</pre></div></div></div></div></div>"
            ]
          },
          "metadata": {},
          "execution_count": 19
        }
      ],
      "source": [
        "scaler = MinMaxScaler()\n",
        "scaler.fit(df.Price.values.reshape(-1,1))"
      ]
    },
    {
      "cell_type": "code",
      "execution_count": 20,
      "id": "71cd2616-740d-44e8-8358-a2f197af50f1",
      "metadata": {
        "id": "71cd2616-740d-44e8-8358-a2f197af50f1"
      },
      "outputs": [],
      "source": [
        "window_size = 60"
      ]
    },
    {
      "cell_type": "code",
      "execution_count": 21,
      "id": "a3b0b2b2-7470-4b32-b2e1-814d1c1cff3d",
      "metadata": {
        "id": "a3b0b2b2-7470-4b32-b2e1-814d1c1cff3d"
      },
      "outputs": [],
      "source": [
        "train_data = df.Price[-test_size-60:]\n",
        "train_data = scaler.transform(train_data.values.reshape(-1,1))"
      ]
    },
    {
      "cell_type": "code",
      "execution_count": 22,
      "id": "b6d29f33-416f-4a70-ae58-7440bb5e051a",
      "metadata": {
        "scrolled": true,
        "id": "b6d29f33-416f-4a70-ae58-7440bb5e051a"
      },
      "outputs": [],
      "source": [
        "X_train = []\n",
        "y_train = []\n",
        "\n",
        "for i in range(window_size, len(train_data)):\n",
        "    X_train.append(train_data[i-60:i, 0])\n",
        "    y_train.append(train_data[i,0])"
      ]
    },
    {
      "cell_type": "code",
      "execution_count": 23,
      "id": "26d00bd9-1c97-435e-b91d-e8b874dab52c",
      "metadata": {
        "id": "26d00bd9-1c97-435e-b91d-e8b874dab52c"
      },
      "outputs": [],
      "source": [
        "test_data = df.Price[-test_size-60:]\n",
        "test_data = scaler.transform(test_data.values.reshape(-1,1))"
      ]
    },
    {
      "cell_type": "code",
      "execution_count": 24,
      "id": "b7c637ba-2d5b-4266-830b-f2e86867c782",
      "metadata": {
        "scrolled": true,
        "id": "b7c637ba-2d5b-4266-830b-f2e86867c782"
      },
      "outputs": [],
      "source": [
        "X_test = []\n",
        "y_test = []\n",
        "\n",
        "for i in range(window_size, len(test_data)):\n",
        "    X_test.append(test_data[i-60:i, 0])\n",
        "    y_test.append(test_data[i,0])"
      ]
    },
    {
      "cell_type": "code",
      "execution_count": 25,
      "id": "524f74da-d9fd-4236-9935-e852a43adc18",
      "metadata": {
        "id": "524f74da-d9fd-4236-9935-e852a43adc18"
      },
      "outputs": [],
      "source": [
        "X_train = np.array(X_train)\n",
        "X_test = np.array(X_test)\n",
        "y_train = np.array(y_train)\n",
        "y_test = np.array(y_test)"
      ]
    },
    {
      "cell_type": "code",
      "execution_count": 26,
      "id": "cf1d3e48-3a7b-4156-9e89-3cd3cb60f82c",
      "metadata": {
        "id": "cf1d3e48-3a7b-4156-9e89-3cd3cb60f82c"
      },
      "outputs": [],
      "source": [
        "X_train = np.reshape(X_train, (X_train.shape[0], X_train.shape[1], 1) )\n",
        "X_test = np.reshape(X_test, (X_test.shape[0], X_test.shape[1], 1) )\n",
        "y_train = np.reshape(y_train, (-1,1))\n",
        "y_test = np.reshape(y_test, (-1,1))"
      ]
    },
    {
      "cell_type": "code",
      "execution_count": 27,
      "id": "1d50d091-5cee-4ba7-bc55-684093f1f258",
      "metadata": {
        "colab": {
          "base_uri": "https://localhost:8080/"
        },
        "id": "1d50d091-5cee-4ba7-bc55-684093f1f258",
        "outputId": "d2f1d643-d8f3-4a05-90f2-745558c5fe80"
      },
      "outputs": [
        {
          "output_type": "stream",
          "name": "stdout",
          "text": [
            "X_train shape:  (260, 60, 1)\n",
            "X_test shape:  (260, 60, 1)\n",
            "y_train shape:  (260, 1)\n",
            "y_test shape:  (260, 1)\n"
          ]
        }
      ],
      "source": [
        "print('X_train shape: ', X_train.shape)\n",
        "print('X_test shape: ', X_test.shape)\n",
        "print('y_train shape: ', y_train.shape)\n",
        "print('y_test shape: ', y_test.shape)"
      ]
    },
    {
      "cell_type": "code",
      "execution_count": 61,
      "id": "a2de9a24-ec9c-4db5-9402-7b2d901525b0",
      "metadata": {
        "id": "a2de9a24-ec9c-4db5-9402-7b2d901525b0"
      },
      "outputs": [],
      "source": [
        "def LSTM_model():\n",
        "    m_input = Input(shape=(window_size,1))\n",
        "    x = LSTM(units=64,return_sequences=True)(m_input)\n",
        "    x = Dropout(0.2)(x)\n",
        "    x = LSTM(units=64,return_sequences=True)(x)\n",
        "    x = Dropout(0.2)(x)\n",
        "    x = LSTM(units= 64)(x)\n",
        "    x = Dropout(0.2)(x)\n",
        "    x = Dense(32, activation = 'softmax')(x)\n",
        "    output = Dense(1)(x)\n",
        "\n",
        "    model = Model(inputs = m_input, outputs= [output])\n",
        "    model.compile(loss = 'mean_squared_error', optimizer = 'Nadam')\n",
        "    model.summary()\n",
        "\n",
        "    return model"
      ]
    },
    {
      "cell_type": "code",
      "execution_count": 62,
      "id": "f332d056-9e14-4130-9e77-c7d5da695b4b",
      "metadata": {
        "colab": {
          "base_uri": "https://localhost:8080/"
        },
        "id": "f332d056-9e14-4130-9e77-c7d5da695b4b",
        "outputId": "49cee7c8-c296-4f67-f169-3c5c04dd0cbf"
      },
      "outputs": [
        {
          "output_type": "stream",
          "name": "stdout",
          "text": [
            "Model: \"model_3\"\n",
            "_________________________________________________________________\n",
            " Layer (type)                Output Shape              Param #   \n",
            "=================================================================\n",
            " input_5 (InputLayer)        [(None, 60, 1)]           0         \n",
            "                                                                 \n",
            " lstm_11 (LSTM)              (None, 60, 64)            16896     \n",
            "                                                                 \n",
            " dropout_10 (Dropout)        (None, 60, 64)            0         \n",
            "                                                                 \n",
            " lstm_12 (LSTM)              (None, 60, 64)            33024     \n",
            "                                                                 \n",
            " dropout_11 (Dropout)        (None, 60, 64)            0         \n",
            "                                                                 \n",
            " lstm_13 (LSTM)              (None, 64)                33024     \n",
            "                                                                 \n",
            " dropout_12 (Dropout)        (None, 64)                0         \n",
            "                                                                 \n",
            " dense_6 (Dense)             (None, 32)                2080      \n",
            "                                                                 \n",
            " dense_7 (Dense)             (None, 1)                 33        \n",
            "                                                                 \n",
            "=================================================================\n",
            "Total params: 85057 (332.25 KB)\n",
            "Trainable params: 85057 (332.25 KB)\n",
            "Non-trainable params: 0 (0.00 Byte)\n",
            "_________________________________________________________________\n",
            "Epoch 1/150\n",
            "8/8 [==============================] - 7s 156ms/step - loss: 0.6142 - val_loss: 0.4177\n",
            "Epoch 2/150\n",
            "8/8 [==============================] - 0s 26ms/step - loss: 0.3261 - val_loss: 0.1995\n",
            "Epoch 3/150\n",
            "8/8 [==============================] - 0s 22ms/step - loss: 0.1773 - val_loss: 0.1152\n",
            "Epoch 4/150\n",
            "8/8 [==============================] - 0s 21ms/step - loss: 0.1162 - val_loss: 0.0858\n",
            "Epoch 5/150\n",
            "8/8 [==============================] - 0s 22ms/step - loss: 0.0933 - val_loss: 0.0719\n",
            "Epoch 6/150\n",
            "8/8 [==============================] - 0s 21ms/step - loss: 0.0804 - val_loss: 0.0624\n",
            "Epoch 7/150\n",
            "8/8 [==============================] - 0s 34ms/step - loss: 0.0707 - val_loss: 0.0546\n",
            "Epoch 8/150\n",
            "8/8 [==============================] - 0s 43ms/step - loss: 0.0634 - val_loss: 0.0481\n",
            "Epoch 9/150\n",
            "8/8 [==============================] - 0s 35ms/step - loss: 0.0567 - val_loss: 0.0423\n",
            "Epoch 10/150\n",
            "8/8 [==============================] - 0s 16ms/step - loss: 0.0513 - val_loss: 0.0371\n",
            "Epoch 11/150\n",
            "8/8 [==============================] - 0s 16ms/step - loss: 0.0460 - val_loss: 0.0325\n",
            "Epoch 12/150\n",
            "8/8 [==============================] - 0s 16ms/step - loss: 0.0415 - val_loss: 0.0285\n",
            "Epoch 13/150\n",
            "8/8 [==============================] - 0s 15ms/step - loss: 0.0376 - val_loss: 0.0249\n",
            "Epoch 14/150\n",
            "8/8 [==============================] - 0s 16ms/step - loss: 0.0339 - val_loss: 0.0217\n",
            "Epoch 15/150\n",
            "8/8 [==============================] - 0s 14ms/step - loss: 0.0307 - val_loss: 0.0188\n",
            "Epoch 16/150\n",
            "8/8 [==============================] - 0s 15ms/step - loss: 0.0278 - val_loss: 0.0163\n",
            "Epoch 17/150\n",
            "8/8 [==============================] - 0s 14ms/step - loss: 0.0253 - val_loss: 0.0140\n",
            "Epoch 18/150\n",
            "8/8 [==============================] - 0s 14ms/step - loss: 0.0230 - val_loss: 0.0121\n",
            "Epoch 19/150\n",
            "8/8 [==============================] - 0s 14ms/step - loss: 0.0212 - val_loss: 0.0104\n",
            "Epoch 20/150\n",
            "8/8 [==============================] - 0s 14ms/step - loss: 0.0194 - val_loss: 0.0089\n",
            "Epoch 21/150\n",
            "8/8 [==============================] - 0s 16ms/step - loss: 0.0179 - val_loss: 0.0076\n",
            "Epoch 22/150\n",
            "8/8 [==============================] - 0s 14ms/step - loss: 0.0166 - val_loss: 0.0065\n",
            "Epoch 23/150\n",
            "8/8 [==============================] - 0s 14ms/step - loss: 0.0155 - val_loss: 0.0056\n",
            "Epoch 24/150\n",
            "8/8 [==============================] - 0s 17ms/step - loss: 0.0145 - val_loss: 0.0047\n",
            "Epoch 25/150\n",
            "8/8 [==============================] - 0s 15ms/step - loss: 0.0136 - val_loss: 0.0040\n",
            "Epoch 26/150\n",
            "8/8 [==============================] - 0s 15ms/step - loss: 0.0128 - val_loss: 0.0033\n",
            "Epoch 27/150\n",
            "8/8 [==============================] - 0s 15ms/step - loss: 0.0122 - val_loss: 0.0028\n",
            "Epoch 28/150\n",
            "8/8 [==============================] - 0s 15ms/step - loss: 0.0117 - val_loss: 0.0023\n",
            "Epoch 29/150\n",
            "8/8 [==============================] - 0s 16ms/step - loss: 0.0112 - val_loss: 0.0020\n",
            "Epoch 30/150\n",
            "8/8 [==============================] - 0s 15ms/step - loss: 0.0108 - val_loss: 0.0017\n",
            "Epoch 31/150\n",
            "8/8 [==============================] - 0s 14ms/step - loss: 0.0105 - val_loss: 0.0014\n",
            "Epoch 32/150\n",
            "8/8 [==============================] - 0s 14ms/step - loss: 0.0103 - val_loss: 0.0013\n",
            "Epoch 33/150\n",
            "8/8 [==============================] - 0s 14ms/step - loss: 0.0100 - val_loss: 0.0011\n",
            "Epoch 34/150\n",
            "8/8 [==============================] - 0s 15ms/step - loss: 0.0099 - val_loss: 9.5945e-04\n",
            "Epoch 35/150\n",
            "8/8 [==============================] - 0s 15ms/step - loss: 0.0097 - val_loss: 8.5388e-04\n",
            "Epoch 36/150\n",
            "8/8 [==============================] - 0s 15ms/step - loss: 0.0095 - val_loss: 7.7210e-04\n",
            "Epoch 37/150\n",
            "8/8 [==============================] - 0s 15ms/step - loss: 0.0094 - val_loss: 7.0766e-04\n",
            "Epoch 38/150\n",
            "8/8 [==============================] - 0s 15ms/step - loss: 0.0093 - val_loss: 6.4695e-04\n",
            "Epoch 39/150\n",
            "8/8 [==============================] - 0s 14ms/step - loss: 0.0093 - val_loss: 5.9931e-04\n",
            "Epoch 40/150\n",
            "8/8 [==============================] - 0s 15ms/step - loss: 0.0092 - val_loss: 5.6270e-04\n",
            "Epoch 41/150\n",
            "8/8 [==============================] - 0s 14ms/step - loss: 0.0092 - val_loss: 5.3695e-04\n",
            "Epoch 42/150\n",
            "8/8 [==============================] - 0s 15ms/step - loss: 0.0091 - val_loss: 5.1564e-04\n",
            "Epoch 43/150\n",
            "8/8 [==============================] - 0s 15ms/step - loss: 0.0091 - val_loss: 5.0239e-04\n",
            "Epoch 44/150\n",
            "8/8 [==============================] - 0s 15ms/step - loss: 0.0091 - val_loss: 4.9530e-04\n",
            "Epoch 45/150\n",
            "8/8 [==============================] - 0s 15ms/step - loss: 0.0091 - val_loss: 4.9082e-04\n",
            "Epoch 46/150\n",
            "8/8 [==============================] - 0s 16ms/step - loss: 0.0091 - val_loss: 4.8899e-04\n",
            "Epoch 47/150\n",
            "8/8 [==============================] - 0s 15ms/step - loss: 0.0090 - val_loss: 4.8851e-04\n",
            "Epoch 48/150\n",
            "8/8 [==============================] - 0s 14ms/step - loss: 0.0091 - val_loss: 4.8899e-04\n",
            "Epoch 49/150\n",
            "8/8 [==============================] - 0s 15ms/step - loss: 0.0090 - val_loss: 4.8985e-04\n",
            "Epoch 50/150\n",
            "8/8 [==============================] - 0s 15ms/step - loss: 0.0090 - val_loss: 4.9163e-04\n",
            "Epoch 51/150\n",
            "8/8 [==============================] - 0s 15ms/step - loss: 0.0090 - val_loss: 4.9310e-04\n",
            "Epoch 52/150\n",
            "8/8 [==============================] - 0s 17ms/step - loss: 0.0090 - val_loss: 4.9438e-04\n",
            "Epoch 53/150\n",
            "8/8 [==============================] - 0s 20ms/step - loss: 0.0090 - val_loss: 4.9433e-04\n",
            "Epoch 54/150\n",
            "8/8 [==============================] - 0s 21ms/step - loss: 0.0090 - val_loss: 4.9628e-04\n",
            "Epoch 55/150\n",
            "8/8 [==============================] - 0s 19ms/step - loss: 0.0090 - val_loss: 4.9673e-04\n",
            "Epoch 56/150\n",
            "8/8 [==============================] - 0s 19ms/step - loss: 0.0090 - val_loss: 4.9739e-04\n",
            "Epoch 57/150\n",
            "8/8 [==============================] - 0s 19ms/step - loss: 0.0090 - val_loss: 4.9798e-04\n",
            "Epoch 58/150\n",
            "8/8 [==============================] - 0s 21ms/step - loss: 0.0090 - val_loss: 4.9974e-04\n",
            "Epoch 59/150\n",
            "8/8 [==============================] - 0s 19ms/step - loss: 0.0090 - val_loss: 5.0060e-04\n",
            "Epoch 60/150\n",
            "8/8 [==============================] - 0s 19ms/step - loss: 0.0090 - val_loss: 5.0105e-04\n",
            "Epoch 61/150\n",
            "8/8 [==============================] - 0s 21ms/step - loss: 0.0090 - val_loss: 5.0533e-04\n",
            "Epoch 62/150\n",
            "8/8 [==============================] - 0s 20ms/step - loss: 0.0090 - val_loss: 5.0987e-04\n",
            "Epoch 63/150\n",
            "8/8 [==============================] - 0s 22ms/step - loss: 0.0090 - val_loss: 5.1101e-04\n",
            "Epoch 64/150\n",
            "8/8 [==============================] - 0s 20ms/step - loss: 0.0090 - val_loss: 5.1121e-04\n",
            "Epoch 65/150\n",
            "8/8 [==============================] - 0s 22ms/step - loss: 0.0090 - val_loss: 5.1130e-04\n",
            "Epoch 66/150\n",
            "8/8 [==============================] - 0s 21ms/step - loss: 0.0090 - val_loss: 5.1291e-04\n",
            "Epoch 67/150\n",
            "8/8 [==============================] - 0s 16ms/step - loss: 0.0090 - val_loss: 5.1544e-04\n",
            "Epoch 68/150\n",
            "8/8 [==============================] - 0s 16ms/step - loss: 0.0090 - val_loss: 5.1785e-04\n",
            "Epoch 69/150\n",
            "8/8 [==============================] - 0s 15ms/step - loss: 0.0090 - val_loss: 5.1727e-04\n",
            "Epoch 70/150\n",
            "8/8 [==============================] - 0s 15ms/step - loss: 0.0090 - val_loss: 5.1670e-04\n",
            "Epoch 71/150\n",
            "8/8 [==============================] - 0s 15ms/step - loss: 0.0090 - val_loss: 5.1757e-04\n",
            "Epoch 72/150\n",
            "8/8 [==============================] - 0s 15ms/step - loss: 0.0090 - val_loss: 5.1650e-04\n",
            "Epoch 73/150\n",
            "8/8 [==============================] - 0s 15ms/step - loss: 0.0090 - val_loss: 5.1752e-04\n",
            "Epoch 74/150\n",
            "8/8 [==============================] - 0s 15ms/step - loss: 0.0090 - val_loss: 5.2001e-04\n",
            "Epoch 75/150\n",
            "8/8 [==============================] - 0s 16ms/step - loss: 0.0090 - val_loss: 5.2499e-04\n",
            "Epoch 76/150\n",
            "8/8 [==============================] - 0s 15ms/step - loss: 0.0090 - val_loss: 5.2960e-04\n",
            "Epoch 77/150\n",
            "8/8 [==============================] - 0s 14ms/step - loss: 0.0090 - val_loss: 5.2716e-04\n",
            "Epoch 78/150\n",
            "8/8 [==============================] - 0s 17ms/step - loss: 0.0090 - val_loss: 5.2882e-04\n",
            "Epoch 79/150\n",
            "8/8 [==============================] - 0s 15ms/step - loss: 0.0090 - val_loss: 5.3255e-04\n",
            "Epoch 80/150\n",
            "8/8 [==============================] - 0s 14ms/step - loss: 0.0090 - val_loss: 5.3925e-04\n",
            "Epoch 81/150\n",
            "8/8 [==============================] - 0s 16ms/step - loss: 0.0090 - val_loss: 5.4534e-04\n",
            "Epoch 82/150\n",
            "8/8 [==============================] - 0s 15ms/step - loss: 0.0090 - val_loss: 5.4204e-04\n",
            "Epoch 83/150\n",
            "8/8 [==============================] - 0s 16ms/step - loss: 0.0090 - val_loss: 5.3541e-04\n",
            "Epoch 84/150\n",
            "8/8 [==============================] - 0s 15ms/step - loss: 0.0090 - val_loss: 5.3093e-04\n",
            "Epoch 85/150\n",
            "8/8 [==============================] - 0s 15ms/step - loss: 0.0090 - val_loss: 5.2664e-04\n",
            "Epoch 86/150\n",
            "8/8 [==============================] - 0s 15ms/step - loss: 0.0090 - val_loss: 5.2774e-04\n",
            "Epoch 87/150\n",
            "8/8 [==============================] - 0s 15ms/step - loss: 0.0090 - val_loss: 5.2620e-04\n",
            "Epoch 88/150\n",
            "8/8 [==============================] - 0s 15ms/step - loss: 0.0090 - val_loss: 5.2577e-04\n",
            "Epoch 89/150\n",
            "8/8 [==============================] - 0s 15ms/step - loss: 0.0090 - val_loss: 5.2259e-04\n",
            "Epoch 90/150\n",
            "8/8 [==============================] - 0s 15ms/step - loss: 0.0090 - val_loss: 5.2287e-04\n",
            "Epoch 91/150\n",
            "8/8 [==============================] - 0s 15ms/step - loss: 0.0090 - val_loss: 5.2313e-04\n",
            "Epoch 92/150\n",
            "8/8 [==============================] - 0s 16ms/step - loss: 0.0090 - val_loss: 5.2754e-04\n",
            "Epoch 93/150\n",
            "8/8 [==============================] - 0s 15ms/step - loss: 0.0090 - val_loss: 5.2973e-04\n",
            "Epoch 94/150\n",
            "8/8 [==============================] - 0s 17ms/step - loss: 0.0090 - val_loss: 5.3983e-04\n",
            "Epoch 95/150\n",
            "8/8 [==============================] - 0s 14ms/step - loss: 0.0090 - val_loss: 5.4297e-04\n",
            "Epoch 96/150\n",
            "8/8 [==============================] - 0s 14ms/step - loss: 0.0090 - val_loss: 5.4355e-04\n",
            "Epoch 97/150\n",
            "8/8 [==============================] - 0s 15ms/step - loss: 0.0090 - val_loss: 5.3749e-04\n",
            "Epoch 98/150\n",
            "8/8 [==============================] - 0s 15ms/step - loss: 0.0090 - val_loss: 5.3571e-04\n",
            "Epoch 99/150\n",
            "8/8 [==============================] - 0s 15ms/step - loss: 0.0090 - val_loss: 5.3057e-04\n",
            "Epoch 100/150\n",
            "8/8 [==============================] - 0s 16ms/step - loss: 0.0090 - val_loss: 5.3186e-04\n",
            "Epoch 101/150\n",
            "8/8 [==============================] - 0s 15ms/step - loss: 0.0090 - val_loss: 5.3149e-04\n",
            "Epoch 102/150\n",
            "8/8 [==============================] - 0s 15ms/step - loss: 0.0090 - val_loss: 5.2573e-04\n",
            "Epoch 103/150\n",
            "8/8 [==============================] - 0s 15ms/step - loss: 0.0090 - val_loss: 5.2346e-04\n",
            "Epoch 104/150\n",
            "8/8 [==============================] - 0s 14ms/step - loss: 0.0090 - val_loss: 5.2431e-04\n",
            "Epoch 105/150\n",
            "8/8 [==============================] - 0s 14ms/step - loss: 0.0090 - val_loss: 5.2593e-04\n",
            "Epoch 106/150\n",
            "8/8 [==============================] - 0s 15ms/step - loss: 0.0090 - val_loss: 5.2634e-04\n",
            "Epoch 107/150\n",
            "8/8 [==============================] - 0s 15ms/step - loss: 0.0090 - val_loss: 5.2853e-04\n",
            "Epoch 108/150\n",
            "8/8 [==============================] - 0s 14ms/step - loss: 0.0090 - val_loss: 5.3227e-04\n",
            "Epoch 109/150\n",
            "8/8 [==============================] - 0s 15ms/step - loss: 0.0090 - val_loss: 5.2922e-04\n",
            "Epoch 110/150\n",
            "8/8 [==============================] - 0s 14ms/step - loss: 0.0090 - val_loss: 5.3664e-04\n",
            "Epoch 111/150\n",
            "8/8 [==============================] - 0s 15ms/step - loss: 0.0090 - val_loss: 5.3718e-04\n",
            "Epoch 112/150\n",
            "8/8 [==============================] - 0s 14ms/step - loss: 0.0090 - val_loss: 5.3191e-04\n",
            "Epoch 113/150\n",
            "8/8 [==============================] - 0s 14ms/step - loss: 0.0090 - val_loss: 5.2110e-04\n",
            "Epoch 114/150\n",
            "8/8 [==============================] - 0s 14ms/step - loss: 0.0090 - val_loss: 5.1826e-04\n",
            "Epoch 115/150\n",
            "8/8 [==============================] - 0s 14ms/step - loss: 0.0090 - val_loss: 5.0917e-04\n",
            "Epoch 116/150\n",
            "8/8 [==============================] - 0s 15ms/step - loss: 0.0090 - val_loss: 5.0610e-04\n",
            "Epoch 117/150\n",
            "8/8 [==============================] - 0s 15ms/step - loss: 0.0090 - val_loss: 5.0125e-04\n",
            "Epoch 118/150\n",
            "8/8 [==============================] - 0s 14ms/step - loss: 0.0090 - val_loss: 4.9775e-04\n",
            "Epoch 119/150\n",
            "8/8 [==============================] - 0s 15ms/step - loss: 0.0090 - val_loss: 4.9695e-04\n",
            "Epoch 120/150\n",
            "8/8 [==============================] - 0s 15ms/step - loss: 0.0090 - val_loss: 5.0203e-04\n",
            "Epoch 121/150\n",
            "8/8 [==============================] - 0s 14ms/step - loss: 0.0090 - val_loss: 5.0562e-04\n",
            "Epoch 122/150\n",
            "8/8 [==============================] - 0s 14ms/step - loss: 0.0090 - val_loss: 5.0647e-04\n",
            "Epoch 123/150\n",
            "8/8 [==============================] - 0s 14ms/step - loss: 0.0090 - val_loss: 5.1215e-04\n",
            "Epoch 124/150\n",
            "8/8 [==============================] - 0s 15ms/step - loss: 0.0090 - val_loss: 5.1581e-04\n",
            "Epoch 125/150\n",
            "8/8 [==============================] - 0s 15ms/step - loss: 0.0090 - val_loss: 5.1675e-04\n",
            "Epoch 126/150\n",
            "8/8 [==============================] - 0s 16ms/step - loss: 0.0090 - val_loss: 5.2042e-04\n",
            "Epoch 127/150\n",
            "8/8 [==============================] - 0s 15ms/step - loss: 0.0090 - val_loss: 5.2261e-04\n",
            "Epoch 128/150\n",
            "8/8 [==============================] - 0s 15ms/step - loss: 0.0090 - val_loss: 5.2534e-04\n",
            "Epoch 129/150\n",
            "8/8 [==============================] - 0s 15ms/step - loss: 0.0090 - val_loss: 5.2556e-04\n",
            "Epoch 130/150\n",
            "8/8 [==============================] - 0s 15ms/step - loss: 0.0090 - val_loss: 5.2593e-04\n",
            "Epoch 131/150\n",
            "8/8 [==============================] - 0s 15ms/step - loss: 0.0090 - val_loss: 5.2458e-04\n",
            "Epoch 132/150\n",
            "8/8 [==============================] - 0s 15ms/step - loss: 0.0090 - val_loss: 5.2455e-04\n",
            "Epoch 133/150\n",
            "8/8 [==============================] - 0s 14ms/step - loss: 0.0090 - val_loss: 5.1962e-04\n",
            "Epoch 134/150\n",
            "8/8 [==============================] - 0s 15ms/step - loss: 0.0090 - val_loss: 5.1768e-04\n",
            "Epoch 135/150\n",
            "8/8 [==============================] - 0s 15ms/step - loss: 0.0090 - val_loss: 5.1322e-04\n",
            "Epoch 136/150\n",
            "8/8 [==============================] - 0s 15ms/step - loss: 0.0090 - val_loss: 5.1165e-04\n",
            "Epoch 137/150\n",
            "8/8 [==============================] - 0s 15ms/step - loss: 0.0090 - val_loss: 5.0956e-04\n",
            "Epoch 138/150\n",
            "8/8 [==============================] - 0s 15ms/step - loss: 0.0090 - val_loss: 5.1179e-04\n",
            "Epoch 139/150\n",
            "8/8 [==============================] - 0s 15ms/step - loss: 0.0090 - val_loss: 5.1709e-04\n",
            "Epoch 140/150\n",
            "8/8 [==============================] - 0s 15ms/step - loss: 0.0090 - val_loss: 5.1916e-04\n",
            "Epoch 141/150\n",
            "8/8 [==============================] - 0s 15ms/step - loss: 0.0090 - val_loss: 5.1813e-04\n",
            "Epoch 142/150\n",
            "8/8 [==============================] - 0s 15ms/step - loss: 0.0090 - val_loss: 5.1483e-04\n",
            "Epoch 143/150\n",
            "8/8 [==============================] - 0s 15ms/step - loss: 0.0090 - val_loss: 5.2041e-04\n",
            "Epoch 144/150\n",
            "8/8 [==============================] - 0s 15ms/step - loss: 0.0090 - val_loss: 5.2733e-04\n",
            "Epoch 145/150\n",
            "8/8 [==============================] - 0s 15ms/step - loss: 0.0090 - val_loss: 5.2577e-04\n",
            "Epoch 146/150\n",
            "8/8 [==============================] - 0s 15ms/step - loss: 0.0090 - val_loss: 5.2844e-04\n",
            "Epoch 147/150\n",
            "8/8 [==============================] - 0s 15ms/step - loss: 0.0090 - val_loss: 5.2966e-04\n",
            "Epoch 148/150\n",
            "8/8 [==============================] - 0s 15ms/step - loss: 0.0090 - val_loss: 5.3729e-04\n",
            "Epoch 149/150\n",
            "8/8 [==============================] - 0s 21ms/step - loss: 0.0090 - val_loss: 5.4216e-04\n",
            "Epoch 150/150\n",
            "8/8 [==============================] - 0s 20ms/step - loss: 0.0090 - val_loss: 5.4346e-04\n"
          ]
        }
      ],
      "source": [
        "model = LSTM_model()\n",
        "history = model.fit(X_train, y_train, epochs = 150, batch_size=32, validation_split=0.1, verbose=1)"
      ]
    },
    {
      "cell_type": "code",
      "execution_count": 63,
      "id": "0fa202e8-667d-4b25-88c9-ff84b1d7e34d",
      "metadata": {
        "colab": {
          "base_uri": "https://localhost:8080/"
        },
        "id": "0fa202e8-667d-4b25-88c9-ff84b1d7e34d",
        "outputId": "b09675fa-468b-43ed-f090-d65c5dffecca"
      },
      "outputs": [
        {
          "output_type": "stream",
          "name": "stdout",
          "text": [
            "9/9 [==============================] - 0s 8ms/step - loss: 0.0082\n",
            "9/9 [==============================] - 1s 6ms/step\n"
          ]
        }
      ],
      "source": [
        "result = model.evaluate( X_test, y_test)\n",
        "y_pred = model.predict(X_test)"
      ]
    },
    {
      "cell_type": "code",
      "execution_count": 67,
      "id": "927a6460-316f-4082-9af7-5d70edae85e8",
      "metadata": {
        "id": "927a6460-316f-4082-9af7-5d70edae85e8"
      },
      "outputs": [],
      "source": [
        "MAPE = mean_absolute_percentage_error(y_test, y_pred)\n",
        "Accuracy = 1- MAPE"
      ]
    },
    {
      "cell_type": "code",
      "execution_count": 68,
      "id": "7b03e0ae-4a99-4db6-b333-5568e27bc35b",
      "metadata": {
        "colab": {
          "base_uri": "https://localhost:8080/"
        },
        "id": "7b03e0ae-4a99-4db6-b333-5568e27bc35b",
        "outputId": "876b1864-6324-4a8b-899d-45776c6b594b"
      },
      "outputs": [
        {
          "output_type": "stream",
          "name": "stdout",
          "text": [
            "Test loss 0.008153661154210567\n",
            "Test MAPE 0.09957375512945749\n",
            "Test Accuracy 0.9004262448705425\n"
          ]
        }
      ],
      "source": [
        "print('Test loss', result)\n",
        "print('Test MAPE', MAPE)\n",
        "print('Test Accuracy', Accuracy)"
      ]
    },
    {
      "cell_type": "code",
      "source": [
        "# print(history.history['val_loss'])"
      ],
      "metadata": {
        "colab": {
          "base_uri": "https://localhost:8080/"
        },
        "id": "61Ir8ewuwnxT",
        "outputId": "0d772089-4ac1-4088-e821-4df75b6d068e"
      },
      "id": "61Ir8ewuwnxT",
      "execution_count": 69,
      "outputs": [
        {
          "output_type": "stream",
          "name": "stdout",
          "text": [
            "[0.4176833927631378, 0.19953402876853943, 0.11518058180809021, 0.08577828854322433, 0.07190260291099548, 0.06236002966761589, 0.054641999304294586, 0.04806370288133621, 0.042256876826286316, 0.03710126876831055, 0.03254363313317299, 0.028504732996225357, 0.024915505200624466, 0.02167157083749771, 0.01878216676414013, 0.016283027827739716, 0.01404028944671154, 0.012099013663828373, 0.010382427833974361, 0.008929286152124405, 0.007648634258657694, 0.00653415871784091, 0.005550017114728689, 0.0047032530419528484, 0.003951601684093475, 0.003310969565063715, 0.002778715919703245, 0.0023371251299977303, 0.0019888279493898153, 0.0016943832160905004, 0.0014469033339992166, 0.001250671106390655, 0.0010917994659394026, 0.0009594519506208599, 0.000853878678753972, 0.000772099825553596, 0.0007076613837853074, 0.0006469533545896411, 0.0005993081140331924, 0.0005627010832540691, 0.0005369475693441927, 0.0005156400729902089, 0.00050239177653566, 0.0004953021416440606, 0.0004908224800601602, 0.0004889877745881677, 0.0004885062226094306, 0.0004889884730800986, 0.0004898466286249459, 0.0004916295292787254, 0.0004931011935696006, 0.0004943836247548461, 0.0004943293752148747, 0.0004962809034623206, 0.0004967260174453259, 0.000497393892146647, 0.000497984467074275, 0.0004997449577786028, 0.0005005970015190542, 0.0005010519525967538, 0.0005053257336840034, 0.0005098660476505756, 0.0005110111669637263, 0.0005112107028253376, 0.0005113010993227363, 0.000512913684360683, 0.0005154432146809995, 0.0005178485298529267, 0.0005172701785340905, 0.000516698113642633, 0.0005175654659979045, 0.0005164981703273952, 0.0005175155820325017, 0.0005200070445425808, 0.0005249865935184062, 0.000529603916220367, 0.0005271620466373861, 0.0005288181710056961, 0.0005325539386831224, 0.0005392504390329123, 0.0005453387857414782, 0.0005420427769422531, 0.0005354086752049625, 0.0005309313419274986, 0.000526636722497642, 0.0005277429590933025, 0.0005262035992927849, 0.0005257671000435948, 0.0005225934437476099, 0.0005228669615462422, 0.0005231286631897092, 0.0005275426083244383, 0.0005297336028888822, 0.0005398295470513403, 0.0005429696757346392, 0.0005435474449768662, 0.0005374893080443144, 0.0005357101908884943, 0.0005305663216859102, 0.0005318642943166196, 0.0005314914742484689, 0.0005257254233583808, 0.0005234578275121748, 0.0005243129562586546, 0.0005259332247078419, 0.0005263429484330118, 0.000528534990735352, 0.0005322726792655885, 0.0005292249261401594, 0.0005366369732655585, 0.0005371827865019441, 0.0005319081828929484, 0.0005211024545133114, 0.0005182554596103728, 0.0005091746570542455, 0.000506100244820118, 0.0005012465408071876, 0.0004977547796443105, 0.0004969463334418833, 0.000502025883179158, 0.0005056218942627311, 0.000506470212712884, 0.0005121484864503145, 0.0005158058484084904, 0.0005167470080778003, 0.000520423287525773, 0.0005226059583947062, 0.0005253389826975763, 0.0005255598807707429, 0.0005259339814074337, 0.0005245841457508504, 0.0005245515494607389, 0.000519615481607616, 0.000517680193297565, 0.0005132201476953924, 0.0005116474349051714, 0.0005095558590255678, 0.0005117859109304845, 0.0005170878721401095, 0.0005191589589230716, 0.0005181311862543225, 0.0005148299969732761, 0.0005204116459935904, 0.0005273277056403458, 0.0005257700104266405, 0.0005284390645101666, 0.0005296611925587058, 0.0005372909363359213, 0.0005421614623628557, 0.00054346420802176]\n"
          ]
        }
      ]
    },
    {
      "cell_type": "code",
      "source": [
        "train_values = history.history['loss']\n",
        "val_values = history.history['val_loss']\n",
        "\n",
        "# Generate a sequence of integers to represent the epoch numbers\n",
        "epochs = range(1, 151)\n",
        "\n",
        "# Plot and label the training and validation loss values\n",
        "plt.plot(epochs, train_values, label='Training Loss')\n",
        "plt.plot(epochs, val_values, label='Validation Loss')\n",
        "\n",
        "# Add in a title and axes labels\n",
        "plt.title('Training and Validation Loss')\n",
        "plt.xlabel('Epochs')\n",
        "plt.ylabel('Loss')\n",
        "\n",
        "# Set the tick locations\n",
        "plt.xticks(arange(0, 21, 2))\n",
        "\n",
        "# Display the plot\n",
        "plt.legend(loc='best')\n",
        "plt.show()"
      ],
      "metadata": {
        "colab": {
          "base_uri": "https://localhost:8080/",
          "height": 666
        },
        "id": "FEy-jsnswmKY",
        "outputId": "c5d970a3-6276-4f60-811c-c57d33170fc1"
      },
      "id": "FEy-jsnswmKY",
      "execution_count": 70,
      "outputs": [
        {
          "output_type": "error",
          "ename": "NameError",
          "evalue": "name 'arange' is not defined",
          "traceback": [
            "\u001b[0;31m---------------------------------------------------------------------------\u001b[0m",
            "\u001b[0;31mNameError\u001b[0m                                 Traceback (most recent call last)",
            "\u001b[0;32m<ipython-input-70-02928fe43488>\u001b[0m in \u001b[0;36m<cell line: 17>\u001b[0;34m()\u001b[0m\n\u001b[1;32m     15\u001b[0m \u001b[0;34m\u001b[0m\u001b[0m\n\u001b[1;32m     16\u001b[0m \u001b[0;31m# Set the tick locations\u001b[0m\u001b[0;34m\u001b[0m\u001b[0;34m\u001b[0m\u001b[0m\n\u001b[0;32m---> 17\u001b[0;31m \u001b[0mplt\u001b[0m\u001b[0;34m.\u001b[0m\u001b[0mxticks\u001b[0m\u001b[0;34m(\u001b[0m\u001b[0marange\u001b[0m\u001b[0;34m(\u001b[0m\u001b[0;36m0\u001b[0m\u001b[0;34m,\u001b[0m \u001b[0;36m21\u001b[0m\u001b[0;34m,\u001b[0m \u001b[0;36m2\u001b[0m\u001b[0;34m)\u001b[0m\u001b[0;34m)\u001b[0m\u001b[0;34m\u001b[0m\u001b[0;34m\u001b[0m\u001b[0m\n\u001b[0m\u001b[1;32m     18\u001b[0m \u001b[0;34m\u001b[0m\u001b[0m\n\u001b[1;32m     19\u001b[0m \u001b[0;31m# Display the plot\u001b[0m\u001b[0;34m\u001b[0m\u001b[0;34m\u001b[0m\u001b[0m\n",
            "\u001b[0;31mNameError\u001b[0m: name 'arange' is not defined"
          ]
        },
        {
          "output_type": "display_data",
          "data": {
            "text/plain": [
              "<Figure size 640x480 with 1 Axes>"
            ],
            "image/png": "[encoded data removed]"
          },
          "metadata": {}
        }
      ]
    },
    {
      "cell_type": "code",
      "execution_count": 71,
      "id": "e980617e-eaa3-4fb9-a5b2-ac3d2a2bceb8",
      "metadata": {
        "id": "e980617e-eaa3-4fb9-a5b2-ac3d2a2bceb8"
      },
      "outputs": [],
      "source": [
        "y_test_true = scaler.inverse_transform(y_test)\n",
        "y_test_pred = scaler.inverse_transform(y_pred)"
      ]
    },
    {
      "cell_type": "code",
      "execution_count": 75,
      "id": "be240c1a-a321-44ed-9ea8-8ad15cacd949",
      "metadata": {
        "colab": {
          "base_uri": "https://localhost:8080/",
          "height": 211
        },
        "id": "be240c1a-a321-44ed-9ea8-8ad15cacd949",
        "outputId": "83af826b-85b8-4121-f477-9d52fe4eb013"
      },
      "outputs": [
        {
          "output_type": "error",
          "ename": "SyntaxError",
          "evalue": "invalid syntax (<ipython-input-75-30d67a2d993c>, line 4)",
          "traceback": [
            "\u001b[0;31m---------------------------------------------------------------------------\u001b[0m",
            "\u001b[0;31mSyntaxError\u001b[0m                               Traceback (most recent call last)",
            "\u001b[0;32m/usr/local/lib/python3.10/dist-packages/IPython/core/compilerop.py\u001b[0m in \u001b[0;36mast_parse\u001b[0;34m(self, source, filename, symbol)\u001b[0m\n\u001b[1;32m     99\u001b[0m         \u001b[0mArguments\u001b[0m \u001b[0mare\u001b[0m \u001b[0mexactly\u001b[0m \u001b[0mthe\u001b[0m \u001b[0msame\u001b[0m \u001b[0;32mas\u001b[0m \u001b[0mast\u001b[0m\u001b[0;34m.\u001b[0m\u001b[0mparse\u001b[0m \u001b[0;34m(\u001b[0m\u001b[0;32min\u001b[0m \u001b[0mthe\u001b[0m \u001b[0mstandard\u001b[0m \u001b[0mlibrary\u001b[0m\u001b[0;34m)\u001b[0m\u001b[0;34m,\u001b[0m\u001b[0;34m\u001b[0m\u001b[0;34m\u001b[0m\u001b[0m\n\u001b[1;32m    100\u001b[0m         and are passed to the built-in compile function.\"\"\"\n\u001b[0;32m--> 101\u001b[0;31m         \u001b[0;32mreturn\u001b[0m \u001b[0mcompile\u001b[0m\u001b[0;34m(\u001b[0m\u001b[0msource\u001b[0m\u001b[0;34m,\u001b[0m \u001b[0mfilename\u001b[0m\u001b[0;34m,\u001b[0m \u001b[0msymbol\u001b[0m\u001b[0;34m,\u001b[0m \u001b[0mself\u001b[0m\u001b[0;34m.\u001b[0m\u001b[0mflags\u001b[0m \u001b[0;34m|\u001b[0m \u001b[0mPyCF_ONLY_AST\u001b[0m\u001b[0;34m,\u001b[0m \u001b[0;36m1\u001b[0m\u001b[0;34m)\u001b[0m\u001b[0;34m\u001b[0m\u001b[0;34m\u001b[0m\u001b[0m\n\u001b[0m\u001b[1;32m    102\u001b[0m \u001b[0;34m\u001b[0m\u001b[0m\n\u001b[1;32m    103\u001b[0m     \u001b[0;32mdef\u001b[0m \u001b[0mreset_compiler_flags\u001b[0m\u001b[0;34m(\u001b[0m\u001b[0mself\u001b[0m\u001b[0;34m)\u001b[0m\u001b[0;34m:\u001b[0m\u001b[0;34m\u001b[0m\u001b[0;34m\u001b[0m\u001b[0m\n",
            "\u001b[0;31mSyntaxError\u001b[0m: invalid syntax (<ipython-input-75-30d67a2d993c>, line 4)"
          ]
        }
      ],
      "source": [
        "plt.figure(figsize=(8,4), dpi=150)\n",
        "plt.rcParams['axes.facecolor']= 'cyan'\n",
        "plt.rc('axes', edgecolor='white')\n",
        "plt.plot(df.['Date'].iloc[:-test_size], scaler.inverse_transform(train_data),color='black', lw=2)\n",
        "plt.plot(df.['Date'].iloc[-test_size:], y_test_true, color='green', lw=2)\n",
        "plt.plot(df.['Date'].iloc[-test_size:], y_test_pred, color='red', lw=2)\n",
        "plt.title('Model performance ', fontsize=15)\n",
        "plt.xlabel('Date',fontsize=12)\n",
        "plt.ylabel('Price',fontsize=12)\n",
        "plt.legend(['Train data', 'Actuale test data', 'Predicted data'], loc='upper left', prop={'size':15})\n",
        "\n",
        "plt.grid(color='white')\n",
        "plt.show"
      ]
    },
    {
      "cell_type": "code",
      "execution_count": null,
      "id": "2b091b6c-778f-4c11-bce8-33c70ceec65f",
      "metadata": {
        "id": "2b091b6c-778f-4c11-bce8-33c70ceec65f"
      },
      "outputs": [],
      "source": [
        "sddd"
      ]
    }
  ],
  "metadata": {
    "kernelspec": {
      "display_name": "Python 3",
      "name": "python3"
    },
    "language_info": {
      "codemirror_mode": {
        "name": "ipython",
        "version": 3
      },
      "file_extension": ".py",
      "mimetype": "text/x-python",
      "name": "python",
      "nbconvert_exporter": "python",
      "pygments_lexer": "ipython3",
      "version": "3.9.0"
    },
    "colab": {
      "provenance": [],
      "gpuType": "T4"
    },
    "accelerator": "GPU"
  },
  "nbformat": 4,
  "nbformat_minor": 5
}